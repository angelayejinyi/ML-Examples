{
 "cells": [
  {
   "cell_type": "markdown",
   "metadata": {},
   "source": [
    "<center><h1>Ye_Jinyi_HW7</h1></center>"
   ]
  },
  {
   "attachments": {},
   "cell_type": "markdown",
   "metadata": {},
   "source": [
    "Name: Jinyi Ye\n",
    "<br>\n",
    "Github Username: angelayejinyi\n",
    "<br>\n",
    "USC ID: 1552624974\n",
    "<br>\n",
    "Late Days: 4"
   ]
  },
  {
   "cell_type": "markdown",
   "metadata": {},
   "source": [
    "## 1. Multi-class and Multi-Label Classification Using Support Vector Machines"
   ]
  },
  {
   "cell_type": "markdown",
   "metadata": {},
   "source": [
    "Import packages"
   ]
  },
  {
   "cell_type": "code",
   "execution_count": 19,
   "metadata": {},
   "outputs": [],
   "source": [
    "import numpy as np\n",
    "import pandas as pd\n",
    "import matplotlib.pyplot as plt\n",
    "from IPython.display import Image"
   ]
  },
  {
   "cell_type": "markdown",
   "metadata": {},
   "source": [
    "### (a) Download the Anuran Calls (MFCCs) Data Set"
   ]
  },
  {
   "cell_type": "code",
   "execution_count": 2,
   "metadata": {},
   "outputs": [],
   "source": [
    "from sklearn.model_selection import train_test_split\n",
    "from sklearn.preprocessing import LabelEncoder\n",
    "\n",
    "df = pd.read_csv('../data/Frogs_MFCCs.csv')\n",
    "\n",
    "# encode the labels in the dataset\n",
    "df = df.iloc[:,:-1]\n",
    "cols = ['Family', 'Genus', 'Species']\n",
    "le = LabelEncoder()\n",
    "for col in cols:\n",
    "    le.fit(df[col])\n",
    "    col_encoded = le.transform(df[col])\n",
    "    df[col] = col_encoded\n",
    "\n",
    "# select 70% randomly as training set\n",
    "train_df, test_df = train_test_split(df, test_size=0.3, random_state=42)"
   ]
  },
  {
   "cell_type": "markdown",
   "metadata": {},
   "source": [
    "### (b) Train a classifier for each label"
   ]
  },
  {
   "cell_type": "markdown",
   "metadata": {},
   "source": [
    "#### (i) Research"
   ]
  },
  {
   "cell_type": "markdown",
   "metadata": {},
   "source": [
    "<b>Exact match (also known as subset accuracy)</b> evaluates the percentage of samples in which all the predicted labels exactly match the true labels. A prediction is only considered correct if it matches all the labels in the ground truth set. The formula for exact match is: \n",
    "\n",
    "$$\n",
    "\\text{exact match} = (\\text{number of samples with all labels correctly predicted}) / (\\text{total number of samples})\n",
    "$$\n",
    "\n",
    "<b>Hamming score/loss</b> is a metric that evaluates the average number of labels that are incorrectly predicted per sample. The Hamming score is the complement of the Hamming loss. Hamming score is defined as follows:\n",
    "\n",
    "$$\n",
    "\\text{hamming score} = (\\text{number of correctly predicted labels}) / (\\text{total number of labels})\n",
    "$$\n",
    "\n",
    "And the Hamming loss is defined as:\n",
    "\n",
    "$$\n",
    "\\text{hamming loss} = (\\text{number of incorrectly predicted labels}) / (\\text{total number of labels})\n",
    "$$\n",
    "\n",
    "In both cases, a higher value indicates better performance. Exact match is more suitable when the dataset is highly imbalanced, while Hamming score/loss is more appropriate when the dataset is balanced."
   ]
  },
  {
   "cell_type": "markdown",
   "metadata": {},
   "source": [
    "#### (ii) Train a SVM for each of the labels"
   ]
  },
  {
   "cell_type": "code",
   "execution_count": 3,
   "metadata": {},
   "outputs": [],
   "source": [
    "from sklearn.multiclass import OneVsRestClassifier\n",
    "from sklearn.model_selection import GridSearchCV\n",
    "from sklearn.metrics import accuracy_score, hamming_loss, make_scorer\n",
    "from sklearn.svm import SVC\n",
    "from sklearn.preprocessing import StandardScaler"
   ]
  },
  {
   "cell_type": "markdown",
   "metadata": {},
   "source": [
    "First, we experiment with combinations of very small and very large λ’s and σ’s and assess the accuracy, in order to get a set of λ’s and σ’s for cross validation."
   ]
  },
  {
   "cell_type": "code",
   "execution_count": 4,
   "metadata": {},
   "outputs": [
    {
     "name": "stdout",
     "output_type": "stream",
     "text": [
      "For the label Family :\n",
      "Accuracy score for first model: 0.992\n",
      "Accuracy score for second model: 0.926\n",
      "For the label Genus :\n",
      "Accuracy score for first model: 0.988\n",
      "Accuracy score for second model: 0.884\n",
      "For the label Species :\n",
      "Accuracy score for first model: 0.990\n",
      "Accuracy score for second model: 0.890\n"
     ]
    }
   ],
   "source": [
    "for col in cols:\n",
    "    X_train = train_df.drop(cols, axis=1)\n",
    "    y_train = train_df[col]\n",
    "    X_test = test_df.drop(cols, axis=1)\n",
    "    y_test = test_df[col]\n",
    "\n",
    "    print('For the label', col, ':')\n",
    "\n",
    "    svm_try1 = SVC(kernel='rbf', C=1000000, gamma=0.1) # large penalty, simple decision boundary\n",
    "    ovr_try1 = OneVsRestClassifier(svm_try1)\n",
    "    ovr_try1.fit(X_train, y_train)\n",
    "    y_pred = ovr_try1.predict(X_test)\n",
    "    acc = accuracy_score(y_test, y_pred)\n",
    "    print(\"Accuracy score for first model: {:.3f}\".format(acc))\n",
    "\n",
    "    svm_try2 = SVC(kernel='rbf', C=0.01, gamma=2) # small penalty, complex decision boundary\n",
    "    ovr_try2 = OneVsRestClassifier(svm_try2)\n",
    "    ovr_try2.fit(X_train, y_train)\n",
    "    y_pred = ovr_try2.predict(X_test)\n",
    "    acc = accuracy_score(y_test, y_pred)\n",
    "    print(\"Accuracy score for second model: {:.3f}\".format(acc))"
   ]
  },
  {
   "cell_type": "markdown",
   "metadata": {},
   "source": [
    "As the above analysis shows, the accuracy of a support vector machine will not be below 70% for λ = 0.01 and λ = 1000000, we can choose log(λ) ∈ {−2,...,4,5,6}. For the Gaussian Kernel parameter, we can choose linear increments σ ∈ {.2, .4, . . . , 2}."
   ]
  },
  {
   "cell_type": "code",
   "execution_count": 4,
   "metadata": {},
   "outputs": [],
   "source": [
    "X_train = train_df.drop(cols, axis=1)\n",
    "y_train = train_df[cols]\n",
    "X_test = test_df.drop(cols, axis=1)\n",
    "y_test = test_df[cols]\n",
    "\n",
    "param_grid = {\n",
    "        'C': [0.01, 0.1, 1, 10, 100, 1000, 10000, 100000, 1000000],\n",
    "        'gamma': [0.2, 0.4, 0.6, 0.8, 1.0, 1.2, 1.4, 1.6, 1.8, 2.0]\n",
    "    }\n",
    "\n",
    "def svm_gaussian(X_train, y_train, param_grid):\n",
    "    \n",
    "    # initialize and train the SVM classifiers for each label\n",
    "    svm_classifiers = [SVC(kernel='rbf', C=1, gamma=1, decision_function_shape='ovr') for _ in range(y_train.shape[1])]\n",
    "\n",
    "    for i, clf in enumerate(svm_classifiers):\n",
    "        print(f'Training SVM for label {cols[i]}')\n",
    "        y_label_train = y_train.iloc[:, i]\n",
    "        scorer = make_scorer(hamming_loss, greater_is_better=False)\n",
    "        grid_search = GridSearchCV(clf, param_grid, scoring=scorer, cv=10, n_jobs=-1)\n",
    "        grid_search.fit(X_train, y_label_train)\n",
    "        print(f'Best parameters: {grid_search.best_params_}')\n",
    "        svm_classifiers[i] = grid_search.best_estimator_\n",
    "    \n",
    "    return svm_classifiers"
   ]
  },
  {
   "cell_type": "markdown",
   "metadata": {},
   "source": [
    "First, we try with unstandardized features. We report exact match and hamming loss of the prediction of three models."
   ]
  },
  {
   "cell_type": "code",
   "execution_count": 22,
   "metadata": {},
   "outputs": [
    {
     "name": "stdout",
     "output_type": "stream",
     "text": [
      "Training SVM for label Family\n",
      "Best parameters: {'C': 10, 'gamma': 2.0}\n",
      "Training SVM for label Genus\n",
      "Best parameters: {'C': 100, 'gamma': 1.6}\n",
      "Training SVM for label Species\n",
      "Best parameters: {'C': 10, 'gamma': 1.8}\n"
     ]
    },
    {
     "data": {
      "text/plain": [
       "[SVC(C=10, gamma=2.0), SVC(C=100, gamma=1.6), SVC(C=10, gamma=1.8)]"
      ]
     },
     "execution_count": 22,
     "metadata": {},
     "output_type": "execute_result"
    }
   ],
   "source": [
    "# get the best parameters\n",
    "svm_gaussian(X_train, y_train, param_grid)"
   ]
  },
  {
   "cell_type": "code",
   "execution_count": 33,
   "metadata": {},
   "outputs": [
    {
     "name": "stdout",
     "output_type": "stream",
     "text": [
      "Train set accuracy - Exact match: 0.99980, Hamming loss: 0.99987\n",
      "Test set accuracy - Exact match: 0.98749, Hamming loss: 0.99166\n"
     ]
    }
   ],
   "source": [
    "# fit data, predict and calculate loss\n",
    "svm_classifiers = [SVC(kernel='rbf', C=10, gamma=2.0, decision_function_shape='ovr'),\n",
    "                   SVC(kernel='rbf', C=100, gamma=1.6, decision_function_shape='ovr'),\n",
    "                   SVC(kernel='rbf', C=10, gamma=1.8, decision_function_shape='ovr')]\n",
    "\n",
    "# define a function to calculate loss\n",
    "def svm_performance(svm_classifiers, X_train, X_test):\n",
    "    y_train_pred = []\n",
    "    y_test_pred = []\n",
    "\n",
    "    for i, clf in enumerate(svm_classifiers):\n",
    "        y_label_train = y_train.iloc[:, i]\n",
    "        clf.fit(X_train, y_label_train)\n",
    "        y_train_pred.append(clf.predict(X_train))\n",
    "        y_test_pred.append(clf.predict(X_test))\n",
    "\n",
    "    y_train_pred = np.array(y_train_pred).T\n",
    "    y_test_pred = np.array(y_test_pred).T\n",
    "\n",
    "    exact_match_train = np.all(y_train == y_train_pred, axis=1).mean()\n",
    "    hamming_loss_train = np.mean(np.not_equal(np.array(y_train), y_train_pred))\n",
    "    print(\"Train set accuracy - Exact match: {:.5f}, Hamming loss: {:.5f}\".format(exact_match_train, 1 - hamming_loss_train))\n",
    "\n",
    "    exact_match_test = np.all(y_test == y_test_pred, axis=1).mean()\n",
    "    hamming_loss_test = np.mean(np.not_equal(np.array(y_test), y_test_pred))\n",
    "    print(\"Test set accuracy - Exact match: {:.5f}, Hamming loss: {:.5f}\".format(exact_match_test, 1 - hamming_loss_test))\n",
    "\n",
    "svm_performance(svm_classifiers, X_train, X_test)"
   ]
  },
  {
   "cell_type": "markdown",
   "metadata": {},
   "source": [
    "Next, we try with standardized features. We report exact match and hamming loss of the prediction of three models."
   ]
  },
  {
   "cell_type": "code",
   "execution_count": 5,
   "metadata": {},
   "outputs": [],
   "source": [
    "# standardize features\n",
    "scaler = StandardScaler()\n",
    "scaler.fit(X_train)\n",
    "X_train_standardized = scaler.transform(X_train)\n",
    "X_train_standardized = pd.DataFrame(X_train_standardized, columns=X_train.columns)\n",
    "\n",
    "scaler.fit(X_test)\n",
    "X_test_standardized = scaler.transform(X_test)\n",
    "X_test_standardized = pd.DataFrame(X_test_standardized, columns=X_test.columns)"
   ]
  },
  {
   "cell_type": "code",
   "execution_count": 9,
   "metadata": {},
   "outputs": [
    {
     "name": "stdout",
     "output_type": "stream",
     "text": [
      "Training SVM for label Family\n",
      "Best parameters: {'C': 10, 'gamma': 0.2}\n",
      "Training SVM for label Genus\n",
      "Best parameters: {'C': 10, 'gamma': 0.2}\n",
      "Training SVM for label Species\n",
      "Best parameters: {'C': 10, 'gamma': 0.2}\n"
     ]
    },
    {
     "data": {
      "text/plain": [
       "[SVC(C=10, gamma=0.2), SVC(C=10, gamma=0.2), SVC(C=10, gamma=0.2)]"
      ]
     },
     "execution_count": 9,
     "metadata": {},
     "output_type": "execute_result"
    }
   ],
   "source": [
    "# get the best parameters\n",
    "param_grid = {\n",
    "        'C': [1, 10, 100, 1000, 10000, 100000, 1000000],\n",
    "        'gamma': [0.2, 0.4, 0.6, 0.8, 1.0, 1.2, 1.4, 1.6, 1.8, 2.0]\n",
    "    }\n",
    "\n",
    "svm_gaussian(X_train_standardized, y_train, param_grid)"
   ]
  },
  {
   "cell_type": "code",
   "execution_count": 34,
   "metadata": {},
   "outputs": [
    {
     "name": "stdout",
     "output_type": "stream",
     "text": [
      "Train set accuracy - Exact match: 1.00000, Hamming loss: 1.00000\n",
      "Test set accuracy - Exact match: 0.97175, Hamming loss: 0.97993\n"
     ]
    }
   ],
   "source": [
    "# fit data, predict and calculate loss\n",
    "svm_classifiers2 = [SVC(kernel='rbf', C=10, gamma=0.2, decision_function_shape='ovr'),\n",
    "                   SVC(kernel='rbf', C=10, gamma=0.2, decision_function_shape='ovr'),\n",
    "                   SVC(kernel='rbf', C=10, gamma=0.2, decision_function_shape='ovr')]\n",
    "\n",
    "svm_performance(svm_classifiers2, X_train_standardized, X_test_standardized)"
   ]
  },
  {
   "cell_type": "markdown",
   "metadata": {},
   "source": [
    "In this case, we can observe that the model performs better on test data with non-standardized features for both exact match and hamming loss metrics. The reason may be that if the data is already normalized, standardizing the data can introduce additional noise or variability. This can also cause the model to overfit the training data with the noise, as can be seen in the 1.00000 train set accuracy for the model using standardized features."
   ]
  },
  {
   "cell_type": "markdown",
   "metadata": {},
   "source": [
    "#### (iii) Repeat 1(b)ii with L1-penalized SVMs"
   ]
  },
  {
   "cell_type": "code",
   "execution_count": 8,
   "metadata": {},
   "outputs": [],
   "source": [
    "from sklearn.svm import LinearSVC\n",
    "\n",
    "def svm_linear(X_train, y_train, param_grid):\n",
    "    \n",
    "    # initialize and train the SVM classifiers for each label\n",
    "    svm_classifiers = [OneVsRestClassifier(LinearSVC(penalty='l1', dual=False, random_state=42, max_iter=50000)) for _ in range(y_train.shape[1])]\n",
    "\n",
    "    for i, clf in enumerate(svm_classifiers):\n",
    "        print(f'Training SVM for label {cols[i]}')\n",
    "        y_label_train = y_train.iloc[:, i]\n",
    "        scorer = make_scorer(hamming_loss, greater_is_better=False)\n",
    "        grid_search = GridSearchCV(clf, param_grid, scoring=scorer, cv=10, n_jobs=-1)\n",
    "        grid_search.fit(X_train, y_label_train)\n",
    "        print(f'Best parameters: {grid_search.best_params_}')\n",
    "        svm_classifiers[i] = grid_search.best_estimator_"
   ]
  },
  {
   "cell_type": "code",
   "execution_count": 27,
   "metadata": {},
   "outputs": [
    {
     "name": "stdout",
     "output_type": "stream",
     "text": [
      "Training SVM for label Family\n",
      "Best parameters: {'estimator__C': 1}\n",
      "Training SVM for label Genus\n",
      "Best parameters: {'estimator__C': 10}\n",
      "Training SVM for label Species\n",
      "Best parameters: {'estimator__C': 10}\n"
     ]
    }
   ],
   "source": [
    "# get the best parameters\n",
    "param_grid = {\n",
    "        'estimator__C': [0.01, 0.1, 1, 10, 100, 1000, 10000, 100000]\n",
    "    }\n",
    "\n",
    "svm_linear(X_train_standardized, y_train, param_grid)"
   ]
  },
  {
   "cell_type": "code",
   "execution_count": 35,
   "metadata": {},
   "outputs": [
    {
     "name": "stdout",
     "output_type": "stream",
     "text": [
      "Train set accuracy - Exact match: 0.92454, Hamming loss: 0.95453\n",
      "Test set accuracy - Exact match: 0.90922, Hamming loss: 0.94133\n"
     ]
    }
   ],
   "source": [
    "svm_classifiers3 = [OneVsRestClassifier(LinearSVC(C=1, penalty='l1', dual=False, random_state=42, max_iter=50000)),\n",
    "                   OneVsRestClassifier(LinearSVC(C=10, penalty='l1', dual=False, random_state=42, max_iter=50000)),\n",
    "                   OneVsRestClassifier(LinearSVC(C=10, penalty='l1', dual=False, random_state=42, max_iter=50000))]\n",
    "\n",
    "svm_performance(svm_classifiers3, X_train_standardized, X_test_standardized)"
   ]
  },
  {
   "cell_type": "markdown",
   "metadata": {},
   "source": [
    "We can see that for this dataset, L1 penalty and linear kernel result in lower classification accuracy compared to the Gaussian kernel. The reason can be: 1) The linear kernel only allows for linear decision boundaries, while the Gaussian kernel can model non-linear decision boundaries more effectively, the data in this dataset might not be linearly separable, 2) While L1 penalty encourages sparsity in the feature weights, it may also remove some relevant features along with the irrelevant ones. "
   ]
  },
  {
   "cell_type": "markdown",
   "metadata": {},
   "source": [
    "#### (iv) Repeat 1(b)iii by using SMOTE or any other method for imbalance"
   ]
  },
  {
   "cell_type": "code",
   "execution_count": 19,
   "metadata": {},
   "outputs": [],
   "source": [
    "from imblearn.over_sampling import SMOTE\n",
    "\n",
    "# write a function using SMOTE on train data and evaluate performance\n",
    "def svm_linear_smote(X_train, y_train, X_test, y_test, param_grid):\n",
    "    \n",
    "    # initialize and train the SVM classifiers for each label\n",
    "    svm_classifiers = [OneVsRestClassifier(LinearSVC(penalty='l1', dual=False, random_state=42, max_iter=50000)) for _ in range(y_train.shape[1])]\n",
    "\n",
    "    y_test_pred = []\n",
    "    hamming_loss_score = []\n",
    "    \n",
    "    for i, clf in enumerate(svm_classifiers):\n",
    "        print(f'Training SVM for label {cols[i]}')\n",
    "        y_label_train = y_train.iloc[:, i]\n",
    "        # Apply SMOTE to the train data\n",
    "        smote = SMOTE(random_state=42)\n",
    "        X_train_resampled, y_train_resampled = smote.fit_resample(X_train, y_label_train)\n",
    "        scorer = make_scorer(hamming_loss, greater_is_better=False)\n",
    "        grid_search = GridSearchCV(clf, param_grid, scoring=scorer, cv=10, n_jobs=-1)\n",
    "        grid_search.fit(X_train_resampled, y_train_resampled)\n",
    "        print(f'Best parameters: {grid_search.best_params_}')\n",
    "        svm_classifiers[i] = grid_search.best_estimator_\n",
    "        \n",
    "        final_model = OneVsRestClassifier(LinearSVC(penalty='l1', C=grid_search.best_params_['estimator__C'],\n",
    "                                                   dual=False, random_state=42, max_iter=50000))\n",
    "        final_model.fit(X_train_resampled, y_train_resampled)\n",
    "        y_train_pred = final_model.predict(X_train_resampled)\n",
    "        y_test_pred.append(final_model.predict(X_test))\n",
    "        hamming_loss_score.append(hamming_loss(y_train_resampled, np.array(y_train_pred).T))\n",
    "    \n",
    "    y_test_pred = np.array(y_test_pred).T\n",
    "    \n",
    "    hamming_loss_train = np.mean(hamming_loss_score)\n",
    "    print(\"Train set accuracy - Hamming loss: {:.5f}\".format(1 - hamming_loss_train))\n",
    "\n",
    "    exact_match_test = np.all(y_test == y_test_pred, axis=1).mean()\n",
    "    hamming_loss_test = np.mean(np.not_equal(np.array(y_test), y_test_pred))\n",
    "    print(\"Test set accuracy - Exact match: {:.5f}, Hamming loss: {:.5f}\".format(exact_match_test, 1 - hamming_loss_test))"
   ]
  },
  {
   "cell_type": "code",
   "execution_count": 20,
   "metadata": {},
   "outputs": [
    {
     "name": "stdout",
     "output_type": "stream",
     "text": [
      "Training SVM for label Family\n",
      "Best parameters: {'estimator__C': 100}\n",
      "Training SVM for label Genus\n",
      "Best parameters: {'estimator__C': 100}\n",
      "Training SVM for label Species\n",
      "Best parameters: {'estimator__C': 1000}\n",
      "Train set accuracy - Hamming loss: 0.95947\n",
      "Test set accuracy - Exact match: 0.86614, Hamming loss: 0.92697\n"
     ]
    }
   ],
   "source": [
    "# get the best parameters and model accuracy\n",
    "param_grid = {\n",
    "        'estimator__C': [0.01, 0.1, 1, 10, 100, 1000, 10000, 100000]\n",
    "    }\n",
    "\n",
    "svm_linear_smote(X_train_standardized, y_train, X_test_standardized, y_test, param_grid)"
   ]
  },
  {
   "cell_type": "markdown",
   "metadata": {},
   "source": [
    "We can observe that test accuracy is lower after applying SMOTE to the training data. This may be due to overfitting to the synthetic samples, which may not be representative of the true distribution of the data."
   ]
  },
  {
   "cell_type": "markdown",
   "metadata": {},
   "source": [
    "## 2. K-Means Clustering on a Multi-Class and Multi-Label Data Set"
   ]
  },
  {
   "cell_type": "code",
   "execution_count": 3,
   "metadata": {},
   "outputs": [
    {
     "name": "stdout",
     "output_type": "stream",
     "text": [
      "Best K: 4\n"
     ]
    }
   ],
   "source": [
    "from sklearn.cluster import KMeans\n",
    "from sklearn.metrics import silhouette_score\n",
    "\n",
    "# use whole dataset for X and y\n",
    "X = df.drop(cols, axis=1)\n",
    "y = df[cols]\n",
    "\n",
    "# Define range of k values to try\n",
    "k_values = range(2, 51) \n",
    "silhouette_scores = []\n",
    "\n",
    "for k in k_values:\n",
    "    kmeans = KMeans(n_clusters=k, random_state=42)\n",
    "    kmeans.fit(X)\n",
    "    score = silhouette_score(X, kmeans.labels_)\n",
    "    silhouette_scores.append(score)\n",
    "\n",
    "# Get the best k\n",
    "chosen_k = np.argmax(silhouette_scores) + 2\n",
    "kmeans = KMeans(n_clusters=chosen_k, random_state=42)\n",
    "kmeans.fit(X)\n",
    "print(f'Best K: {chosen_k}')"
   ]
  },
  {
   "cell_type": "code",
   "execution_count": 4,
   "metadata": {},
   "outputs": [
    {
     "data": {
      "image/png": "[encoded data removed]",
      "text/plain": [
       "<Figure size 432x288 with 1 Axes>"
      ]
     },
     "metadata": {
      "needs_background": "light"
     },
     "output_type": "display_data"
    }
   ],
   "source": [
    "# Plot the silhouette score as a function of k\n",
    "plt.plot(k_values, silhouette_scores)\n",
    "plt.xlabel('Number of clusters (k)')\n",
    "plt.ylabel('Silhouette score')\n",
    "plt.title('Silhouette score plot for k-means clustering')\n",
    "plt.show()"
   ]
  },
  {
   "cell_type": "markdown",
   "metadata": {},
   "source": [
    "### (b) Determine which family/genus/species is the majority in each cluster"
   ]
  },
  {
   "cell_type": "code",
   "execution_count": 5,
   "metadata": {},
   "outputs": [],
   "source": [
    "# Get the unique labels (families, genus, and species)\n",
    "unique_families = np.unique(df['Family'])\n",
    "unique_genus = np.unique(df['Genus'])\n",
    "unique_species = np.unique(df['Species'])\n",
    "\n",
    "# Iterate over each cluster and determine the majority label for each level\n",
    "majority_families_lst = []\n",
    "majority_genus_lst = []\n",
    "majority_species_lst = []\n",
    "\n",
    "for cluster in range(4):\n",
    "    # Get the indices of samples in this cluster\n",
    "    cluster_indices = np.where(kmeans.labels_ == cluster)[0]\n",
    "    \n",
    "    # Get the true labels of the samples in this cluster\n",
    "    cluster_labels = y.iloc[cluster_indices]\n",
    "    \n",
    "    # Count the occurrences of each label at the family level\n",
    "    family_counts = np.zeros(len(unique_families))\n",
    "    for i, family in enumerate(unique_families):\n",
    "        family_counts[i] = np.sum(cluster_labels['Family'] == family)\n",
    "    majority_family = unique_families[np.argmax(family_counts)]\n",
    "    majority_families_lst.append(majority_family)\n",
    "    \n",
    "    # Count the occurrences of each label at the genus level\n",
    "    genus_counts = np.zeros(len(unique_genus))\n",
    "    for i, genus in enumerate(unique_genus):\n",
    "        genus_counts[i] = np.sum(cluster_labels['Genus'] == genus)\n",
    "    majority_genus = unique_genus[np.argmax(genus_counts)]\n",
    "    majority_genus_lst.append(majority_genus)\n",
    "    \n",
    "    # Count the occurrences of each label at the species level\n",
    "    species_counts = np.zeros(len(unique_species))\n",
    "    for i, species in enumerate(unique_species):\n",
    "        species_counts[i] = np.sum(cluster_labels['Species'] == species)\n",
    "    majority_species = unique_species[np.argmax(species_counts)]\n",
    "    majority_species_lst.append(majority_species)"
   ]
  },
  {
   "cell_type": "code",
   "execution_count": 6,
   "metadata": {},
   "outputs": [
    {
     "name": "stdout",
     "output_type": "stream",
     "text": [
      "For Cluster 1:\n",
      "The majority family is 3\n",
      "The majority genus is 0\n",
      "The majority species is 1\n",
      "For Cluster 2:\n",
      "The majority family is 2\n",
      "The majority genus is 3\n",
      "The majority species is 5\n",
      "For Cluster 3:\n",
      "The majority family is 2\n",
      "The majority genus is 3\n",
      "The majority species is 4\n",
      "For Cluster 4:\n",
      "The majority family is 1\n",
      "The majority genus is 1\n",
      "The majority species is 2\n"
     ]
    }
   ],
   "source": [
    "for i in range(1,5):\n",
    "    print(f'For Cluster {i}:')\n",
    "    print(f'The majority family is {majority_families_lst[i-1]}')\n",
    "    print(f'The majority genus is {majority_genus_lst[i-1]}')\n",
    "    print(f'The majority species is {majority_species_lst[i-1]}')"
   ]
  },
  {
   "cell_type": "markdown",
   "metadata": {},
   "source": [
    "### (c) Monte-Carlo Simulation (50 iterations), calculate the average Hamming distance, Hamming score, and Hamming loss"
   ]
  },
  {
   "cell_type": "markdown",
   "metadata": {},
   "source": [
    "Hamming distance is the average number of positions in which two label sets differ.\n",
    "Hamming score is the ratio of the number of correctly classified labels to the total number of labels.\n",
    "Hamming loss is the fraction of labels that are incorrectly classified."
   ]
  },
  {
   "cell_type": "code",
   "execution_count": 5,
   "metadata": {},
   "outputs": [],
   "source": [
    "# First, we write a function to combine (a)-(c) together\n",
    "\n",
    "def kmeans_clustering(X,y):\n",
    "    \n",
    "    # Get the best k\n",
    "    k_values = range(2, 51) \n",
    "    silhouette_scores = []\n",
    "    for k in k_values:\n",
    "        kmeans = KMeans(n_clusters=k)\n",
    "        kmeans.fit(X)\n",
    "        score = silhouette_score(X, kmeans.labels_)\n",
    "        silhouette_scores.append(score)\n",
    "    chosen_k = np.argmax(silhouette_scores) + 2\n",
    "    kmeans = KMeans(n_clusters=chosen_k)\n",
    "    kmeans.fit(X)\n",
    "    print(f'Best K: {chosen_k}')\n",
    "    \n",
    "    # Determine which family/genus/species is the majority in each cluster\n",
    "    unique_families = np.unique(y['Family'])\n",
    "    unique_genus = np.unique(y['Genus'])\n",
    "    unique_species = np.unique(y['Species'])\n",
    "\n",
    "    majority_families_lst = []\n",
    "    majority_genus_lst = []\n",
    "    majority_species_lst = []\n",
    "\n",
    "    for cluster in range(chosen_k):\n",
    "        cluster_indices = np.where(kmeans.labels_ == cluster)[0]\n",
    "        cluster_labels = y.iloc[cluster_indices]\n",
    "\n",
    "        # Count the occurrences of each label at the family level\n",
    "        family_counts = np.zeros(len(unique_families))\n",
    "        for i, family in enumerate(unique_families):\n",
    "            family_counts[i] = np.sum(cluster_labels['Family'] == family)\n",
    "        majority_family = unique_families[np.argmax(family_counts)]\n",
    "        majority_families_lst.append(majority_family)\n",
    "\n",
    "        # Count the occurrences of each label at the genus level\n",
    "        genus_counts = np.zeros(len(unique_genus))\n",
    "        for i, genus in enumerate(unique_genus):\n",
    "            genus_counts[i] = np.sum(cluster_labels['Genus'] == genus)\n",
    "        majority_genus = unique_genus[np.argmax(genus_counts)]\n",
    "        majority_genus_lst.append(majority_genus)\n",
    "\n",
    "        # Count the occurrences of each label at the species level\n",
    "        species_counts = np.zeros(len(unique_species))\n",
    "        for i, species in enumerate(unique_species):\n",
    "            species_counts[i] = np.sum(cluster_labels['Species'] == species)\n",
    "        majority_species = unique_species[np.argmax(species_counts)]\n",
    "        majority_species_lst.append(majority_species)\n",
    "\n",
    "    \n",
    "    # Calculate the average Hamming distance, Hamming score, and Hamming loss\n",
    "    y_pred = [np.zeros(len(y)), np.zeros(len(y)), np.zeros(len(y))]\n",
    "\n",
    "    for i in range(4):\n",
    "        # Get the indices of samples in this cluster\n",
    "        cluster_indices = np.where(kmeans.labels_ == i)[0]\n",
    "        y_pred[0][cluster_indices] = majority_families_lst[i]\n",
    "        y_pred[1][cluster_indices] = majority_genus_lst[i]\n",
    "        y_pred[2][cluster_indices] = majority_species_lst[i]\n",
    "\n",
    "    y_pred = np.array(y_pred).T\n",
    "    hamming_distance = np.sum(np.sum(y != y_pred)) / len(y)\n",
    "    hamming_loss = np.mean(np.not_equal(np.array(y), y_pred))\n",
    "    hamming_score = 1 - hamming_loss\n",
    "    \n",
    "    return hamming_distance, hamming_loss, hamming_score"
   ]
  },
  {
   "cell_type": "code",
   "execution_count": 6,
   "metadata": {},
   "outputs": [],
   "source": [
    "# Define Monte Carlo function:\n",
    "def monteCarlo(times, X, y):\n",
    "    \n",
    "    hamming_distance_lst = []\n",
    "    hamming_loss_lst = []\n",
    "    hamming_score_lst = []\n",
    "    \n",
    "    for i in range(times):\n",
    "        hamming_distance, hamming_loss, hamming_score = kmeans_clustering(X, y)\n",
    "        hamming_distance_lst.append(hamming_distance)\n",
    "        hamming_loss_lst.append(hamming_loss)\n",
    "        hamming_score_lst.append(hamming_score)\n",
    "        print(\"Attempt {} ~ Hamming Distance : {}, Hamming Loss : {}, Hamming Score : {}\".format(i+1, hamming_distance, hamming_loss, hamming_score))\n",
    "    \n",
    "    return hamming_distance_lst, hamming_loss_lst, hamming_score_lst"
   ]
  },
  {
   "attachments": {},
   "cell_type": "markdown",
   "metadata": {},
   "source": [
    "Due to computational cost, the 50 iterations are executed in 5 times, with 10 iterations each."
   ]
  },
  {
   "cell_type": "code",
   "execution_count": 7,
   "metadata": {},
   "outputs": [
    {
     "name": "stdout",
     "output_type": "stream",
     "text": [
      "Best K: 4\n",
      "Attempt 1 ~ Hamming Distance : 0.6668519805420431, Hamming Loss : 0.22228399351401437, Hamming Score : 0.7777160064859856\n",
      "Best K: 4\n",
      "Attempt 2 ~ Hamming Distance : 0.66726893676164, Hamming Loss : 0.2224229789205467, Hamming Score : 0.7775770210794533\n",
      "Best K: 4\n",
      "Attempt 3 ~ Hamming Distance : 0.66726893676164, Hamming Loss : 0.2224229789205467, Hamming Score : 0.7775770210794533\n",
      "Best K: 4\n",
      "Attempt 4 ~ Hamming Distance : 0.7357887421820709, Hamming Loss : 0.24526291406069028, Hamming Score : 0.7547370859393097\n",
      "Best K: 4\n",
      "Attempt 5 ~ Hamming Distance : 0.66726893676164, Hamming Loss : 0.2224229789205467, Hamming Score : 0.7775770210794533\n",
      "Best K: 4\n",
      "Attempt 6 ~ Hamming Distance : 0.66726893676164, Hamming Loss : 0.2224229789205467, Hamming Score : 0.7775770210794533\n",
      "Best K: 4\n",
      "Attempt 7 ~ Hamming Distance : 0.66726893676164, Hamming Loss : 0.2224229789205467, Hamming Score : 0.7775770210794533\n",
      "Best K: 4\n",
      "Attempt 8 ~ Hamming Distance : 0.66726893676164, Hamming Loss : 0.2224229789205467, Hamming Score : 0.7775770210794533\n",
      "Best K: 4\n",
      "Attempt 9 ~ Hamming Distance : 0.66726893676164, Hamming Loss : 0.2224229789205467, Hamming Score : 0.7775770210794533\n",
      "Best K: 4\n",
      "Attempt 10 ~ Hamming Distance : 0.66726893676164, Hamming Loss : 0.2224229789205467, Hamming Score : 0.7775770210794533\n"
     ]
    }
   ],
   "source": [
    "hamming_distance_lst, hamming_loss_lst, hamming_score_lst = monteCarlo(10, X, y)"
   ]
  },
  {
   "cell_type": "code",
   "execution_count": 8,
   "metadata": {},
   "outputs": [
    {
     "name": "stdout",
     "output_type": "stream",
     "text": [
      "Best K: 4\n",
      "Attempt 1 ~ Hamming Distance : 0.66726893676164, Hamming Loss : 0.2224229789205467, Hamming Score : 0.7775770210794533\n",
      "Best K: 4\n",
      "Attempt 2 ~ Hamming Distance : 0.66726893676164, Hamming Loss : 0.2224229789205467, Hamming Score : 0.7775770210794533\n",
      "Best K: 4\n",
      "Attempt 3 ~ Hamming Distance : 0.7009034051424601, Hamming Loss : 0.23363446838082003, Hamming Score : 0.76636553161918\n",
      "Best K: 4\n",
      "Attempt 4 ~ Hamming Distance : 0.6669909659485754, Hamming Loss : 0.22233032198285846, Hamming Score : 0.7776696780171415\n",
      "Best K: 4\n",
      "Attempt 5 ~ Hamming Distance : 0.6674079221681724, Hamming Loss : 0.22246930738939077, Hamming Score : 0.7775306926106093\n",
      "Best K: 4\n",
      "Attempt 6 ~ Hamming Distance : 0.66726893676164, Hamming Loss : 0.2224229789205467, Hamming Score : 0.7775770210794533\n",
      "Best K: 4\n",
      "Attempt 7 ~ Hamming Distance : 0.66726893676164, Hamming Loss : 0.2224229789205467, Hamming Score : 0.7775770210794533\n",
      "Best K: 4\n",
      "Attempt 8 ~ Hamming Distance : 0.66726893676164, Hamming Loss : 0.2224229789205467, Hamming Score : 0.7775770210794533\n",
      "Best K: 4\n",
      "Attempt 9 ~ Hamming Distance : 0.6668519805420431, Hamming Loss : 0.22228399351401437, Hamming Score : 0.7777160064859856\n",
      "Best K: 4\n",
      "Attempt 10 ~ Hamming Distance : 0.66726893676164, Hamming Loss : 0.2224229789205467, Hamming Score : 0.7775770210794533\n"
     ]
    }
   ],
   "source": [
    "hamming_distance_lst2, hamming_loss_lst2, hamming_score_lst2 = monteCarlo(10, X, y)"
   ]
  },
  {
   "cell_type": "code",
   "execution_count": 9,
   "metadata": {},
   "outputs": [
    {
     "name": "stdout",
     "output_type": "stream",
     "text": [
      "Best K: 4\n",
      "Attempt 1 ~ Hamming Distance : 0.66726893676164, Hamming Loss : 0.2224229789205467, Hamming Score : 0.7775770210794533\n",
      "Best K: 4\n",
      "Attempt 2 ~ Hamming Distance : 0.66726893676164, Hamming Loss : 0.2224229789205467, Hamming Score : 0.7775770210794533\n",
      "Best K: 4\n",
      "Attempt 3 ~ Hamming Distance : 0.66726893676164, Hamming Loss : 0.2224229789205467, Hamming Score : 0.7775770210794533\n",
      "Best K: 4\n",
      "Attempt 4 ~ Hamming Distance : 0.66726893676164, Hamming Loss : 0.2224229789205467, Hamming Score : 0.7775770210794533\n",
      "Best K: 4\n",
      "Attempt 5 ~ Hamming Distance : 0.66726893676164, Hamming Loss : 0.2224229789205467, Hamming Score : 0.7775770210794533\n",
      "Best K: 4\n",
      "Attempt 6 ~ Hamming Distance : 0.6668519805420431, Hamming Loss : 0.22228399351401437, Hamming Score : 0.7777160064859856\n",
      "Best K: 4\n",
      "Attempt 7 ~ Hamming Distance : 0.66726893676164, Hamming Loss : 0.2224229789205467, Hamming Score : 0.7775770210794533\n",
      "Best K: 4\n",
      "Attempt 8 ~ Hamming Distance : 0.735371785962474, Hamming Loss : 0.24512392865415797, Hamming Score : 0.754876071345842\n",
      "Best K: 4\n",
      "Attempt 9 ~ Hamming Distance : 0.6664350243224462, Hamming Loss : 0.22214500810748206, Hamming Score : 0.7778549918925179\n",
      "Best K: 4\n",
      "Attempt 10 ~ Hamming Distance : 0.6674079221681724, Hamming Loss : 0.22246930738939077, Hamming Score : 0.7775306926106093\n"
     ]
    }
   ],
   "source": [
    "hamming_distance_lst3, hamming_loss_lst3, hamming_score_lst3 = monteCarlo(10, X, y)"
   ]
  },
  {
   "cell_type": "code",
   "execution_count": 10,
   "metadata": {},
   "outputs": [
    {
     "name": "stdout",
     "output_type": "stream",
     "text": [
      "Best K: 4\n",
      "Attempt 1 ~ Hamming Distance : 0.66726893676164, Hamming Loss : 0.2224229789205467, Hamming Score : 0.7775770210794533\n",
      "Best K: 4\n",
      "Attempt 2 ~ Hamming Distance : 0.66726893676164, Hamming Loss : 0.2224229789205467, Hamming Score : 0.7775770210794533\n",
      "Best K: 4\n",
      "Attempt 3 ~ Hamming Distance : 0.66726893676164, Hamming Loss : 0.2224229789205467, Hamming Score : 0.7775770210794533\n",
      "Best K: 4\n",
      "Attempt 4 ~ Hamming Distance : 0.66726893676164, Hamming Loss : 0.2224229789205467, Hamming Score : 0.7775770210794533\n",
      "Best K: 4\n",
      "Attempt 5 ~ Hamming Distance : 0.6657400972897846, Hamming Loss : 0.2219133657632615, Hamming Score : 0.7780866342367385\n",
      "Best K: 4\n",
      "Attempt 6 ~ Hamming Distance : 0.66726893676164, Hamming Loss : 0.2224229789205467, Hamming Score : 0.7775770210794533\n",
      "Best K: 4\n",
      "Attempt 7 ~ Hamming Distance : 0.66726893676164, Hamming Loss : 0.2224229789205467, Hamming Score : 0.7775770210794533\n",
      "Best K: 4\n",
      "Attempt 8 ~ Hamming Distance : 0.66726893676164, Hamming Loss : 0.2224229789205467, Hamming Score : 0.7775770210794533\n",
      "Best K: 4\n",
      "Attempt 9 ~ Hamming Distance : 0.6653231410701876, Hamming Loss : 0.22177438035672922, Hamming Score : 0.7782256196432707\n",
      "Best K: 4\n",
      "Attempt 10 ~ Hamming Distance : 0.66726893676164, Hamming Loss : 0.2224229789205467, Hamming Score : 0.7775770210794533\n"
     ]
    }
   ],
   "source": [
    "hamming_distance_lst4, hamming_loss_lst4, hamming_score_lst4 = monteCarlo(10, X, y)"
   ]
  },
  {
   "cell_type": "code",
   "execution_count": 11,
   "metadata": {},
   "outputs": [
    {
     "name": "stdout",
     "output_type": "stream",
     "text": [
      "Best K: 4\n",
      "Attempt 1 ~ Hamming Distance : 0.66726893676164, Hamming Loss : 0.2224229789205467, Hamming Score : 0.7775770210794533\n",
      "Best K: 4\n",
      "Attempt 2 ~ Hamming Distance : 0.66726893676164, Hamming Loss : 0.2224229789205467, Hamming Score : 0.7775770210794533\n",
      "Best K: 4\n",
      "Attempt 3 ~ Hamming Distance : 0.66726893676164, Hamming Loss : 0.2224229789205467, Hamming Score : 0.7775770210794533\n",
      "Best K: 4\n",
      "Attempt 4 ~ Hamming Distance : 0.6653231410701876, Hamming Loss : 0.22177438035672922, Hamming Score : 0.7782256196432707\n",
      "Best K: 4\n",
      "Attempt 5 ~ Hamming Distance : 0.7357887421820709, Hamming Loss : 0.24526291406069028, Hamming Score : 0.7547370859393097\n",
      "Best K: 4\n",
      "Attempt 6 ~ Hamming Distance : 0.6657400972897846, Hamming Loss : 0.2219133657632615, Hamming Score : 0.7780866342367385\n",
      "Best K: 4\n",
      "Attempt 7 ~ Hamming Distance : 0.66726893676164, Hamming Loss : 0.2224229789205467, Hamming Score : 0.7775770210794533\n",
      "Best K: 4\n",
      "Attempt 8 ~ Hamming Distance : 0.66726893676164, Hamming Loss : 0.2224229789205467, Hamming Score : 0.7775770210794533\n",
      "Best K: 4\n",
      "Attempt 9 ~ Hamming Distance : 0.66726893676164, Hamming Loss : 0.2224229789205467, Hamming Score : 0.7775770210794533\n",
      "Best K: 4\n",
      "Attempt 10 ~ Hamming Distance : 0.66726893676164, Hamming Loss : 0.2224229789205467, Hamming Score : 0.7775770210794533\n"
     ]
    }
   ],
   "source": [
    "hamming_distance_lst5, hamming_loss_lst5, hamming_score_lst5 = monteCarlo(10, X, y)"
   ]
  },
  {
   "cell_type": "code",
   "execution_count": 17,
   "metadata": {},
   "outputs": [],
   "source": [
    "# combine the 5 lists together\n",
    "hamming_distance_lst_all = []\n",
    "hamming_distance_lst_all.extend(hamming_distance_lst)\n",
    "hamming_distance_lst_all.extend(hamming_distance_lst2)\n",
    "hamming_distance_lst_all.extend(hamming_distance_lst3)\n",
    "hamming_distance_lst_all.extend(hamming_distance_lst4)\n",
    "hamming_distance_lst_all.extend(hamming_distance_lst5)\n",
    "\n",
    "hamming_loss_lst_all = []\n",
    "hamming_loss_lst_all.extend(hamming_loss_lst)\n",
    "hamming_loss_lst_all.extend(hamming_loss_lst2)\n",
    "hamming_loss_lst_all.extend(hamming_loss_lst3)\n",
    "hamming_loss_lst_all.extend(hamming_loss_lst4)\n",
    "hamming_loss_lst_all.extend(hamming_loss_lst5)\n",
    "\n",
    "hamming_score_lst_all = []\n",
    "hamming_score_lst_all.extend(hamming_score_lst)\n",
    "hamming_score_lst_all.extend(hamming_score_lst2)\n",
    "hamming_score_lst_all.extend(hamming_score_lst3)\n",
    "hamming_score_lst_all.extend(hamming_score_lst4)\n",
    "hamming_score_lst_all.extend(hamming_score_lst5)"
   ]
  },
  {
   "cell_type": "code",
   "execution_count": 18,
   "metadata": {},
   "outputs": [
    {
     "name": "stdout",
     "output_type": "stream",
     "text": [
      "The average Hamming Distance is 0.6718637943015981\n",
      "The standard deviation of simulation result is 0.016803063424687598\n",
      "The average Hamming Loss is 0.22395459810053278\n",
      "The standard deviation of simulation result is 0.005601021141562524\n",
      "The average Hamming Score is 0.7760454018994671\n",
      "The standard deviation of simulation result is 0.005601021141562524\n"
     ]
    }
   ],
   "source": [
    "# get the average and standard deviation\n",
    "print(\"The average Hamming Distance is {}\".format(np.mean(hamming_distance_lst_all)))\n",
    "print(\"The standard deviation of simulation result is {}\".format(np.std(hamming_distance_lst_all)))\n",
    "print(\"The average Hamming Loss is {}\".format(np.mean(hamming_loss_lst_all)))\n",
    "print(\"The standard deviation of simulation result is {}\".format(np.std(hamming_loss_lst_all)))\n",
    "print(\"The average Hamming Score is {}\".format(np.mean(hamming_score_lst_all)))\n",
    "print(\"The standard deviation of simulation result is {}\".format(np.std(hamming_score_lst_all)))"
   ]
  },
  {
   "cell_type": "markdown",
   "metadata": {},
   "source": [
    "## 3. ISLR 12.6.2"
   ]
  },
  {
   "attachments": {},
   "cell_type": "markdown",
   "metadata": {},
   "source": [
    "(a) Dendrogram with complete linkage (See dendrogram1.jpg)\n",
    "\n",
    "![title](dendrogram1.jpg)"
   ]
  },
  {
   "attachments": {},
   "cell_type": "markdown",
   "metadata": {},
   "source": [
    "(b) Dendrogram with simple linkage (See dendrogram2.jpg)\n",
    "\n",
    "![title](dendrogram2.jpg)"
   ]
  },
  {
   "attachments": {},
   "cell_type": "markdown",
   "metadata": {},
   "source": [
    "(c) We get two clusters: {1, 2} and {3, 4}."
   ]
  },
  {
   "attachments": {},
   "cell_type": "markdown",
   "metadata": {},
   "source": [
    "(d) We get two clusters: {1, 2, 3} and {4}."
   ]
  },
  {
   "attachments": {},
   "cell_type": "markdown",
   "metadata": {},
   "source": [
    "(e) Dendrogram equivalent to the one in (a) (See dendrogram3.jpg)\n",
    "\n",
    "![title](dendrogram3.jpg)"
   ]
  }
 ],
 "metadata": {
  "kernelspec": {
   "display_name": "Python 3.9.12",
   "language": "python",
   "name": "python3"
  },
  "language_info": {
   "codemirror_mode": {
    "name": "ipython",
    "version": 3
   },
   "file_extension": ".py",
   "mimetype": "text/x-python",
   "name": "python",
   "nbconvert_exporter": "python",
   "pygments_lexer": "ipython3",
   "version": "3.9.13"
  },
  "vscode": {
   "interpreter": {
    "hash": "3c20c2d94d2527936fe0f3a300eb11db30fed84423423838e2f93b74eb7aaebc"
   }
  }
 },
 "nbformat": 4,
 "nbformat_minor": 4
}
