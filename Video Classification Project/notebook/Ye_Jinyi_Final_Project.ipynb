{
 "cells": [
  {
   "cell_type": "markdown",
   "metadata": {},
   "source": [
    "<center><h1>Ye_Jinyi_Final_Project</h1></center>"
   ]
  },
  {
   "cell_type": "markdown",
   "metadata": {},
   "source": [
    "Name: Jinyi Ye\n",
    "<br>\n",
    "Github Username: angelayejinyi\n",
    "<br>\n",
    "USC ID: 1552624974"
   ]
  },
  {
   "cell_type": "markdown",
   "metadata": {},
   "source": [
    "## 1. Transfer Learning for Video Classification"
   ]
  },
  {
   "cell_type": "markdown",
   "metadata": {},
   "source": [
    "Import packages"
   ]
  },
  {
   "cell_type": "code",
   "execution_count": 2,
   "metadata": {},
   "outputs": [],
   "source": [
    "import numpy as np\n",
    "import pandas as pd\n",
    "import os\n",
    "import matplotlib.pyplot as plt\n",
    "\n",
    "import splitfolders\n",
    "import cv2\n",
    "import random\n",
    "from PIL import Image"
   ]
  },
  {
   "cell_type": "markdown",
   "metadata": {
    "tags": []
   },
   "source": [
    "### (d) Data Exploration and Pre-processing"
   ]
  },
  {
   "cell_type": "markdown",
   "metadata": {},
   "source": [
    "#### ii. Randomly select ⌈0.7ni⌉ images from each folder as your training set, ⌈0.15ni⌉ as validation set, and the rest as your test set, where ni is the number of images in folder i and ⌈x⌉ is the ceiling of x."
   ]
  },
  {
   "cell_type": "code",
   "execution_count": null,
   "metadata": {},
   "outputs": [],
   "source": [
    "# On running the below code snippet, it will create 3 folders in the output directory: train, val, test\n",
    "# The number of images in each folder can be varied using the values in the ratio argument(train:val:test).\n",
    "\n",
    "splitfolders.ratio('../data/Sport Images', \n",
    "                   output=\"../data/Sport Images\", seed=1337, ratio=(0.7, 0.15, 0.15)) "
   ]
  },
  {
   "cell_type": "markdown",
   "metadata": {},
   "source": [
    "#### iii. In order for all the images to have the same size, zero-pad or resize the images in your dataset. This can be done using various tools, including OpenCV."
   ]
  },
  {
   "cell_type": "markdown",
   "metadata": {},
   "source": [
    "First, we convert all .gif files into .jpg files."
   ]
  },
  {
   "cell_type": "code",
   "execution_count": 14,
   "metadata": {},
   "outputs": [],
   "source": [
    "# Set the input and output folder paths\n",
    "input_folder = \"../data/Sport Images\"\n",
    "output_folder = \"../data/Sport Images\"\n",
    "\n",
    "# Loop through all files in the input folder\n",
    "sport_lst = ['baseball','basketball','fencing','tennis','volleyball']\n",
    "for sport in sport_lst:\n",
    "    for filename in os.listdir(os.path.join(input_folder, sport)):\n",
    "        # Check if the file has a .gif extension\n",
    "        if filename.endswith('.gif'):\n",
    "            # Open the GIF image and convert the first frame to RGB format\n",
    "            gif_image = Image.open(os.path.join(input_folder, sport, filename))\n",
    "            first_frame = gif_image.convert('RGB')\n",
    "            # Save the first frame as a JPEG image\n",
    "            output_filename = os.path.splitext(filename)[0] + '.jpg'\n",
    "            output_path = os.path.join(output_folder, sport, output_filename)\n",
    "            first_frame.save(output_path)\n",
    "            # Delete the original GIF image\n",
    "            os.remove(os.path.join(input_folder, sport, filename))"
   ]
  },
  {
   "cell_type": "markdown",
   "metadata": {},
   "source": [
    "Next, we resize all images using OpenCV. We also remove the embedded color profile from the image."
   ]
  },
  {
   "cell_type": "code",
   "execution_count": null,
   "metadata": {},
   "outputs": [],
   "source": [
    "# use the OpenCV library to resize images\n",
    "input_dir = \"../data/Sport Images\"\n",
    "output_dir = \"../data/Sport Images/resized_images\"\n",
    "size = (500, 500)\n",
    "\n",
    "# loop through all the files in the input directory\n",
    "sport_lst = ['baseball','basketball','fencing','tennis','volleyball']\n",
    "for sport in sport_lst:\n",
    "    for filename in os.listdir(os.path.join(input_dir, sport)):\n",
    "        input_path = os.path.join(input_dir, sport, filename)\n",
    "        output_path = os.path.join(output_dir, sport, filename)  \n",
    "        \n",
    "        # Open the image file\n",
    "        img = Image.open(input_path)\n",
    "        # Check if the image has an embedded color profile\n",
    "        if \"icc_profile\" in img.info:\n",
    "            # Remove the embedded color profile\n",
    "            del img.info[\"icc_profile\"]\n",
    "        # Save the image without the color profile\n",
    "        img.save(input_path)\n",
    "        \n",
    "        try:\n",
    "            # load the image from the input path\n",
    "            image = cv2.imread(input_path)\n",
    "            # resize the image to the desired size using bilinear interpolation\n",
    "            resized_image = cv2.resize(image, size, interpolation=cv2.INTER_LINEAR)\n",
    "            # save the resized image to the output path\n",
    "            cv2.imwrite(output_path, resized_image)\n",
    "        except:\n",
    "            print('Could not read image', input_path)\n",
    "            continue"
   ]
  },
  {
   "cell_type": "markdown",
   "metadata": {},
   "source": [
    "Split the datasets into train, validation and test."
   ]
  },
  {
   "cell_type": "code",
   "execution_count": 3,
   "metadata": {},
   "outputs": [
    {
     "name": "stderr",
     "output_type": "stream",
     "text": [
      "Copying files: 3280 files [00:32, 100.25 files/s]\n"
     ]
    }
   ],
   "source": [
    "splitfolders.ratio('../data/Sport Images/resized_images', \n",
    "                   output=\"../data/Sport Images/resized_images\", seed=1115, ratio=(0.7, 0.15, 0.15)) "
   ]
  },
  {
   "cell_type": "markdown",
   "metadata": {
    "tags": []
   },
   "source": [
    "### (e) Transfer Learning for Image Classification"
   ]
  },
  {
   "cell_type": "markdown",
   "metadata": {
    "tags": []
   },
   "source": [
    "#### ii. To perform empirical regularization, crop, randomly zoom, rotate, flip, contrast, and translate images in your training set for image augmentation."
   ]
  },
  {
   "cell_type": "code",
   "execution_count": 2,
   "metadata": {},
   "outputs": [
    {
     "name": "stderr",
     "output_type": "stream",
     "text": [
      "2023-05-05 17:06:55.550020: I tensorflow/tsl/cuda/cudart_stub.cc:28] Could not find cuda drivers on your machine, GPU will not be used.\n",
      "2023-05-05 17:06:56.538611: I tensorflow/tsl/cuda/cudart_stub.cc:28] Could not find cuda drivers on your machine, GPU will not be used.\n",
      "2023-05-05 17:06:56.540009: I tensorflow/core/platform/cpu_feature_guard.cc:182] This TensorFlow binary is optimized to use available CPU instructions in performance-critical operations.\n",
      "To enable the following instructions: AVX2 FMA, in other operations, rebuild TensorFlow with the appropriate compiler flags.\n",
      "2023-05-05 17:06:59.177151: W tensorflow/compiler/tf2tensorrt/utils/py_utils.cc:38] TF-TRT Warning: Could not find TensorRT\n"
     ]
    }
   ],
   "source": [
    "from keras.preprocessing.image import ImageDataGenerator\n",
    "from keras.models import Sequential, Model\n",
    "from keras.layers import Dense, Flatten, Dropout, BatchNormalization\n",
    "from keras.optimizers import Adam\n",
    "from keras.applications import ResNet50, EfficientNetB0, VGG16\n",
    "from tensorflow.keras.callbacks import EarlyStopping, ModelCheckpoint\n",
    "import matplotlib.pyplot as plt"
   ]
  },
  {
   "cell_type": "code",
   "execution_count": 3,
   "metadata": {},
   "outputs": [
    {
     "name": "stdout",
     "output_type": "stream",
     "text": [
      "Found 2292 images belonging to 5 classes.\n",
      "Found 490 images belonging to 5 classes.\n"
     ]
    }
   ],
   "source": [
    "# Load the data using a data loader or image generator\n",
    "train_dir = '../data/Sport Images/resized_images/train'\n",
    "val_dir = '../data/Sport Images/resized_images/val'\n",
    "\n",
    "# Define image generators for data augmentation\n",
    "train_datagen = ImageDataGenerator(\n",
    "    rescale=1./255, \n",
    "    rotation_range=20, \n",
    "    width_shift_range=0.2, \n",
    "    height_shift_range=0.2, \n",
    "    shear_range=0.2, \n",
    "    zoom_range=0.2, \n",
    "    horizontal_flip=True, \n",
    "    fill_mode='nearest'\n",
    ")\n",
    "\n",
    "val_datagen = ImageDataGenerator(rescale=1./255)\n",
    "\n",
    "# Define batch size\n",
    "batch_size = 5\n",
    "\n",
    "# Load the training and validation data using the image generators\n",
    "train_data = train_datagen.flow_from_directory(\n",
    "    train_dir,\n",
    "    target_size=(500, 500),\n",
    "    batch_size=batch_size,\n",
    "    class_mode='categorical',\n",
    ")\n",
    "\n",
    "val_data = val_datagen.flow_from_directory(\n",
    "    val_dir,\n",
    "    target_size=(500, 500),\n",
    "    batch_size=batch_size,\n",
    "    class_mode='categorical',\n",
    ")"
   ]
  },
  {
   "cell_type": "code",
   "execution_count": 4,
   "metadata": {},
   "outputs": [
    {
     "data": {
      "text/plain": [
       "{'baseball': 0, 'basketball': 1, 'fencing': 2, 'tennis': 3, 'volleyball': 4}"
      ]
     },
     "execution_count": 4,
     "metadata": {},
     "output_type": "execute_result"
    }
   ],
   "source": [
    "train_data.class_indices"
   ]
  },
  {
   "cell_type": "markdown",
   "metadata": {},
   "source": [
    "#### iii. Use ReLU activation functions in the last layer and a softmax layer, along with batch normalization 4 and a dropout rate of 20% as well as ADAM optimizer. Use multinomial cross entropy loss. You can try any batch size, but a batch size of 5 seems reasonable."
   ]
  },
  {
   "cell_type": "markdown",
   "metadata": {},
   "source": [
    "#### iv. Train the networks ResNet50, EfficientNetB0, and VGG16 for at least 50 epochs (preferably 100 epochs) and perform early stopping using the validation set. Keep the network parameters that have the lowest validation error. Plot the training and validation errors vs. epochs."
   ]
  },
  {
   "cell_type": "markdown",
   "metadata": {
    "tags": []
   },
   "source": [
    "##### ResNet50"
   ]
  },
  {
   "cell_type": "code",
   "execution_count": 5,
   "metadata": {},
   "outputs": [
    {
     "name": "stdout",
     "output_type": "stream",
     "text": [
      "Epoch 1/50\n"
     ]
    },
    {
     "name": "stderr",
     "output_type": "stream",
     "text": [
      "2023-05-04 15:06:05.949526: I tensorflow/core/common_runtime/executor.cc:1197] [/device:CPU:0] (DEBUG INFO) Executor start aborting (this does not indicate an error and you can ignore this message): INVALID_ARGUMENT: You must feed a value for placeholder tensor 'Placeholder/_0' with dtype int32\n",
      "\t [[{{node Placeholder/_0}}]]\n"
     ]
    },
    {
     "name": "stdout",
     "output_type": "stream",
     "text": [
      "458/458 [==============================] - ETA: 0s - loss: 1.6018 - accuracy: 0.3406"
     ]
    },
    {
     "name": "stderr",
     "output_type": "stream",
     "text": [
      "2023-05-04 15:08:58.752651: I tensorflow/core/common_runtime/executor.cc:1197] [/device:CPU:0] (DEBUG INFO) Executor start aborting (this does not indicate an error and you can ignore this message): INVALID_ARGUMENT: You must feed a value for placeholder tensor 'Placeholder/_0' with dtype int32\n",
      "\t [[{{node Placeholder/_0}}]]\n"
     ]
    },
    {
     "name": "stdout",
     "output_type": "stream",
     "text": [
      "458/458 [==============================] - 206s 444ms/step - loss: 1.6018 - accuracy: 0.3406 - val_loss: 19.6511 - val_accuracy: 0.1490\n",
      "Epoch 2/50\n",
      "458/458 [==============================] - 310s 677ms/step - loss: 1.4617 - accuracy: 0.3953 - val_loss: 1.6281 - val_accuracy: 0.3878\n",
      "Epoch 3/50\n",
      "458/458 [==============================] - 310s 677ms/step - loss: 1.4193 - accuracy: 0.4128 - val_loss: 1.8908 - val_accuracy: 0.3469\n",
      "Epoch 4/50\n",
      "458/458 [==============================] - 311s 678ms/step - loss: 1.3947 - accuracy: 0.4289 - val_loss: 1.7236 - val_accuracy: 0.4020\n",
      "Epoch 5/50\n",
      "458/458 [==============================] - 311s 679ms/step - loss: 1.3524 - accuracy: 0.4421 - val_loss: 6.0606 - val_accuracy: 0.2306\n",
      "Epoch 6/50\n",
      "458/458 [==============================] - 311s 680ms/step - loss: 1.3538 - accuracy: 0.4263 - val_loss: 1.3130 - val_accuracy: 0.5041\n",
      "Epoch 7/50\n",
      "458/458 [==============================] - 280s 611ms/step - loss: 1.3351 - accuracy: 0.4534 - val_loss: 1.7386 - val_accuracy: 0.3755\n",
      "Epoch 8/50\n",
      "458/458 [==============================] - 182s 397ms/step - loss: 1.3288 - accuracy: 0.4556 - val_loss: 162.6618 - val_accuracy: 0.2143\n",
      "Epoch 9/50\n",
      "458/458 [==============================] - 181s 395ms/step - loss: 1.3307 - accuracy: 0.4508 - val_loss: 1.3862 - val_accuracy: 0.5449\n",
      "Epoch 10/50\n",
      "458/458 [==============================] - 182s 397ms/step - loss: 1.3102 - accuracy: 0.4639 - val_loss: 2.3352 - val_accuracy: 0.3041\n",
      "Epoch 11/50\n",
      "458/458 [==============================] - 181s 394ms/step - loss: 1.3052 - accuracy: 0.4530 - val_loss: 1.4522 - val_accuracy: 0.4265\n",
      "Epoch 11: early stopping\n"
     ]
    }
   ],
   "source": [
    "# Define the base model architecture\n",
    "base_model = ResNet50(weights='imagenet', include_top=False, input_shape=(500, 500, 3))\n",
    "\n",
    "# Freeze the weights of the base model\n",
    "for layer in base_model.layers:\n",
    "    layer.trainable = False\n",
    "\n",
    "# Define the ResNet50 model architecture with the last layer having ReLU activation and a softmax layer\n",
    "x = Flatten()(base_model.output)\n",
    "x = Dense(512, activation='relu')(x)\n",
    "x = BatchNormalization()(x)\n",
    "x = Dropout(0.2)(x)\n",
    "output = Dense(5, activation='softmax')(x)\n",
    "model = Model(inputs=base_model.input, outputs=output)\n",
    "\n",
    "# Compile the model using ADAM optimizer, multinomial cross entropy loss, and batch normalization with a dropout rate of 20%\n",
    "model.compile(optimizer=Adam(), loss='categorical_crossentropy', metrics=['accuracy'])\n",
    "\n",
    "# Train the model using the fit() function with early stopping and model checkpoint callbacks\n",
    "early_stopping = EarlyStopping(monitor='val_loss', patience=5, verbose=1, mode='auto')\n",
    "checkpoint = ModelCheckpoint('best_model.h5', monitor='val_loss', save_best_only=True, verbose=1)\n",
    "\n",
    "history = model.fit(\n",
    "    train_data,\n",
    "    steps_per_epoch=train_data.samples // train_data.batch_size,\n",
    "    epochs=50,\n",
    "    validation_data=val_data,\n",
    "    validation_steps=val_data.samples // val_data.batch_size,\n",
    "    callbacks=[early_stopping],\n",
    "    workers=-1)"
   ]
  },
  {
   "cell_type": "code",
   "execution_count": 18,
   "metadata": {},
   "outputs": [
    {
     "name": "stdout",
     "output_type": "stream",
     "text": [
      "Found 497 images belonging to 5 classes.\n"
     ]
    }
   ],
   "source": [
    "# load test data\n",
    "test_dir = '../data/Sport Images/resized_images/test'\n",
    "test_datagen = ImageDataGenerator(rescale=1./255)\n",
    "test_data = test_datagen.flow_from_directory(\n",
    "    test_dir,\n",
    "    target_size=(500, 500),\n",
    "    batch_size=batch_size,\n",
    "    class_mode='categorical',\n",
    "    shuffle=False\n",
    ")"
   ]
  },
  {
   "cell_type": "code",
   "execution_count": 8,
   "metadata": {},
   "outputs": [
    {
     "name": "stderr",
     "output_type": "stream",
     "text": [
      "2023-05-04 16:03:35.628777: I tensorflow/core/common_runtime/executor.cc:1197] [/device:CPU:0] (DEBUG INFO) Executor start aborting (this does not indicate an error and you can ignore this message): INVALID_ARGUMENT: You must feed a value for placeholder tensor 'Placeholder/_0' with dtype int32\n",
      "\t [[{{node Placeholder/_0}}]]\n"
     ]
    },
    {
     "name": "stdout",
     "output_type": "stream",
     "text": [
      "99/99 [==============================] - 24s 247ms/step - loss: 1.5125 - accuracy: 0.3980\n",
      "Test accuracy: 0.3979797959327698\n"
     ]
    },
    {
     "data": {
      "image/png": "[encoded data removed]",
      "text/plain": [
       "<Figure size 432x288 with 1 Axes>"
      ]
     },
     "metadata": {
      "needs_background": "light"
     },
     "output_type": "display_data"
    }
   ],
   "source": [
    "# Evaluate the model on the test set\n",
    "test_steps = test_data.samples // test_data.batch_size\n",
    "test_loss, test_acc = model.evaluate(test_data, steps=test_steps)\n",
    "print('Test accuracy:', test_acc)\n",
    "\n",
    "# Plot the training and validation errors vs. epochs\n",
    "plt.plot(history.history['loss'], label='training')\n",
    "plt.plot(history.history['val_loss'], label='validation')\n",
    "plt.xlabel('Epoch')\n",
    "plt.ylabel('Loss')\n",
    "plt.title('Training and Validation Loss for ResNet50')\n",
    "plt.legend()\n",
    "plt.show()"
   ]
  },
  {
   "cell_type": "code",
   "execution_count": 20,
   "metadata": {},
   "outputs": [
    {
     "name": "stderr",
     "output_type": "stream",
     "text": [
      "2023-05-04 16:40:23.758814: I tensorflow/core/common_runtime/executor.cc:1197] [/device:CPU:0] (DEBUG INFO) Executor start aborting (this does not indicate an error and you can ignore this message): INVALID_ARGUMENT: You must feed a value for placeholder tensor 'Placeholder/_0' with dtype int32\n",
      "\t [[{{node Placeholder/_0}}]]\n"
     ]
    },
    {
     "name": "stdout",
     "output_type": "stream",
     "text": [
      "459/459 [==============================] - 204s 445ms/step\n"
     ]
    },
    {
     "name": "stderr",
     "output_type": "stream",
     "text": [
      "2023-05-04 16:44:45.782997: I tensorflow/core/common_runtime/executor.cc:1197] [/device:CPU:0] (DEBUG INFO) Executor start aborting (this does not indicate an error and you can ignore this message): INVALID_ARGUMENT: You must feed a value for placeholder tensor 'Placeholder/_0' with dtype int32\n",
      "\t [[{{node Placeholder/_0}}]]\n"
     ]
    },
    {
     "name": "stdout",
     "output_type": "stream",
     "text": [
      "100/100 [==============================] - 45s 446ms/step\n",
      "Training set accuracy: 0.3957242582897033\n",
      "Training set F1 score: 0.3317159288901385\n",
      "Training set precision: 0.5915022939528076\n",
      "Training set recall: 0.3957242582897033\n",
      "Training set confusion matrix:\n",
      " [[423  72  11   2   5]\n",
      " [ 60 264  17   1   2]\n",
      " [220  88 126   8   1]\n",
      " [378  63  22  32   5]\n",
      " [218 204   4   4  62]]\n",
      "Training set classification report:\n",
      "               precision    recall  f1-score   support\n",
      "\n",
      "           0       0.33      0.82      0.47       513\n",
      "           1       0.38      0.77      0.51       344\n",
      "           2       0.70      0.28      0.40       443\n",
      "           3       0.68      0.06      0.12       500\n",
      "           4       0.83      0.13      0.22       492\n",
      "\n",
      "    accuracy                           0.40      2292\n",
      "   macro avg       0.58      0.41      0.34      2292\n",
      "weighted avg       0.59      0.40      0.33      2292\n",
      "\n",
      "\n",
      "Test set accuracy: 0.3983903420523139\n",
      "Test set F1 score: 0.3306771162601863\n",
      "Test set precision: 0.557019845048014\n",
      "Test set recall: 0.3983903420523139\n",
      "Test set confusion matrix:\n",
      " [[93 13  5  0  0]\n",
      " [12 56  6  1  0]\n",
      " [45 21 27  1  2]\n",
      " [79 18  7  3  1]\n",
      " [31 54  3  0 19]]\n",
      "Test set classification report:\n",
      "               precision    recall  f1-score   support\n",
      "\n",
      "           0       0.36      0.84      0.50       111\n",
      "           1       0.35      0.75      0.47        75\n",
      "           2       0.56      0.28      0.38        96\n",
      "           3       0.60      0.03      0.05       108\n",
      "           4       0.86      0.18      0.29       107\n",
      "\n",
      "    accuracy                           0.40       497\n",
      "   macro avg       0.55      0.41      0.34       497\n",
      "weighted avg       0.56      0.40      0.33       497\n",
      "\n"
     ]
    }
   ],
   "source": [
    "from sklearn.metrics import confusion_matrix, classification_report, accuracy_score, f1_score, precision_score, recall_score\n",
    "\n",
    "# make predictions on training set\n",
    "train_pred = model.predict(train_data)\n",
    "train_pred_classes = np.argmax(train_pred, axis=1)\n",
    "train_true_classes = train_data.classes\n",
    "\n",
    "# make predictions on test set\n",
    "test_pred = model.predict(test_data)\n",
    "test_pred_classes = np.argmax(test_pred, axis=1)\n",
    "test_true_classes = test_data.classes\n",
    "\n",
    "# compute confusion matrix, precision, recall, accuracy, and F1 score for training set\n",
    "train_cm = confusion_matrix(train_true_classes, train_pred_classes)\n",
    "train_report = classification_report(train_true_classes, train_pred_classes)\n",
    "train_accuracy = accuracy_score(train_true_classes, train_pred_classes)\n",
    "train_f1_score = f1_score(train_true_classes, train_pred_classes, average='weighted')\n",
    "train_precision = precision_score(train_true_classes, train_pred_classes, average='weighted')\n",
    "train_recall = recall_score(train_true_classes, train_pred_classes, average='weighted')\n",
    "\n",
    "# compute confusion matrix, precision, recall, accuracy, and F1 score for test set\n",
    "test_cm = confusion_matrix(test_true_classes, test_pred_classes)\n",
    "test_report = classification_report(test_true_classes, test_pred_classes)\n",
    "test_accuracy = accuracy_score(test_true_classes, test_pred_classes)\n",
    "test_f1_score = f1_score(test_true_classes, test_pred_classes, average='weighted')\n",
    "test_precision = precision_score(test_true_classes, test_pred_classes, average='weighted')\n",
    "test_recall = recall_score(test_true_classes, test_pred_classes, average='weighted')\n",
    "\n",
    "# print the results\n",
    "print('Training set accuracy:', train_accuracy)\n",
    "print('Training set F1 score:', train_f1_score)\n",
    "print('Training set precision:', train_precision)\n",
    "print('Training set recall:', train_recall)\n",
    "print('Training set confusion matrix:\\n', train_cm)\n",
    "print('Training set classification report:\\n', train_report)\n",
    "print()\n",
    "print('Test set accuracy:', test_accuracy)\n",
    "print('Test set F1 score:', test_f1_score)\n",
    "print('Test set precision:', test_precision)\n",
    "print('Test set recall:', test_recall)\n",
    "print('Test set confusion matrix:\\n', test_cm)\n",
    "print('Test set classification report:\\n', test_report)"
   ]
  },
  {
   "cell_type": "code",
   "execution_count": 9,
   "metadata": {},
   "outputs": [],
   "source": [
    "model.save('../data/model/ResNet50.h5')"
   ]
  },
  {
   "cell_type": "markdown",
   "metadata": {
    "tags": []
   },
   "source": [
    "##### EfficientNetB0"
   ]
  },
  {
   "cell_type": "code",
   "execution_count": 7,
   "metadata": {},
   "outputs": [
    {
     "name": "stdout",
     "output_type": "stream",
     "text": [
      "Found 2292 images belonging to 5 classes.\n",
      "Found 490 images belonging to 5 classes.\n",
      "Epoch 1/50\n"
     ]
    },
    {
     "name": "stderr",
     "output_type": "stream",
     "text": [
      "2023-05-04 22:01:47.677740: I tensorflow/core/common_runtime/executor.cc:1197] [/device:CPU:0] (DEBUG INFO) Executor start aborting (this does not indicate an error and you can ignore this message): INVALID_ARGUMENT: You must feed a value for placeholder tensor 'Placeholder/_0' with dtype int32\n",
      "\t [[{{node Placeholder/_0}}]]\n"
     ]
    },
    {
     "name": "stdout",
     "output_type": "stream",
     "text": [
      "458/458 [==============================] - ETA: 0s - loss: 1.7703 - accuracy: 0.2256"
     ]
    },
    {
     "name": "stderr",
     "output_type": "stream",
     "text": [
      "2023-05-04 22:02:23.243072: I tensorflow/core/common_runtime/executor.cc:1197] [/device:CPU:0] (DEBUG INFO) Executor start aborting (this does not indicate an error and you can ignore this message): INVALID_ARGUMENT: You must feed a value for placeholder tensor 'Placeholder/_0' with dtype int32\n",
      "\t [[{{node Placeholder/_0}}]]\n"
     ]
    },
    {
     "name": "stdout",
     "output_type": "stream",
     "text": [
      "458/458 [==============================] - 42s 81ms/step - loss: 1.7703 - accuracy: 0.2256 - val_loss: 2.0384 - val_accuracy: 0.2286\n",
      "Epoch 2/50\n",
      "458/458 [==============================] - 35s 77ms/step - loss: 1.6759 - accuracy: 0.2396 - val_loss: 1.9582 - val_accuracy: 0.1939\n",
      "Epoch 3/50\n",
      "458/458 [==============================] - 35s 77ms/step - loss: 1.6607 - accuracy: 0.2134 - val_loss: 2.4739 - val_accuracy: 0.1939\n",
      "Epoch 4/50\n",
      "458/458 [==============================] - 36s 78ms/step - loss: 1.6403 - accuracy: 0.2379 - val_loss: 1.8094 - val_accuracy: 0.2143\n",
      "Epoch 5/50\n",
      "458/458 [==============================] - 34s 75ms/step - loss: 1.6470 - accuracy: 0.2383 - val_loss: 1.5729 - val_accuracy: 0.2286\n",
      "Epoch 6/50\n",
      "458/458 [==============================] - 36s 77ms/step - loss: 1.6283 - accuracy: 0.2361 - val_loss: 1.8090 - val_accuracy: 0.2163\n",
      "Epoch 7/50\n",
      "458/458 [==============================] - 35s 76ms/step - loss: 1.6154 - accuracy: 0.2401 - val_loss: 1.5986 - val_accuracy: 0.2367\n",
      "Epoch 8/50\n",
      "458/458 [==============================] - 35s 77ms/step - loss: 1.6098 - accuracy: 0.2466 - val_loss: 1.5589 - val_accuracy: 0.2816\n",
      "Epoch 9/50\n",
      "458/458 [==============================] - 36s 78ms/step - loss: 1.6103 - accuracy: 0.2492 - val_loss: 1.5554 - val_accuracy: 0.3265\n",
      "Epoch 10/50\n",
      "458/458 [==============================] - 35s 76ms/step - loss: 1.5970 - accuracy: 0.2545 - val_loss: 1.5593 - val_accuracy: 0.3224\n",
      "Epoch 11/50\n",
      "458/458 [==============================] - 36s 77ms/step - loss: 1.5983 - accuracy: 0.2549 - val_loss: 1.6109 - val_accuracy: 0.2265\n",
      "Epoch 12/50\n",
      "458/458 [==============================] - 35s 76ms/step - loss: 1.5999 - accuracy: 0.2370 - val_loss: 2.2497 - val_accuracy: 0.1490\n",
      "Epoch 13/50\n",
      "458/458 [==============================] - 36s 78ms/step - loss: 1.5941 - accuracy: 0.2405 - val_loss: 1.6561 - val_accuracy: 0.1959\n",
      "Epoch 14/50\n",
      "458/458 [==============================] - 35s 76ms/step - loss: 1.5918 - accuracy: 0.2540 - val_loss: 1.5768 - val_accuracy: 0.2796\n",
      "Epoch 14: early stopping\n"
     ]
    }
   ],
   "source": [
    "# Resize to 224*224 pixels\n",
    "train_data_EN = train_datagen.flow_from_directory(\n",
    "    train_dir,\n",
    "    target_size=(224, 224),\n",
    "    batch_size=batch_size,\n",
    "    class_mode='categorical',\n",
    ")\n",
    "\n",
    "val_data_EN = val_datagen.flow_from_directory(\n",
    "    val_dir,\n",
    "    target_size=(224, 224),\n",
    "    batch_size=batch_size,\n",
    "    class_mode='categorical',\n",
    ")\n",
    "\n",
    "# Define the base model architecture\n",
    "base_model = EfficientNetB0(weights='imagenet', include_top=False, input_shape=(224, 224, 3))\n",
    "\n",
    "# Freeze the weights of the base model\n",
    "for layer in base_model.layers:\n",
    "    layer.trainable = False\n",
    "\n",
    "# Define the ResNet50 model architecture with the last layer having ReLU activation and a softmax layer\n",
    "x = Flatten()(base_model.output)\n",
    "x = Dense(512, activation='relu')(x)\n",
    "x = BatchNormalization()(x)\n",
    "x = Dropout(0.2)(x)\n",
    "output = Dense(5, activation='softmax')(x)\n",
    "model = Model(inputs=base_model.input, outputs=output)\n",
    "\n",
    "# Compile the model using ADAM optimizer, multinomial cross entropy loss, and batch normalization with a dropout rate of 20%\n",
    "model.compile(optimizer=Adam(), loss='categorical_crossentropy', metrics=['accuracy'])\n",
    "\n",
    "# Train the model using the fit() function with early stopping and model checkpoint callbacks\n",
    "early_stopping = EarlyStopping(monitor='val_loss', patience=5, verbose=1, mode='auto')\n",
    "checkpoint = ModelCheckpoint('best_model.h5', monitor='val_loss', save_best_only=True, verbose=1)\n",
    "\n",
    "history = model.fit(\n",
    "    train_data_EN,\n",
    "    steps_per_epoch=train_data_EN.samples // train_data_EN.batch_size,\n",
    "    epochs=50,\n",
    "    validation_data=val_data_EN,\n",
    "    validation_steps=val_data_EN.samples // val_data_EN.batch_size,\n",
    "    callbacks=[early_stopping],\n",
    "    workers=-1)"
   ]
  },
  {
   "cell_type": "code",
   "execution_count": 8,
   "metadata": {
    "tags": []
   },
   "outputs": [
    {
     "name": "stdout",
     "output_type": "stream",
     "text": [
      "Found 497 images belonging to 5 classes.\n"
     ]
    }
   ],
   "source": [
    "# load test data\n",
    "test_dir = '../data/Sport Images/resized_images/test'\n",
    "test_datagen = ImageDataGenerator(rescale=1./255)\n",
    "test_data_EN = test_datagen.flow_from_directory(\n",
    "    test_dir,\n",
    "    target_size=(224, 224),\n",
    "    batch_size=batch_size,\n",
    "    class_mode='categorical',\n",
    "    shuffle=False\n",
    ")"
   ]
  },
  {
   "cell_type": "code",
   "execution_count": 11,
   "metadata": {},
   "outputs": [
    {
     "name": "stdout",
     "output_type": "stream",
     "text": [
      " 3/99 [..............................] - ETA: 4s - loss: 1.2053 - accuracy: 0.0000e+00"
     ]
    },
    {
     "name": "stderr",
     "output_type": "stream",
     "text": [
      "2023-05-04 22:14:57.382526: I tensorflow/core/common_runtime/executor.cc:1197] [/device:CPU:0] (DEBUG INFO) Executor start aborting (this does not indicate an error and you can ignore this message): INVALID_ARGUMENT: You must feed a value for placeholder tensor 'Placeholder/_0' with dtype int32\n",
      "\t [[{{node Placeholder/_0}}]]\n"
     ]
    },
    {
     "name": "stdout",
     "output_type": "stream",
     "text": [
      "99/99 [==============================] - 5s 48ms/step - loss: 1.5739 - accuracy: 0.2909\n",
      "Test accuracy: 0.290909081697464\n"
     ]
    },
    {
     "data": {
      "image/png": "[encoded data removed]",
      "text/plain": [
       "<Figure size 432x288 with 1 Axes>"
      ]
     },
     "metadata": {
      "needs_background": "light"
     },
     "output_type": "display_data"
    }
   ],
   "source": [
    "# Evaluate the model on the test set\n",
    "test_steps = test_data_EN.samples // test_data_EN.batch_size\n",
    "test_loss, test_acc = model.evaluate(test_data_EN, steps=test_steps)\n",
    "print('Test accuracy:', test_acc)\n",
    "\n",
    "# Plot the training and validation errors vs. epochs\n",
    "plt.plot(history.history['loss'], label='training')\n",
    "plt.plot(history.history['val_loss'], label='validation')\n",
    "plt.xlabel('Epoch')\n",
    "plt.ylabel('Loss')\n",
    "plt.title('Training and Validation Loss for EfficientNetB0')\n",
    "plt.legend()\n",
    "plt.show()"
   ]
  },
  {
   "cell_type": "code",
   "execution_count": 13,
   "metadata": {},
   "outputs": [
    {
     "name": "stdout",
     "output_type": "stream",
     "text": [
      "  2/459 [..............................] - ETA: 27s "
     ]
    },
    {
     "name": "stderr",
     "output_type": "stream",
     "text": [
      "2023-05-04 22:15:22.768059: I tensorflow/core/common_runtime/executor.cc:1197] [/device:CPU:0] (DEBUG INFO) Executor start aborting (this does not indicate an error and you can ignore this message): INVALID_ARGUMENT: You must feed a value for placeholder tensor 'Placeholder/_0' with dtype int32\n",
      "\t [[{{node Placeholder/_0}}]]\n"
     ]
    },
    {
     "name": "stdout",
     "output_type": "stream",
     "text": [
      "459/459 [==============================] - 27s 59ms/step\n",
      "  2/100 [..............................] - ETA: 5s"
     ]
    },
    {
     "name": "stderr",
     "output_type": "stream",
     "text": [
      "2023-05-04 22:15:50.224691: I tensorflow/core/common_runtime/executor.cc:1197] [/device:CPU:0] (DEBUG INFO) Executor start aborting (this does not indicate an error and you can ignore this message): INVALID_ARGUMENT: You must feed a value for placeholder tensor 'Placeholder/_0' with dtype int32\n",
      "\t [[{{node Placeholder/_0}}]]\n"
     ]
    },
    {
     "name": "stdout",
     "output_type": "stream",
     "text": [
      "100/100 [==============================] - 5s 48ms/step\n",
      "Training set accuracy: 0.21771378708551484\n",
      "Training set F1 score: 0.12149960433518563\n",
      "Training set precision: 0.13361490676113835\n",
      "Training set recall: 0.21771378708551484\n",
      "Training set confusion matrix:\n",
      " [[ 36   0   0 428  49]\n",
      " [ 22   0   0 294  28]\n",
      " [ 38   0   0 368  37]\n",
      " [ 32   0   0 430  38]\n",
      " [ 44   0   0 415  33]]\n",
      "Training set classification report:\n",
      "               precision    recall  f1-score   support\n",
      "\n",
      "           0       0.21      0.07      0.11       513\n",
      "           1       0.00      0.00      0.00       344\n",
      "           2       0.00      0.00      0.00       443\n",
      "           3       0.22      0.86      0.35       500\n",
      "           4       0.18      0.07      0.10       492\n",
      "\n",
      "    accuracy                           0.22      2292\n",
      "   macro avg       0.12      0.20      0.11      2292\n",
      "weighted avg       0.13      0.22      0.12      2292\n",
      "\n",
      "\n",
      "Test set accuracy: 0.2917505030181087\n",
      "Test set F1 score: 0.1962111987748659\n",
      "Test set precision: 0.1850085336719427\n",
      "Test set recall: 0.2917505030181087\n",
      "Test set confusion matrix:\n",
      " [[  5   0   0 101   5]\n",
      " [  7   0   0  43  25]\n",
      " [  8   0   0  76  12]\n",
      " [  6   0   0 100   2]\n",
      " [ 23   0   0  44  40]]\n",
      "Test set classification report:\n",
      "               precision    recall  f1-score   support\n",
      "\n",
      "           0       0.10      0.05      0.06       111\n",
      "           1       0.00      0.00      0.00        75\n",
      "           2       0.00      0.00      0.00        96\n",
      "           3       0.27      0.93      0.42       108\n",
      "           4       0.48      0.37      0.42       107\n",
      "\n",
      "    accuracy                           0.29       497\n",
      "   macro avg       0.17      0.27      0.18       497\n",
      "weighted avg       0.19      0.29      0.20       497\n",
      "\n"
     ]
    },
    {
     "name": "stderr",
     "output_type": "stream",
     "text": [
      "/home1/jinyiy/.local/lib/python3.9/site-packages/sklearn/metrics/_classification.py:1334: UndefinedMetricWarning: Precision and F-score are ill-defined and being set to 0.0 in labels with no predicted samples. Use `zero_division` parameter to control this behavior.\n",
      "  _warn_prf(average, modifier, msg_start, len(result))\n",
      "/home1/jinyiy/.local/lib/python3.9/site-packages/sklearn/metrics/_classification.py:1334: UndefinedMetricWarning: Precision and F-score are ill-defined and being set to 0.0 in labels with no predicted samples. Use `zero_division` parameter to control this behavior.\n",
      "  _warn_prf(average, modifier, msg_start, len(result))\n",
      "/home1/jinyiy/.local/lib/python3.9/site-packages/sklearn/metrics/_classification.py:1334: UndefinedMetricWarning: Precision and F-score are ill-defined and being set to 0.0 in labels with no predicted samples. Use `zero_division` parameter to control this behavior.\n",
      "  _warn_prf(average, modifier, msg_start, len(result))\n",
      "/home1/jinyiy/.local/lib/python3.9/site-packages/sklearn/metrics/_classification.py:1334: UndefinedMetricWarning: Precision is ill-defined and being set to 0.0 in labels with no predicted samples. Use `zero_division` parameter to control this behavior.\n",
      "  _warn_prf(average, modifier, msg_start, len(result))\n",
      "/home1/jinyiy/.local/lib/python3.9/site-packages/sklearn/metrics/_classification.py:1334: UndefinedMetricWarning: Precision and F-score are ill-defined and being set to 0.0 in labels with no predicted samples. Use `zero_division` parameter to control this behavior.\n",
      "  _warn_prf(average, modifier, msg_start, len(result))\n",
      "/home1/jinyiy/.local/lib/python3.9/site-packages/sklearn/metrics/_classification.py:1334: UndefinedMetricWarning: Precision and F-score are ill-defined and being set to 0.0 in labels with no predicted samples. Use `zero_division` parameter to control this behavior.\n",
      "  _warn_prf(average, modifier, msg_start, len(result))\n",
      "/home1/jinyiy/.local/lib/python3.9/site-packages/sklearn/metrics/_classification.py:1334: UndefinedMetricWarning: Precision and F-score are ill-defined and being set to 0.0 in labels with no predicted samples. Use `zero_division` parameter to control this behavior.\n",
      "  _warn_prf(average, modifier, msg_start, len(result))\n",
      "/home1/jinyiy/.local/lib/python3.9/site-packages/sklearn/metrics/_classification.py:1334: UndefinedMetricWarning: Precision is ill-defined and being set to 0.0 in labels with no predicted samples. Use `zero_division` parameter to control this behavior.\n",
      "  _warn_prf(average, modifier, msg_start, len(result))\n"
     ]
    }
   ],
   "source": [
    "from sklearn.metrics import confusion_matrix, classification_report, accuracy_score, f1_score, precision_score, recall_score\n",
    "\n",
    "# make predictions on training set\n",
    "train_pred = model.predict(train_data_EN)\n",
    "train_pred_classes = np.argmax(train_pred, axis=1)\n",
    "train_true_classes = train_data.classes\n",
    "\n",
    "# make predictions on test set\n",
    "test_pred = model.predict(test_data_EN)\n",
    "test_pred_classes = np.argmax(test_pred, axis=1)\n",
    "test_true_classes = test_data.classes\n",
    "\n",
    "# compute confusion matrix, precision, recall, accuracy, and F1 score for training set\n",
    "train_cm = confusion_matrix(train_true_classes, train_pred_classes)\n",
    "train_report = classification_report(train_true_classes, train_pred_classes)\n",
    "train_accuracy = accuracy_score(train_true_classes, train_pred_classes)\n",
    "train_f1_score = f1_score(train_true_classes, train_pred_classes, average='weighted')\n",
    "train_precision = precision_score(train_true_classes, train_pred_classes, average='weighted')\n",
    "train_recall = recall_score(train_true_classes, train_pred_classes, average='weighted')\n",
    "\n",
    "# compute confusion matrix, precision, recall, accuracy, and F1 score for test set\n",
    "test_cm = confusion_matrix(test_true_classes, test_pred_classes)\n",
    "test_report = classification_report(test_true_classes, test_pred_classes)\n",
    "test_accuracy = accuracy_score(test_true_classes, test_pred_classes)\n",
    "test_f1_score = f1_score(test_true_classes, test_pred_classes, average='weighted')\n",
    "test_precision = precision_score(test_true_classes, test_pred_classes, average='weighted')\n",
    "test_recall = recall_score(test_true_classes, test_pred_classes, average='weighted')\n",
    "\n",
    "# print the results\n",
    "print('Training set accuracy:', train_accuracy)\n",
    "print('Training set F1 score:', train_f1_score)\n",
    "print('Training set precision:', train_precision)\n",
    "print('Training set recall:', train_recall)\n",
    "print('Training set confusion matrix:\\n', train_cm)\n",
    "print('Training set classification report:\\n', train_report)\n",
    "print()\n",
    "print('Test set accuracy:', test_accuracy)\n",
    "print('Test set F1 score:', test_f1_score)\n",
    "print('Test set precision:', test_precision)\n",
    "print('Test set recall:', test_recall)\n",
    "print('Test set confusion matrix:\\n', test_cm)\n",
    "print('Test set classification report:\\n', test_report)"
   ]
  },
  {
   "cell_type": "code",
   "execution_count": null,
   "metadata": {},
   "outputs": [],
   "source": [
    "model.save('../data/model/EfficientNetB0.h5')"
   ]
  },
  {
   "cell_type": "markdown",
   "metadata": {
    "tags": []
   },
   "source": [
    "##### VGG16"
   ]
  },
  {
   "cell_type": "code",
   "execution_count": 4,
   "metadata": {},
   "outputs": [
    {
     "name": "stdout",
     "output_type": "stream",
     "text": [
      "Downloading data from https://storage.googleapis.com/tensorflow/keras-applications/vgg16/vgg16_weights_tf_dim_ordering_tf_kernels_notop.h5\n",
      "58889256/58889256 [==============================] - 1s 0us/step\n",
      "Epoch 1/50\n"
     ]
    },
    {
     "name": "stderr",
     "output_type": "stream",
     "text": [
      "2023-05-04 15:12:41.789037: I tensorflow/core/common_runtime/executor.cc:1197] [/device:CPU:0] (DEBUG INFO) Executor start aborting (this does not indicate an error and you can ignore this message): INVALID_ARGUMENT: You must feed a value for placeholder tensor 'Placeholder/_0' with dtype int32\n",
      "\t [[{{node Placeholder/_0}}]]\n"
     ]
    },
    {
     "name": "stdout",
     "output_type": "stream",
     "text": [
      "458/458 [==============================] - ETA: 0s - loss: 1.3111 - accuracy: 0.5448"
     ]
    },
    {
     "name": "stderr",
     "output_type": "stream",
     "text": [
      "2023-05-04 15:16:25.691728: I tensorflow/core/common_runtime/executor.cc:1197] [/device:CPU:0] (DEBUG INFO) Executor start aborting (this does not indicate an error and you can ignore this message): INVALID_ARGUMENT: You must feed a value for placeholder tensor 'Placeholder/_0' with dtype int32\n",
      "\t [[{{node Placeholder/_0}}]]\n"
     ]
    },
    {
     "name": "stdout",
     "output_type": "stream",
     "text": [
      "458/458 [==============================] - 269s 585ms/step - loss: 1.3111 - accuracy: 0.5448 - val_loss: 2.9345 - val_accuracy: 0.4878\n",
      "Epoch 2/50\n",
      "458/458 [==============================] - 268s 586ms/step - loss: 0.9524 - accuracy: 0.6410 - val_loss: 0.6942 - val_accuracy: 0.7816\n",
      "Epoch 3/50\n",
      "458/458 [==============================] - 265s 578ms/step - loss: 0.8512 - accuracy: 0.6913 - val_loss: 0.8187 - val_accuracy: 0.7469\n",
      "Epoch 4/50\n",
      "458/458 [==============================] - 268s 585ms/step - loss: 0.8344 - accuracy: 0.6948 - val_loss: 17.9293 - val_accuracy: 0.1490\n",
      "Epoch 5/50\n",
      "458/458 [==============================] - 265s 579ms/step - loss: 0.7823 - accuracy: 0.7171 - val_loss: 0.7152 - val_accuracy: 0.7776\n",
      "Epoch 6/50\n",
      "458/458 [==============================] - 267s 582ms/step - loss: 0.7456 - accuracy: 0.7280 - val_loss: 0.6372 - val_accuracy: 0.7918\n",
      "Epoch 7/50\n",
      "458/458 [==============================] - 266s 581ms/step - loss: 0.7196 - accuracy: 0.7464 - val_loss: 0.6278 - val_accuracy: 0.7959\n",
      "Epoch 8/50\n",
      "458/458 [==============================] - 269s 587ms/step - loss: 0.7285 - accuracy: 0.7455 - val_loss: 0.5804 - val_accuracy: 0.7918\n",
      "Epoch 9/50\n",
      "458/458 [==============================] - 266s 581ms/step - loss: 0.7092 - accuracy: 0.7464 - val_loss: 0.5565 - val_accuracy: 0.8224\n",
      "Epoch 10/50\n",
      "458/458 [==============================] - 266s 581ms/step - loss: 0.6969 - accuracy: 0.7534 - val_loss: 0.5369 - val_accuracy: 0.8408\n",
      "Epoch 11/50\n",
      "458/458 [==============================] - 266s 580ms/step - loss: 0.7047 - accuracy: 0.7460 - val_loss: 0.5733 - val_accuracy: 0.7939\n",
      "Epoch 12/50\n",
      "458/458 [==============================] - 263s 575ms/step - loss: 0.7017 - accuracy: 0.7451 - val_loss: 0.4843 - val_accuracy: 0.8327\n",
      "Epoch 13/50\n",
      "458/458 [==============================] - 267s 583ms/step - loss: 0.6634 - accuracy: 0.7573 - val_loss: 0.4890 - val_accuracy: 0.8265\n",
      "Epoch 14/50\n",
      "458/458 [==============================] - 266s 581ms/step - loss: 0.6574 - accuracy: 0.7573 - val_loss: 0.5005 - val_accuracy: 0.8388\n",
      "Epoch 15/50\n",
      "458/458 [==============================] - 267s 584ms/step - loss: 0.6494 - accuracy: 0.7753 - val_loss: 0.5039 - val_accuracy: 0.8265\n",
      "Epoch 16/50\n",
      "458/458 [==============================] - 267s 583ms/step - loss: 0.6472 - accuracy: 0.7683 - val_loss: 0.5644 - val_accuracy: 0.8102\n",
      "Epoch 17/50\n",
      "458/458 [==============================] - 267s 583ms/step - loss: 0.6237 - accuracy: 0.7801 - val_loss: 0.5619 - val_accuracy: 0.8204\n",
      "Epoch 17: early stopping\n"
     ]
    }
   ],
   "source": [
    "# Define the base model architecture\n",
    "base_model = VGG16(weights='imagenet', include_top=False, input_shape=(500, 500, 3))\n",
    "\n",
    "# Freeze the weights of the base model\n",
    "for layer in base_model.layers:\n",
    "    layer.trainable = False\n",
    "\n",
    "# Define the ResNet50 model architecture with the last layer having ReLU activation and a softmax layer\n",
    "x = Flatten()(base_model.output)\n",
    "x = Dense(512, activation='relu')(x)\n",
    "x = BatchNormalization()(x)\n",
    "x = Dropout(0.2)(x)\n",
    "output = Dense(5, activation='softmax')(x)\n",
    "model = Model(inputs=base_model.input, outputs=output)\n",
    "\n",
    "# Compile the model using ADAM optimizer, multinomial cross entropy loss, and batch normalization with a dropout rate of 20%\n",
    "model.compile(optimizer=Adam(), loss='categorical_crossentropy', metrics=['accuracy'])\n",
    "\n",
    "# Train the model using the fit() function with early stopping and model checkpoint callbacks\n",
    "early_stopping = EarlyStopping(monitor='val_loss', patience=5, verbose=1, mode='auto')\n",
    "checkpoint = ModelCheckpoint('best_model.h5', monitor='val_loss', save_best_only=True, verbose=1)\n",
    "\n",
    "history = model.fit(\n",
    "    train_data,\n",
    "    steps_per_epoch=train_data.samples // train_data.batch_size,\n",
    "    epochs=50,\n",
    "    validation_data=val_data,\n",
    "    validation_steps=val_data.samples // val_data.batch_size,\n",
    "    callbacks=[early_stopping],\n",
    "    workers=-1)"
   ]
  },
  {
   "cell_type": "code",
   "execution_count": 9,
   "metadata": {},
   "outputs": [
    {
     "name": "stdout",
     "output_type": "stream",
     "text": [
      "Found 497 images belonging to 5 classes.\n"
     ]
    }
   ],
   "source": [
    "# load test data\n",
    "test_dir = '../data/Sport Images/resized_images/test'\n",
    "test_datagen = ImageDataGenerator(rescale=1./255)\n",
    "test_data = test_datagen.flow_from_directory(\n",
    "    test_dir,\n",
    "    target_size=(500, 500),\n",
    "    batch_size=batch_size,\n",
    "    class_mode='categorical',\n",
    "    shuffle=False\n",
    ")"
   ]
  },
  {
   "cell_type": "code",
   "execution_count": 10,
   "metadata": {},
   "outputs": [
    {
     "name": "stderr",
     "output_type": "stream",
     "text": [
      "2023-05-04 16:37:40.165458: I tensorflow/core/common_runtime/executor.cc:1197] [/device:CPU:0] (DEBUG INFO) Executor start aborting (this does not indicate an error and you can ignore this message): INVALID_ARGUMENT: You must feed a value for placeholder tensor 'Placeholder/_0' with dtype int32\n",
      "\t [[{{node Placeholder/_0}}]]\n"
     ]
    },
    {
     "name": "stdout",
     "output_type": "stream",
     "text": [
      "99/99 [==============================] - 45s 456ms/step - loss: 0.5030 - accuracy: 0.8323\n",
      "Test accuracy: 0.8323232531547546\n"
     ]
    },
    {
     "data": {
      "image/png": "[encoded data removed]",
      "text/plain": [
       "<Figure size 432x288 with 1 Axes>"
      ]
     },
     "metadata": {
      "needs_background": "light"
     },
     "output_type": "display_data"
    }
   ],
   "source": [
    "# Evaluate the model on the test set\n",
    "test_steps = test_data.samples // test_data.batch_size\n",
    "test_loss, test_acc = model.evaluate(test_data, steps=test_steps)\n",
    "print('Test accuracy:', test_acc)\n",
    "\n",
    "# Plot the training and validation errors vs. epochs\n",
    "plt.plot(history.history['loss'], label='training')\n",
    "plt.plot(history.history['val_loss'], label='validation')\n",
    "plt.xlabel('Epoch')\n",
    "plt.ylabel('Loss')\n",
    "plt.title('Training and Validation Loss for VGG16')\n",
    "plt.legend()\n",
    "plt.show()"
   ]
  },
  {
   "cell_type": "code",
   "execution_count": 12,
   "metadata": {},
   "outputs": [
    {
     "name": "stderr",
     "output_type": "stream",
     "text": [
      "2023-05-04 16:39:38.795622: I tensorflow/core/common_runtime/executor.cc:1197] [/device:CPU:0] (DEBUG INFO) Executor start aborting (this does not indicate an error and you can ignore this message): INVALID_ARGUMENT: You must feed a value for placeholder tensor 'Placeholder/_0' with dtype int32\n",
      "\t [[{{node Placeholder/_0}}]]\n"
     ]
    },
    {
     "name": "stdout",
     "output_type": "stream",
     "text": [
      "459/459 [==============================] - 210s 458ms/step\n"
     ]
    },
    {
     "name": "stderr",
     "output_type": "stream",
     "text": [
      "2023-05-04 16:43:09.423402: I tensorflow/core/common_runtime/executor.cc:1197] [/device:CPU:0] (DEBUG INFO) Executor start aborting (this does not indicate an error and you can ignore this message): INVALID_ARGUMENT: You must feed a value for placeholder tensor 'Placeholder/_0' with dtype int32\n",
      "\t [[{{node Placeholder/_0}}]]\n"
     ]
    },
    {
     "name": "stdout",
     "output_type": "stream",
     "text": [
      "100/100 [==============================] - 45s 454ms/step\n",
      "Training set accuracy: 0.8512216404886562\n",
      "Training set F1 score: 0.8497335371608542\n",
      "Training set precision: 0.8615645253934701\n",
      "Training set recall: 0.8512216404886562\n",
      "Training set confusion matrix:\n",
      " [[437   0  16  52   8]\n",
      " [ 26 224  25  46  23]\n",
      " [ 13   1 399  17  13]\n",
      " [ 17   2  14 464   3]\n",
      " [ 14   4  20  27 427]]\n",
      "Training set classification report:\n",
      "               precision    recall  f1-score   support\n",
      "\n",
      "           0       0.86      0.85      0.86       513\n",
      "           1       0.97      0.65      0.78       344\n",
      "           2       0.84      0.90      0.87       443\n",
      "           3       0.77      0.93      0.84       500\n",
      "           4       0.90      0.87      0.88       492\n",
      "\n",
      "    accuracy                           0.85      2292\n",
      "   macro avg       0.87      0.84      0.85      2292\n",
      "weighted avg       0.86      0.85      0.85      2292\n",
      "\n",
      "\n",
      "Test set accuracy: 0.8329979879275654\n",
      "Test set F1 score: 0.8324212560708912\n",
      "Test set precision: 0.8433410431644939\n",
      "Test set recall: 0.8329979879275654\n",
      "Test set confusion matrix:\n",
      " [[98  0  2 10  1]\n",
      " [ 7 50  5 11  2]\n",
      " [ 1  1 82  8  4]\n",
      " [ 3  2  1 98  4]\n",
      " [ 3  1 10  7 86]]\n",
      "Test set classification report:\n",
      "               precision    recall  f1-score   support\n",
      "\n",
      "           0       0.88      0.88      0.88       111\n",
      "           1       0.93      0.67      0.78        75\n",
      "           2       0.82      0.85      0.84        96\n",
      "           3       0.73      0.91      0.81       108\n",
      "           4       0.89      0.80      0.84       107\n",
      "\n",
      "    accuracy                           0.83       497\n",
      "   macro avg       0.85      0.82      0.83       497\n",
      "weighted avg       0.84      0.83      0.83       497\n",
      "\n"
     ]
    }
   ],
   "source": [
    "from sklearn.metrics import confusion_matrix, classification_report, accuracy_score, f1_score, precision_score, recall_score\n",
    "\n",
    "# make predictions on training set\n",
    "train_pred = model.predict(train_data)\n",
    "train_pred_classes = np.argmax(train_pred, axis=1)\n",
    "train_true_classes = train_data.classes\n",
    "\n",
    "# make predictions on test set\n",
    "test_pred = model.predict(test_data)\n",
    "test_pred_classes = np.argmax(test_pred, axis=1)\n",
    "test_true_classes = test_data.classes\n",
    "\n",
    "# compute confusion matrix, precision, recall, accuracy, and F1 score for training set\n",
    "train_cm = confusion_matrix(train_true_classes, train_pred_classes)\n",
    "train_report = classification_report(train_true_classes, train_pred_classes)\n",
    "train_accuracy = accuracy_score(train_true_classes, train_pred_classes)\n",
    "train_f1_score = f1_score(train_true_classes, train_pred_classes, average='weighted')\n",
    "train_precision = precision_score(train_true_classes, train_pred_classes, average='weighted')\n",
    "train_recall = recall_score(train_true_classes, train_pred_classes, average='weighted')\n",
    "\n",
    "# compute confusion matrix, precision, recall, accuracy, and F1 score for test set\n",
    "test_cm = confusion_matrix(test_true_classes, test_pred_classes)\n",
    "test_report = classification_report(test_true_classes, test_pred_classes)\n",
    "test_accuracy = accuracy_score(test_true_classes, test_pred_classes)\n",
    "test_f1_score = f1_score(test_true_classes, test_pred_classes, average='weighted')\n",
    "test_precision = precision_score(test_true_classes, test_pred_classes, average='weighted')\n",
    "test_recall = recall_score(test_true_classes, test_pred_classes, average='weighted')\n",
    "\n",
    "# print the results\n",
    "print('Training set accuracy:', train_accuracy)\n",
    "print('Training set F1 score:', train_f1_score)\n",
    "print('Training set precision:', train_precision)\n",
    "print('Training set recall:', train_recall)\n",
    "print('Training set confusion matrix:\\n', train_cm)\n",
    "print('Training set classification report:\\n', train_report)\n",
    "print()\n",
    "print('Test set accuracy:', test_accuracy)\n",
    "print('Test set F1 score:', test_f1_score)\n",
    "print('Test set precision:', test_precision)\n",
    "print('Test set recall:', test_recall)\n",
    "print('Test set confusion matrix:\\n', test_cm)\n",
    "print('Test set classification report:\\n', test_report)"
   ]
  },
  {
   "cell_type": "code",
   "execution_count": null,
   "metadata": {},
   "outputs": [],
   "source": [
    "model.save('../data/model/VGG16.h5')"
   ]
  },
  {
   "cell_type": "markdown",
   "metadata": {},
   "source": [
    "Thus, in this task, VGG16 performs better than ResNet and EfficientNet, yielding a test accuracy of about 0.83. ResNet50 follows with an test set accuracy of 0.40.\n",
    "\n",
    "Unfortunately, after resizing images to the recommended size of 224x224, EfficientNetB0 still failed to yield reasonable results, with performance similar to random classifier. It's possible that the poor performance of EfficientNetB0 is not solely due to data normalization or model architecture, but could also be related to the specific task or data distribution."
   ]
  },
  {
   "cell_type": "markdown",
   "metadata": {
    "tags": []
   },
   "source": [
    "### (f) Video Classification Using Moving Averages"
   ]
  },
  {
   "cell_type": "markdown",
   "metadata": {
    "tags": []
   },
   "source": [
    "#### i. In order to have a better deep learner, reuse the validation and test data and train the network, without seriously overfitting it."
   ]
  },
  {
   "cell_type": "markdown",
   "metadata": {},
   "source": [
    "Start fresh, train with both training data and validation data up to the previous number of epochs."
   ]
  },
  {
   "cell_type": "code",
   "execution_count": 4,
   "metadata": {},
   "outputs": [
    {
     "name": "stdout",
     "output_type": "stream",
     "text": [
      "Found 2782 images belonging to 5 classes.\n",
      "Found 497 images belonging to 5 classes.\n"
     ]
    }
   ],
   "source": [
    "# Combine the training and validation data\n",
    "combined_dir = '../data/Sport Images/resized_images/train+val'\n",
    "\n",
    "combined_data = train_datagen.flow_from_directory(\n",
    "    combined_dir,\n",
    "    target_size=(500, 500),\n",
    "    batch_size=batch_size,\n",
    "    class_mode='categorical',\n",
    ")\n",
    "\n",
    "# load test data as validation set\n",
    "test_dir = '../data/Sport Images/resized_images/test'\n",
    "test_datagen = ImageDataGenerator(rescale=1./255)\n",
    "test_data = test_datagen.flow_from_directory(\n",
    "    test_dir,\n",
    "    target_size=(500, 500),\n",
    "    batch_size=batch_size,\n",
    "    class_mode='categorical',\n",
    ")"
   ]
  },
  {
   "cell_type": "markdown",
   "metadata": {
    "tags": []
   },
   "source": [
    "##### ResNet50"
   ]
  },
  {
   "cell_type": "code",
   "execution_count": 7,
   "metadata": {},
   "outputs": [
    {
     "name": "stdout",
     "output_type": "stream",
     "text": [
      "Epoch 1/11\n"
     ]
    },
    {
     "name": "stderr",
     "output_type": "stream",
     "text": [
      "2023-05-04 19:56:29.431483: I tensorflow/core/common_runtime/executor.cc:1197] [/device:CPU:0] (DEBUG INFO) Executor start aborting (this does not indicate an error and you can ignore this message): INVALID_ARGUMENT: You must feed a value for placeholder tensor 'Placeholder/_0' with dtype int32\n",
      "\t [[{{node Placeholder/_0}}]]\n"
     ]
    },
    {
     "name": "stdout",
     "output_type": "stream",
     "text": [
      "556/556 [==============================] - ETA: 0s - loss: 1.6149 - accuracy: 0.3533"
     ]
    },
    {
     "name": "stderr",
     "output_type": "stream",
     "text": [
      "2023-05-04 20:01:18.200322: I tensorflow/core/common_runtime/executor.cc:1197] [/device:CPU:0] (DEBUG INFO) Executor start aborting (this does not indicate an error and you can ignore this message): INVALID_ARGUMENT: You must feed a value for placeholder tensor 'Placeholder/_0' with dtype int32\n",
      "\t [[{{node Placeholder/_0}}]]\n"
     ]
    },
    {
     "name": "stdout",
     "output_type": "stream",
     "text": [
      "556/556 [==============================] - 337s 601ms/step - loss: 1.6149 - accuracy: 0.3533 - val_loss: 60.8574 - val_accuracy: 0.2182\n",
      "Epoch 2/11\n",
      "556/556 [==============================] - 385s 692ms/step - loss: 1.4262 - accuracy: 0.4055 - val_loss: 1.5589 - val_accuracy: 0.4101\n",
      "Epoch 3/11\n",
      "556/556 [==============================] - 386s 694ms/step - loss: 1.3871 - accuracy: 0.4166 - val_loss: 1.5772 - val_accuracy: 0.4101\n",
      "Epoch 4/11\n",
      "556/556 [==============================] - 380s 684ms/step - loss: 1.3590 - accuracy: 0.4328 - val_loss: 1.3589 - val_accuracy: 0.4202\n",
      "Epoch 5/11\n",
      "556/556 [==============================] - 388s 698ms/step - loss: 1.3537 - accuracy: 0.4415 - val_loss: 1.4184 - val_accuracy: 0.4606\n",
      "Epoch 6/11\n",
      "556/556 [==============================] - 379s 682ms/step - loss: 1.3564 - accuracy: 0.4462 - val_loss: 2.6340 - val_accuracy: 0.2222\n",
      "Epoch 7/11\n",
      "556/556 [==============================] - 412s 741ms/step - loss: 1.3225 - accuracy: 0.4613 - val_loss: 1.6295 - val_accuracy: 0.3657\n",
      "Epoch 8/11\n",
      "556/556 [==============================] - 389s 699ms/step - loss: 1.3322 - accuracy: 0.4544 - val_loss: 2.4189 - val_accuracy: 0.3596\n",
      "Epoch 9/11\n",
      "556/556 [==============================] - 382s 688ms/step - loss: 1.3151 - accuracy: 0.4786 - val_loss: 1.8322 - val_accuracy: 0.4121\n",
      "Epoch 10/11\n",
      "556/556 [==============================] - 326s 586ms/step - loss: 1.2898 - accuracy: 0.4739 - val_loss: 8.5368 - val_accuracy: 0.2646\n",
      "Epoch 11/11\n",
      "556/556 [==============================] - 313s 563ms/step - loss: 1.2749 - accuracy: 0.4836 - val_loss: 1.4084 - val_accuracy: 0.4747\n"
     ]
    }
   ],
   "source": [
    "# Define the base model architecture\n",
    "base_model = ResNet50(weights='imagenet', include_top=False, input_shape=(500, 500, 3))\n",
    "\n",
    "# Freeze the weights of the base model\n",
    "for layer in base_model.layers:\n",
    "    layer.trainable = False\n",
    "\n",
    "# Define the ResNet50 model architecture with the last layer having ReLU activation and a softmax layer\n",
    "x = Flatten()(base_model.output)\n",
    "x = Dense(512, activation='relu')(x)\n",
    "x = BatchNormalization()(x)\n",
    "x = Dropout(0.2)(x)\n",
    "output = Dense(5, activation='softmax')(x)\n",
    "model = Model(inputs=base_model.input, outputs=output)\n",
    "\n",
    "# Compile the model using ADAM optimizer, multinomial cross entropy loss, and batch normalization with a dropout rate of 20%\n",
    "model.compile(optimizer=Adam(), loss='categorical_crossentropy', metrics=['accuracy'])\n",
    "\n",
    "# Train the model using the fit() function with previous number of epochs\n",
    "history = model.fit(\n",
    "    combined_data,\n",
    "    steps_per_epoch=combined_data.samples // combined_data.batch_size,\n",
    "    validation_data=test_data,\n",
    "    validation_steps=test_data.samples // test_data.batch_size,\n",
    "    epochs=11,\n",
    "    workers=-1)"
   ]
  },
  {
   "cell_type": "code",
   "execution_count": 9,
   "metadata": {},
   "outputs": [
    {
     "data": {
      "image/png": "[encoded data removed]",
      "text/plain": [
       "<Figure size 432x288 with 1 Axes>"
      ]
     },
     "metadata": {
      "needs_background": "light"
     },
     "output_type": "display_data"
    }
   ],
   "source": [
    "# Plot the training and validation errors vs. epochs\n",
    "plt.plot(history.history['loss'], label='training')\n",
    "plt.plot(history.history['val_loss'], label='validation')\n",
    "plt.xlabel('Epoch')\n",
    "plt.ylabel('Loss')\n",
    "plt.title('Training and Validation Loss for ResNet50')\n",
    "plt.legend()\n",
    "plt.show()"
   ]
  },
  {
   "cell_type": "code",
   "execution_count": null,
   "metadata": {},
   "outputs": [],
   "source": [
    "# save the new model\n",
    "model.save('../data/model/ResNet50_new.h5')"
   ]
  },
  {
   "cell_type": "markdown",
   "metadata": {
    "tags": []
   },
   "source": [
    "##### EfficientNetB0"
   ]
  },
  {
   "cell_type": "code",
   "execution_count": 15,
   "metadata": {},
   "outputs": [
    {
     "name": "stdout",
     "output_type": "stream",
     "text": [
      "Found 2782 images belonging to 5 classes.\n",
      "Found 497 images belonging to 5 classes.\n",
      "Epoch 1/14\n"
     ]
    },
    {
     "name": "stderr",
     "output_type": "stream",
     "text": [
      "2023-05-04 22:18:31.474563: I tensorflow/core/common_runtime/executor.cc:1197] [/device:CPU:0] (DEBUG INFO) Executor start aborting (this does not indicate an error and you can ignore this message): INVALID_ARGUMENT: You must feed a value for placeholder tensor 'Placeholder/_0' with dtype int32\n",
      "\t [[{{node Placeholder/_0}}]]\n"
     ]
    },
    {
     "name": "stdout",
     "output_type": "stream",
     "text": [
      "556/556 [==============================] - ETA: 0s - loss: 1.7370 - accuracy: 0.2269"
     ]
    },
    {
     "name": "stderr",
     "output_type": "stream",
     "text": [
      "2023-05-04 22:19:14.427064: I tensorflow/core/common_runtime/executor.cc:1197] [/device:CPU:0] (DEBUG INFO) Executor start aborting (this does not indicate an error and you can ignore this message): INVALID_ARGUMENT: You must feed a value for placeholder tensor 'Placeholder/_0' with dtype int32\n",
      "\t [[{{node Placeholder/_0}}]]\n"
     ]
    },
    {
     "name": "stdout",
     "output_type": "stream",
     "text": [
      "556/556 [==============================] - 49s 79ms/step - loss: 1.7370 - accuracy: 0.2269 - val_loss: 3.5063 - val_accuracy: 0.1515\n",
      "Epoch 2/14\n",
      "556/556 [==============================] - 42s 75ms/step - loss: 1.6788 - accuracy: 0.2132 - val_loss: 1.8607 - val_accuracy: 0.1515\n",
      "Epoch 3/14\n",
      "556/556 [==============================] - 42s 76ms/step - loss: 1.6455 - accuracy: 0.2319 - val_loss: 1.8493 - val_accuracy: 0.2162\n",
      "Epoch 4/14\n",
      "556/556 [==============================] - 42s 75ms/step - loss: 1.6265 - accuracy: 0.2294 - val_loss: 1.5774 - val_accuracy: 0.2444\n",
      "Epoch 5/14\n",
      "556/556 [==============================] - 43s 78ms/step - loss: 1.6288 - accuracy: 0.2362 - val_loss: 1.6429 - val_accuracy: 0.2081\n",
      "Epoch 6/14\n",
      "556/556 [==============================] - 42s 75ms/step - loss: 1.6131 - accuracy: 0.2550 - val_loss: 1.6519 - val_accuracy: 0.2202\n",
      "Epoch 7/14\n",
      "556/556 [==============================] - 43s 78ms/step - loss: 1.6181 - accuracy: 0.2272 - val_loss: 1.5641 - val_accuracy: 0.2485\n",
      "Epoch 8/14\n",
      "556/556 [==============================] - 42s 76ms/step - loss: 1.6074 - accuracy: 0.2362 - val_loss: 1.5510 - val_accuracy: 0.2404\n",
      "Epoch 9/14\n",
      "556/556 [==============================] - 43s 77ms/step - loss: 1.6057 - accuracy: 0.2495 - val_loss: 1.5871 - val_accuracy: 0.2182\n",
      "Epoch 10/14\n",
      "556/556 [==============================] - 43s 76ms/step - loss: 1.6052 - accuracy: 0.2373 - val_loss: 1.6269 - val_accuracy: 0.2121\n",
      "Epoch 11/14\n",
      "556/556 [==============================] - 42s 76ms/step - loss: 1.5960 - accuracy: 0.2492 - val_loss: 1.5345 - val_accuracy: 0.3475\n",
      "Epoch 12/14\n",
      "556/556 [==============================] - 42s 75ms/step - loss: 1.5849 - accuracy: 0.2593 - val_loss: 1.5595 - val_accuracy: 0.2707\n",
      "Epoch 13/14\n",
      "556/556 [==============================] - 42s 76ms/step - loss: 1.5795 - accuracy: 0.2632 - val_loss: 1.6951 - val_accuracy: 0.2242\n",
      "Epoch 14/14\n",
      "556/556 [==============================] - 42s 75ms/step - loss: 1.5879 - accuracy: 0.2632 - val_loss: 1.9904 - val_accuracy: 0.2525\n"
     ]
    }
   ],
   "source": [
    "# Combine the training and validation data\n",
    "combined_dir = '../data/Sport Images/resized_images/train+val'\n",
    "\n",
    "combined_data_EN = train_datagen.flow_from_directory(\n",
    "    combined_dir,\n",
    "    target_size=(224, 224),\n",
    "    batch_size=batch_size,\n",
    "    class_mode='categorical',\n",
    ")\n",
    "\n",
    "# load test data as validation set\n",
    "test_dir = '../data/Sport Images/resized_images/test'\n",
    "test_datagen = ImageDataGenerator(rescale=1./255)\n",
    "test_data_EN = test_datagen.flow_from_directory(\n",
    "    test_dir,\n",
    "    target_size=(224, 224),\n",
    "    batch_size=batch_size,\n",
    "    class_mode='categorical',\n",
    ")\n",
    "\n",
    "# Define the base model architecture\n",
    "base_model = EfficientNetB0(weights='imagenet', include_top=False, input_shape=(224, 224, 3))\n",
    "\n",
    "# Freeze the weights of the base model\n",
    "for layer in base_model.layers:\n",
    "    layer.trainable = False\n",
    "\n",
    "# Define the ResNet50 model architecture with the last layer having ReLU activation and a softmax layer\n",
    "x = Flatten()(base_model.output)\n",
    "x = Dense(512, activation='relu')(x)\n",
    "x = BatchNormalization()(x)\n",
    "x = Dropout(0.2)(x)\n",
    "output = Dense(5, activation='softmax')(x)\n",
    "model = Model(inputs=base_model.input, outputs=output)\n",
    "\n",
    "# Compile the model using ADAM optimizer, multinomial cross entropy loss, and batch normalization with a dropout rate of 20%\n",
    "model.compile(optimizer=Adam(), loss='categorical_crossentropy', metrics=['accuracy'])\n",
    "\n",
    "# Train the model using the fit() function with previous number of epochs\n",
    "history = model.fit(\n",
    "    combined_data_EN,\n",
    "    steps_per_epoch=combined_data_EN.samples // combined_data_EN.batch_size,\n",
    "    validation_data=test_data_EN,\n",
    "    validation_steps=test_data_EN.samples // test_data_EN.batch_size,\n",
    "    epochs=14,\n",
    "    workers=-1)"
   ]
  },
  {
   "cell_type": "code",
   "execution_count": 16,
   "metadata": {},
   "outputs": [
    {
     "data": {
      "image/png": "[encoded data removed]",
      "text/plain": [
       "<Figure size 432x288 with 1 Axes>"
      ]
     },
     "metadata": {
      "needs_background": "light"
     },
     "output_type": "display_data"
    }
   ],
   "source": [
    "# Plot the training and validation errors vs. epochs\n",
    "plt.plot(history.history['loss'], label='training')\n",
    "plt.plot(history.history['val_loss'], label='validation')\n",
    "plt.xlabel('Epoch')\n",
    "plt.ylabel('Loss')\n",
    "plt.title('Training and Validation Loss for EfficientNetB0')\n",
    "plt.legend()\n",
    "plt.show()"
   ]
  },
  {
   "cell_type": "code",
   "execution_count": null,
   "metadata": {},
   "outputs": [],
   "source": [
    "# save the new model\n",
    "model.save('../data/model/EfficientNetB0_new.h5')"
   ]
  },
  {
   "cell_type": "markdown",
   "metadata": {
    "tags": []
   },
   "source": [
    "##### VGG16"
   ]
  },
  {
   "cell_type": "code",
   "execution_count": 11,
   "metadata": {},
   "outputs": [
    {
     "name": "stdout",
     "output_type": "stream",
     "text": [
      "Epoch 1/17\n"
     ]
    },
    {
     "name": "stderr",
     "output_type": "stream",
     "text": [
      "2023-05-04 19:58:21.401022: I tensorflow/core/common_runtime/executor.cc:1197] [/device:CPU:0] (DEBUG INFO) Executor start aborting (this does not indicate an error and you can ignore this message): INVALID_ARGUMENT: You must feed a value for placeholder tensor 'Placeholder/_0' with dtype int32\n",
      "\t [[{{node Placeholder/_0}}]]\n"
     ]
    },
    {
     "name": "stdout",
     "output_type": "stream",
     "text": [
      "556/556 [==============================] - ETA: 0s - loss: 1.2695 - accuracy: 0.5448"
     ]
    },
    {
     "name": "stderr",
     "output_type": "stream",
     "text": [
      "2023-05-04 20:02:53.831701: I tensorflow/core/common_runtime/executor.cc:1197] [/device:CPU:0] (DEBUG INFO) Executor start aborting (this does not indicate an error and you can ignore this message): INVALID_ARGUMENT: You must feed a value for placeholder tensor 'Placeholder/_0' with dtype int32\n",
      "\t [[{{node Placeholder/_0}}]]\n"
     ]
    },
    {
     "name": "stdout",
     "output_type": "stream",
     "text": [
      "556/556 [==============================] - 318s 570ms/step - loss: 1.2695 - accuracy: 0.5448 - val_loss: 0.7969 - val_accuracy: 0.7010\n",
      "Epoch 2/17\n",
      "556/556 [==============================] - 317s 571ms/step - loss: 0.9163 - accuracy: 0.6687 - val_loss: 0.7574 - val_accuracy: 0.7111\n",
      "Epoch 3/17\n",
      "556/556 [==============================] - 309s 556ms/step - loss: 0.8472 - accuracy: 0.6975 - val_loss: 0.5631 - val_accuracy: 0.7879\n",
      "Epoch 4/17\n",
      "556/556 [==============================] - 315s 566ms/step - loss: 0.8010 - accuracy: 0.7054 - val_loss: 0.5312 - val_accuracy: 0.8061\n",
      "Epoch 5/17\n",
      "556/556 [==============================] - 315s 566ms/step - loss: 0.7958 - accuracy: 0.7040 - val_loss: 0.8166 - val_accuracy: 0.7253\n",
      "Epoch 6/17\n",
      "556/556 [==============================] - 315s 566ms/step - loss: 0.7518 - accuracy: 0.7288 - val_loss: 0.4841 - val_accuracy: 0.8222\n",
      "Epoch 7/17\n",
      "556/556 [==============================] - 318s 572ms/step - loss: 0.7221 - accuracy: 0.7461 - val_loss: 0.4571 - val_accuracy: 0.8444\n",
      "Epoch 8/17\n",
      "556/556 [==============================] - 317s 570ms/step - loss: 0.7166 - accuracy: 0.7404 - val_loss: 0.4707 - val_accuracy: 0.8263\n",
      "Epoch 9/17\n",
      "556/556 [==============================] - 315s 567ms/step - loss: 0.7077 - accuracy: 0.7422 - val_loss: 0.4870 - val_accuracy: 0.8263\n",
      "Epoch 10/17\n",
      "556/556 [==============================] - 316s 568ms/step - loss: 0.6924 - accuracy: 0.7595 - val_loss: 0.6353 - val_accuracy: 0.7535\n",
      "Epoch 11/17\n",
      "556/556 [==============================] - 317s 571ms/step - loss: 0.6833 - accuracy: 0.7443 - val_loss: 0.5016 - val_accuracy: 0.8242\n",
      "Epoch 12/17\n",
      "556/556 [==============================] - 317s 570ms/step - loss: 0.7080 - accuracy: 0.7375 - val_loss: 0.4345 - val_accuracy: 0.8545\n",
      "Epoch 13/17\n",
      "556/556 [==============================] - 317s 570ms/step - loss: 0.6444 - accuracy: 0.7681 - val_loss: 0.5289 - val_accuracy: 0.8222\n",
      "Epoch 14/17\n",
      "556/556 [==============================] - 318s 571ms/step - loss: 0.6550 - accuracy: 0.7649 - val_loss: 0.4433 - val_accuracy: 0.8384\n",
      "Epoch 15/17\n",
      "556/556 [==============================] - 317s 571ms/step - loss: 0.6499 - accuracy: 0.7685 - val_loss: 0.4282 - val_accuracy: 0.8545\n",
      "Epoch 16/17\n",
      "556/556 [==============================] - 317s 570ms/step - loss: 0.6374 - accuracy: 0.7735 - val_loss: 0.4351 - val_accuracy: 0.8384\n",
      "Epoch 17/17\n",
      "556/556 [==============================] - 317s 570ms/step - loss: 0.6240 - accuracy: 0.7710 - val_loss: 0.4779 - val_accuracy: 0.8566\n"
     ]
    }
   ],
   "source": [
    "# Define the base model architecture\n",
    "base_model = VGG16(weights='imagenet', include_top=False, input_shape=(500, 500, 3))\n",
    "\n",
    "# Freeze the weights of the base model\n",
    "for layer in base_model.layers:\n",
    "    layer.trainable = False\n",
    "\n",
    "# Define the ResNet50 model architecture with the last layer having ReLU activation and a softmax layer\n",
    "x = Flatten()(base_model.output)\n",
    "x = Dense(512, activation='relu')(x)\n",
    "x = BatchNormalization()(x)\n",
    "x = Dropout(0.2)(x)\n",
    "output = Dense(5, activation='softmax')(x)\n",
    "model = Model(inputs=base_model.input, outputs=output)\n",
    "\n",
    "# Compile the model using ADAM optimizer, multinomial cross entropy loss, and batch normalization with a dropout rate of 20%\n",
    "model.compile(optimizer=Adam(), loss='categorical_crossentropy', metrics=['accuracy'])\n",
    "\n",
    "# Train the model using the fit() function with previous number of epochs\n",
    "history = model.fit(\n",
    "    combined_data,\n",
    "    steps_per_epoch=combined_data.samples // combined_data.batch_size,\n",
    "    validation_data=test_data,\n",
    "    validation_steps=test_data.samples // test_data.batch_size,\n",
    "    epochs=17,\n",
    "    workers=-1)"
   ]
  },
  {
   "cell_type": "code",
   "execution_count": 12,
   "metadata": {},
   "outputs": [
    {
     "data": {
      "image/png": "[encoded data removed]",
      "text/plain": [
       "<Figure size 432x288 with 1 Axes>"
      ]
     },
     "metadata": {
      "needs_background": "light"
     },
     "output_type": "display_data"
    }
   ],
   "source": [
    "# Plot the training and validation errors vs. epochs\n",
    "plt.plot(history.history['loss'], label='training')\n",
    "plt.plot(history.history['val_loss'], label='validation')\n",
    "plt.xlabel('Epoch')\n",
    "plt.ylabel('Loss')\n",
    "plt.title('Training and Validation Loss for VGG16')\n",
    "plt.legend()\n",
    "plt.show()"
   ]
  },
  {
   "cell_type": "code",
   "execution_count": null,
   "metadata": {},
   "outputs": [],
   "source": [
    "# save the new model\n",
    "model.save('../data/model/VGG16_new.h5')"
   ]
  },
  {
   "cell_type": "markdown",
   "metadata": {},
   "source": [
    "After reusing the validation and test data, all three models showed an improvement in performance."
   ]
  },
  {
   "cell_type": "markdown",
   "metadata": {},
   "source": [
    "#### ii. Apply at least L equally spaced frames of each video in the folder Sport Videos5 to your model to obtain L vectors of probability predictions from the softmax in your model. You must choose L to be at least 100, but you are welcome to use all the frames in each video. Calculate the average p ̄ of these probability vectors for each video.\n",
    "\n",
    "#### iii. Select the class with maximum probability in the vector p ̄ for each video and compare it to the actual label of the video.\n",
    "\n",
    "#### iv. Report the Confusion Matrix, Precision, Recall, Accuracy, and F1 score for your model on the test data, i.e. videos. Remember that this is a multi-class classification problem."
   ]
  },
  {
   "cell_type": "code",
   "execution_count": 27,
   "metadata": {},
   "outputs": [],
   "source": [
    "from tensorflow.keras.models import load_model\n",
    "\n",
    "def video_classification(model):\n",
    "    # Load the saved model\n",
    "    saved_model = load_model(os.path.join('../data/model/' + model + '.h5'))\n",
    "\n",
    "    # Define the video folder\n",
    "    video_folder = '../data/Sport Videos'\n",
    "\n",
    "    # Define the input size of the model\n",
    "    input_size = (500, 500)\n",
    "\n",
    "    # Define the class names\n",
    "    sports_lst = ['BaseballPitch','Basketball','Fencing','TennisSwing','VolleyballSpiking']\n",
    "    pred_class_lst = []\n",
    "    actual_class_lst = []\n",
    "\n",
    "    # Loop over all the videos in the folder\n",
    "    for sport in sports_lst:\n",
    "        for video_file in os.listdir(os.path.join(video_folder, sport)):\n",
    "            # Read the video file\n",
    "            cap = cv2.VideoCapture(os.path.join(video_folder, sport, video_file))\n",
    "\n",
    "            # Calculate the total number of frames and the frame interval\n",
    "            num_frames_total = int(cap.get(cv2.CAP_PROP_FRAME_COUNT))\n",
    "\n",
    "            # Initialize the probability vector\n",
    "            prob_vector = np.zeros((len(sports_lst),))\n",
    "\n",
    "            # Loop over the frames\n",
    "            for i in range(num_frames_total):\n",
    "                cap.set(cv2.CAP_PROP_POS_FRAMES, i) # Set the video position to the current frame index\n",
    "                ret, frame = cap.read() # Read the frame and resize it to the input size\n",
    "                if not ret:\n",
    "                    break\n",
    "                frame = cv2.resize(frame, input_size)\n",
    "\n",
    "                # Preprocess the frame and pass it through the model to obtain the probability predictions\n",
    "                frame = frame.astype('float32') / 255.0\n",
    "                frame = np.expand_dims(frame, axis=0)\n",
    "                prob = saved_model.predict(frame, verbose=0)[0]\n",
    "\n",
    "                # Add the probability predictions to the probability vector\n",
    "                prob_vector += prob\n",
    "\n",
    "            # Average the probability vector\n",
    "            prob_vector /= num_frames_total\n",
    "\n",
    "            # Select the class with the maximum probability and compare it to the actual label\n",
    "            pred_class = np.argmax(prob_vector)\n",
    "            actual_class = sports_lst.index(sport)\n",
    "            pred_class_lst.append(pred_class)\n",
    "            actual_class_lst.append(actual_class)\n",
    "     \n",
    "    return pred_class_lst, actual_class_lst"
   ]
  },
  {
   "cell_type": "code",
   "execution_count": 12,
   "metadata": {},
   "outputs": [],
   "source": [
    "from sklearn.metrics import confusion_matrix, classification_report, accuracy_score, f1_score, precision_score, recall_score\n",
    "\n",
    "def evaluate_model(pred_class_lst, actual_class_lst):\n",
    "    # compute confusion matrix, precision, recall, accuracy, and F1 score for test set\n",
    "    test_cm = confusion_matrix(actual_class_lst, pred_class_lst)\n",
    "    test_report = classification_report(actual_class_lst, pred_class_lst)\n",
    "    test_accuracy = accuracy_score(actual_class_lst, pred_class_lst)\n",
    "    test_f1_score = f1_score(actual_class_lst, pred_class_lst, average='weighted', zero_division=0)\n",
    "    test_precision = precision_score(actual_class_lst, pred_class_lst, average='weighted', zero_division=0)\n",
    "    test_recall = recall_score(actual_class_lst, pred_class_lst, average='weighted', zero_division=0)\n",
    "\n",
    "    # print the results\n",
    "    print('Test set accuracy:', test_accuracy)\n",
    "    print('Test set F1 score:', test_f1_score)\n",
    "    print('Test set precision:', test_precision)\n",
    "    print('Test set recall:', test_recall)\n",
    "    print('Test set confusion matrix:\\n', test_cm)\n",
    "    print('Test set classification report:\\n', test_report)"
   ]
  },
  {
   "cell_type": "code",
   "execution_count": 3,
   "metadata": {},
   "outputs": [],
   "source": [
    "actual_class_lst = [0, 0, 0, 0, 0, 0, 0, 0, 0, 0, 0, 0, 0, 0, 0, 0, 0, 0, 0, 0, 0, 0, 0, 0, 0, 0, 0, 0, 0, 0, 0, 0, 0, 0, 0, 0, 0, 0, 0, 0, 0, 0, 0, 0, 0, 0, 0, 0, 0, 0, 0, 0, 0, 0, 0, 0, 0, 0, 0, 0, 0, 0, 0, 0, 0, 0, 0, 0, 0, 0, 0, 0, 0, 0, 0, 0, 0, 0, 0, 0, 0, 0, 0, 0, 0, 0, 0, 0, 0, 0, 0, 0, 0, 0, 0, 0, 0, 0, 0, 0, 0, 0, 0, 0, 0, 0, 0, 0, 0, 0, 0, 0, 0, 0, 0, 0, 0, 0, 0, 0, 0, 0, 0, 0, 0, 0, 0, 0, 0, 0, 0, 0, 0, 0, 0, 0, 0, 0, 0, 0, 0, 0, 0, 0, 0, 0, 0, 0, 0, 0,\n",
    "                   1, 1, 1, 1, 1, 1, 1, 1, 1, 1, 1, 1, 1, 1, 1, 1, 1, 1, 1, 1, 1, 1, 1, 1, 1, 1, 1, 1, 1, 1, 1, 1, 1, 1, 1, 1, 1, 1, 1, 1, 1, 1, 1, 1, 1, 1, 1, 1, 1, 1, 1, 1, 1, 1, 1, 1, 1, 1, 1, 1, 1, 1, 1, 1, 1, 1, 1, 1, 1, 1, 1, 1, 1, 1, 1, 1, 1, 1, 1, 1, 1, 1, 1, 1, 1, 1, 1, 1, 1, 1, 1, 1, 1, 1, 1, 1, 1, 1, 1, 1, 1, 1, 1, 1, 1, 1, 1, 1, 1, 1, 1, 1, 1, 1, 1, 1, 1, 1, 1, 1, 1, 1, 1, 1, 1, 1, 1, 1, 1, 1, 1, 1, 1, 1, 1, 1, 1,\n",
    "                   2, 2, 2, 2, 2, 2, 2, 2, 2, 2, 2, 2, 2, 2, 2, 2, 2, 2, 2, 2, 2, 2, 2, 2, 2, 2, 2, 2, 2, 2, 2, 2, 2, 2, 2, 2, 2, 2, 2, 2, 2, 2, 2, 2, 2, 2, 2, 2, 2, 2, 2, 2, 2, 2, 2, 2, 2, 2, 2, 2, 2, 2, 2, 2, 2, 2, 2, 2, 2, 2, 2, 2, 2, 2, 2, 2, 2, 2, 2, 2, 2, 2, 2, 2, 2, 2, 2, 2, 2, 2, 2, 2, 2, 2, 2, 2, 2, 2, 2, 2, 2, 2, 2, 2, 2, 2, 2, 2, 2, 2, 2,\n",
    "                   3, 3, 3, 3, 3, 3, 3, 3, 3, 3, 3, 3, 3, 3, 3, 3, 3, 3, 3, 3, 3, 3, 3, 3, 3, 3, 3, 3, 3, 3, 3, 3, 3, 3, 3, 3, 3, 3, 3, 3, 3, 3, 3, 3, 3, 3, 3, 3, 3, 3, 3, 3, 3, 3, 3, 3, 3, 3, 3, 3, 3, 3, 3, 3, 3, 3, 3, 3, 3, 3, 3, 3, 3, 3, 3, 3, 3, 3, 3, 3, 3, 3, 3, 3, 3, 3, 3, 3, 3, 3, 3, 3, 3, 3, 3, 3, 3, 3, 3, 3, 3, 3, 3, 3, 3, 3, 3, 3, 3, 3, 3, 3, 3, 3, 3, 3, 3, 3, 3, 3, 3, 3, 3, 3, 3, 3, 3, 3, 3, 3, 3, 3, 3, 3, 3, 3, 3, 3, 3, 3, 3, 3, 3, 3, 3, 3, 3, 3, 3, 3, 3, 3, 3, 3, 3, 3, 3, 3, 3, 3, 3, 3, 3, 3, 3, 3, 3,\n",
    "                   4, 4, 4, 4, 4, 4, 4, 4, 4, 4, 4, 4, 4, 4, 4, 4, 4, 4, 4, 4, 4, 4, 4, 4, 4, 4, 4, 4, 4, 4, 4, 4, 4, 4, 4, 4, 4, 4, 4, 4, 4, 4, 4, 4, 4, 4, 4, 4, 4, 4, 4, 4, 4, 4, 4, 4, 4, 4, 4, 4, 4, 4, 4, 4, 4, 4, 4, 4, 4, 4, 4, 4, 4, 4, 4, 4, 4, 4, 4, 4, 4, 4, 4, 4, 4, 4, 4, 4, 4, 4, 4, 4, 4, 4, 4, 4, 4, 4, 4, 4, 4, 4, 4, 4, 4, 4, 4, 4, 4, 4, 4, 4, 4, 4, 4, 4]"
   ]
  },
  {
   "cell_type": "markdown",
   "metadata": {},
   "source": [
    "##### ResNet50"
   ]
  },
  {
   "cell_type": "code",
   "execution_count": null,
   "metadata": {},
   "outputs": [],
   "source": [
    "pred_class_lst, actual_class_lst = video_classification('ResNet50_new')"
   ]
  },
  {
   "cell_type": "code",
   "execution_count": 16,
   "metadata": {},
   "outputs": [
    {
     "name": "stdout",
     "output_type": "stream",
     "text": [
      "Test set accuracy: 0.18208516886930984\n",
      "Test set F1 score: 0.09210922339412461\n",
      "Test set precision: 0.2798780979567529\n",
      "Test set recall: 0.18208516886930984\n",
      "Test set confusion matrix:\n",
      " [[  1   0  30   0 119]\n",
      " [  0   0  69   0  68]\n",
      " [  0   0  46   0  65]\n",
      " [  0   0  93   0  74]\n",
      " [  0   0  39   0  77]]\n",
      "Test set classification report:\n",
      "               precision    recall  f1-score   support\n",
      "\n",
      "           0       1.00      0.01      0.01       150\n",
      "           1       0.00      0.00      0.00       137\n",
      "           2       0.17      0.41      0.24       111\n",
      "           3       0.00      0.00      0.00       167\n",
      "           4       0.19      0.66      0.30       116\n",
      "\n",
      "    accuracy                           0.18       681\n",
      "   macro avg       0.27      0.22      0.11       681\n",
      "weighted avg       0.28      0.18      0.09       681\n",
      "\n"
     ]
    },
    {
     "name": "stderr",
     "output_type": "stream",
     "text": [
      "/home1/jinyiy/.local/lib/python3.9/site-packages/sklearn/metrics/_classification.py:1334: UndefinedMetricWarning: Precision and F-score are ill-defined and being set to 0.0 in labels with no predicted samples. Use `zero_division` parameter to control this behavior.\n",
      "  _warn_prf(average, modifier, msg_start, len(result))\n",
      "/home1/jinyiy/.local/lib/python3.9/site-packages/sklearn/metrics/_classification.py:1334: UndefinedMetricWarning: Precision and F-score are ill-defined and being set to 0.0 in labels with no predicted samples. Use `zero_division` parameter to control this behavior.\n",
      "  _warn_prf(average, modifier, msg_start, len(result))\n",
      "/home1/jinyiy/.local/lib/python3.9/site-packages/sklearn/metrics/_classification.py:1334: UndefinedMetricWarning: Precision and F-score are ill-defined and being set to 0.0 in labels with no predicted samples. Use `zero_division` parameter to control this behavior.\n",
      "  _warn_prf(average, modifier, msg_start, len(result))\n"
     ]
    }
   ],
   "source": [
    "evaluate_model(pred_class_lst, actual_class_lst)"
   ]
  },
  {
   "cell_type": "markdown",
   "metadata": {},
   "source": [
    "##### EfficientNetB0"
   ]
  },
  {
   "cell_type": "code",
   "execution_count": null,
   "metadata": {},
   "outputs": [],
   "source": [
    "pred_class_lst, actual_class_lst = video_classification('EfficientNetB0_new')"
   ]
  },
  {
   "cell_type": "code",
   "execution_count": 18,
   "metadata": {},
   "outputs": [
    {
     "name": "stdout",
     "output_type": "stream",
     "text": [
      "Test set accuracy: 0.25844346549192365\n",
      "Test set F1 score: 0.1599979165283946\n",
      "Test set precision: 0.28448818902425915\n",
      "Test set recall: 0.25844346549192365\n",
      "Test set confusion matrix:\n",
      " [[  0   0  24 126   0]\n",
      " [  0   0  12 125   0]\n",
      " [  0   0  30  81   0]\n",
      " [  0   0  26 141   0]\n",
      " [ 49   0   9  53   5]]\n",
      "Test set classification report:\n",
      "               precision    recall  f1-score   support\n",
      "\n",
      "           0       0.00      0.00      0.00       150\n",
      "           1       0.00      0.00      0.00       137\n",
      "           2       0.30      0.27      0.28       111\n",
      "           3       0.27      0.84      0.41       167\n",
      "           4       1.00      0.04      0.08       116\n",
      "\n",
      "    accuracy                           0.26       681\n",
      "   macro avg       0.31      0.23      0.15       681\n",
      "weighted avg       0.28      0.26      0.16       681\n",
      "\n"
     ]
    },
    {
     "name": "stderr",
     "output_type": "stream",
     "text": [
      "/home1/jinyiy/.local/lib/python3.9/site-packages/sklearn/metrics/_classification.py:1334: UndefinedMetricWarning: Precision and F-score are ill-defined and being set to 0.0 in labels with no predicted samples. Use `zero_division` parameter to control this behavior.\n",
      "  _warn_prf(average, modifier, msg_start, len(result))\n",
      "/home1/jinyiy/.local/lib/python3.9/site-packages/sklearn/metrics/_classification.py:1334: UndefinedMetricWarning: Precision and F-score are ill-defined and being set to 0.0 in labels with no predicted samples. Use `zero_division` parameter to control this behavior.\n",
      "  _warn_prf(average, modifier, msg_start, len(result))\n",
      "/home1/jinyiy/.local/lib/python3.9/site-packages/sklearn/metrics/_classification.py:1334: UndefinedMetricWarning: Precision and F-score are ill-defined and being set to 0.0 in labels with no predicted samples. Use `zero_division` parameter to control this behavior.\n",
      "  _warn_prf(average, modifier, msg_start, len(result))\n"
     ]
    }
   ],
   "source": [
    "evaluate_model(pred_class_lst, actual_class_lst)"
   ]
  },
  {
   "cell_type": "markdown",
   "metadata": {},
   "source": [
    "##### VGG16"
   ]
  },
  {
   "cell_type": "code",
   "execution_count": null,
   "metadata": {},
   "outputs": [],
   "source": [
    "pred_class_lst, actual_class_lst = video_classification('VGG16_new')"
   ]
  },
  {
   "cell_type": "code",
   "execution_count": 14,
   "metadata": {},
   "outputs": [
    {
     "name": "stdout",
     "output_type": "stream",
     "text": [
      "Test set accuracy: 0.527165932452276\n",
      "Test set F1 score: 0.45517071772424\n",
      "Test set precision: 0.4104098588284369\n",
      "Test set recall: 0.527165932452276\n",
      "Test set confusion matrix:\n",
      " [[135   0   2  12   1]\n",
      " [ 29   0  31  63  14]\n",
      " [  8   0  90   0  13]\n",
      " [ 14   0  28 100  25]\n",
      " [ 26   0  33  23  34]]\n",
      "Test set classification report:\n",
      "               precision    recall  f1-score   support\n",
      "\n",
      "           0       0.64      0.90      0.75       150\n",
      "           1       0.00      0.00      0.00       137\n",
      "           2       0.49      0.81      0.61       111\n",
      "           3       0.51      0.60      0.55       167\n",
      "           4       0.39      0.29      0.33       116\n",
      "\n",
      "    accuracy                           0.53       681\n",
      "   macro avg       0.40      0.52      0.45       681\n",
      "weighted avg       0.41      0.53      0.46       681\n",
      "\n"
     ]
    },
    {
     "name": "stderr",
     "output_type": "stream",
     "text": [
      "/home1/jinyiy/.local/lib/python3.9/site-packages/sklearn/metrics/_classification.py:1334: UndefinedMetricWarning: Precision and F-score are ill-defined and being set to 0.0 in labels with no predicted samples. Use `zero_division` parameter to control this behavior.\n",
      "  _warn_prf(average, modifier, msg_start, len(result))\n",
      "/home1/jinyiy/.local/lib/python3.9/site-packages/sklearn/metrics/_classification.py:1334: UndefinedMetricWarning: Precision and F-score are ill-defined and being set to 0.0 in labels with no predicted samples. Use `zero_division` parameter to control this behavior.\n",
      "  _warn_prf(average, modifier, msg_start, len(result))\n",
      "/home1/jinyiy/.local/lib/python3.9/site-packages/sklearn/metrics/_classification.py:1334: UndefinedMetricWarning: Precision and F-score are ill-defined and being set to 0.0 in labels with no predicted samples. Use `zero_division` parameter to control this behavior.\n",
      "  _warn_prf(average, modifier, msg_start, len(result))\n"
     ]
    }
   ],
   "source": [
    "evaluate_model(pred_class_lst, actual_class_lst)"
   ]
  },
  {
   "cell_type": "markdown",
   "metadata": {},
   "source": [
    "From the results, we can observe that VGG16 achieved the highest classification accuracy of 53%. However, none of the classifiers were able to correctly classify any samples to the basketball class. It is possible that the features used to train the classifiers may not be discriminative enough to distinguish basketball from other sports. Further analysis of the data and the classifiers may help identify the reasons behind the poor performance on the basketball class, such as insufficient or biased data, or limitations in the chosen models."
   ]
  },
  {
   "cell_type": "code",
   "execution_count": null,
   "metadata": {},
   "outputs": [],
   "source": []
  }
 ],
 "metadata": {
  "kernelspec": {
   "display_name": "Python 3.9.12",
   "language": "python",
   "name": "python3"
  },
  "language_info": {
   "codemirror_mode": {
    "name": "ipython",
    "version": 3
   },
   "file_extension": ".py",
   "mimetype": "text/x-python",
   "name": "python",
   "nbconvert_exporter": "python",
   "pygments_lexer": "ipython3",
   "version": "3.9.6"
  },
  "vscode": {
   "interpreter": {
    "hash": "3c20c2d94d2527936fe0f3a300eb11db30fed84423423838e2f93b74eb7aaebc"
   }
  }
 },
 "nbformat": 4,
 "nbformat_minor": 4
}
