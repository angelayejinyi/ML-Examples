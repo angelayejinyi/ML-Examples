{
 "cells": [
  {
   "cell_type": "markdown",
   "metadata": {},
   "source": [
    "<center><h1>Ye_Jinyi_HW8</h1></center>"
   ]
  },
  {
   "cell_type": "markdown",
   "metadata": {},
   "source": [
    "Name: Jinyi Ye\n",
    "<br>\n",
    "Github Username: angelayejinyi\n",
    "<br>\n",
    "USC ID: 1552624974\n",
    "<br>\n",
    "Late Days: 3"
   ]
  },
  {
   "cell_type": "markdown",
   "metadata": {},
   "source": [
    "## 1. Supervised, Semi-Supervised, and Unsupervised Learning"
   ]
  },
  {
   "cell_type": "markdown",
   "metadata": {},
   "source": [
    "Import packages"
   ]
  },
  {
   "cell_type": "code",
   "execution_count": 1,
   "metadata": {},
   "outputs": [],
   "source": [
    "import numpy as np\n",
    "import pandas as pd\n",
    "import matplotlib.pyplot as plt"
   ]
  },
  {
   "cell_type": "markdown",
   "metadata": {},
   "source": [
    "### (a) Download the Breast Cancer Wisconsin (Diagnostic) Data Set"
   ]
  },
  {
   "cell_type": "code",
   "execution_count": 2,
   "metadata": {},
   "outputs": [],
   "source": [
    "# set column names according to wdbc.name\n",
    "column_names = ['id', 'diagnosis', 'radius_mean', 'texture_mean', 'perimeter_mean', 'area_mean', 'smoothness_mean', \n",
    "                'compactness_mean', 'concavity_mean', 'concave_points_mean', 'symmetry_mean', 'fractal_dimension_mean',\n",
    "                'radius_se', 'texture_se', 'perimeter_se', 'area_se', 'smoothness_se', 'compactness_se',\n",
    "                'concavity_se', 'concave_points_se', 'symmetry_se', 'fractal_dimension_se', 'radius_worst',\n",
    "                'texture_worst', 'perimeter_worst', 'area_worst', 'smoothness_worst', 'compactness_worst',\n",
    "                'concavity_worst', 'concave_points_worst', 'symmetry_worst', 'fractal_dimension_worst']\n",
    "\n",
    "df = pd.read_csv('../data/wdbc.data', header=None, names=column_names, sep=',')\n",
    "\n",
    "# replace 'M-malicious' with 1 and 'B-benign' with 0\n",
    "df['diagnosis'] = df['diagnosis'].replace({'M': 1, 'B': 0})"
   ]
  },
  {
   "cell_type": "code",
   "execution_count": 3,
   "metadata": {},
   "outputs": [
    {
     "data": {
      "text/html": [
       "<div>\n",
       "<style scoped>\n",
       "    .dataframe tbody tr th:only-of-type {\n",
       "        vertical-align: middle;\n",
       "    }\n",
       "\n",
       "    .dataframe tbody tr th {\n",
       "        vertical-align: top;\n",
       "    }\n",
       "\n",
       "    .dataframe thead th {\n",
       "        text-align: right;\n",
       "    }\n",
       "</style>\n",
       "<table border=\"1\" class=\"dataframe\">\n",
       "  <thead>\n",
       "    <tr style=\"text-align: right;\">\n",
       "      <th></th>\n",
       "      <th>id</th>\n",
       "      <th>diagnosis</th>\n",
       "      <th>radius_mean</th>\n",
       "      <th>texture_mean</th>\n",
       "      <th>perimeter_mean</th>\n",
       "      <th>area_mean</th>\n",
       "      <th>smoothness_mean</th>\n",
       "      <th>compactness_mean</th>\n",
       "      <th>concavity_mean</th>\n",
       "      <th>concave_points_mean</th>\n",
       "      <th>...</th>\n",
       "      <th>radius_worst</th>\n",
       "      <th>texture_worst</th>\n",
       "      <th>perimeter_worst</th>\n",
       "      <th>area_worst</th>\n",
       "      <th>smoothness_worst</th>\n",
       "      <th>compactness_worst</th>\n",
       "      <th>concavity_worst</th>\n",
       "      <th>concave_points_worst</th>\n",
       "      <th>symmetry_worst</th>\n",
       "      <th>fractal_dimension_worst</th>\n",
       "    </tr>\n",
       "  </thead>\n",
       "  <tbody>\n",
       "    <tr>\n",
       "      <th>0</th>\n",
       "      <td>842302</td>\n",
       "      <td>1</td>\n",
       "      <td>17.99</td>\n",
       "      <td>10.38</td>\n",
       "      <td>122.80</td>\n",
       "      <td>1001.0</td>\n",
       "      <td>0.11840</td>\n",
       "      <td>0.27760</td>\n",
       "      <td>0.30010</td>\n",
       "      <td>0.14710</td>\n",
       "      <td>...</td>\n",
       "      <td>25.380</td>\n",
       "      <td>17.33</td>\n",
       "      <td>184.60</td>\n",
       "      <td>2019.0</td>\n",
       "      <td>0.16220</td>\n",
       "      <td>0.66560</td>\n",
       "      <td>0.7119</td>\n",
       "      <td>0.2654</td>\n",
       "      <td>0.4601</td>\n",
       "      <td>0.11890</td>\n",
       "    </tr>\n",
       "    <tr>\n",
       "      <th>1</th>\n",
       "      <td>842517</td>\n",
       "      <td>1</td>\n",
       "      <td>20.57</td>\n",
       "      <td>17.77</td>\n",
       "      <td>132.90</td>\n",
       "      <td>1326.0</td>\n",
       "      <td>0.08474</td>\n",
       "      <td>0.07864</td>\n",
       "      <td>0.08690</td>\n",
       "      <td>0.07017</td>\n",
       "      <td>...</td>\n",
       "      <td>24.990</td>\n",
       "      <td>23.41</td>\n",
       "      <td>158.80</td>\n",
       "      <td>1956.0</td>\n",
       "      <td>0.12380</td>\n",
       "      <td>0.18660</td>\n",
       "      <td>0.2416</td>\n",
       "      <td>0.1860</td>\n",
       "      <td>0.2750</td>\n",
       "      <td>0.08902</td>\n",
       "    </tr>\n",
       "    <tr>\n",
       "      <th>2</th>\n",
       "      <td>84300903</td>\n",
       "      <td>1</td>\n",
       "      <td>19.69</td>\n",
       "      <td>21.25</td>\n",
       "      <td>130.00</td>\n",
       "      <td>1203.0</td>\n",
       "      <td>0.10960</td>\n",
       "      <td>0.15990</td>\n",
       "      <td>0.19740</td>\n",
       "      <td>0.12790</td>\n",
       "      <td>...</td>\n",
       "      <td>23.570</td>\n",
       "      <td>25.53</td>\n",
       "      <td>152.50</td>\n",
       "      <td>1709.0</td>\n",
       "      <td>0.14440</td>\n",
       "      <td>0.42450</td>\n",
       "      <td>0.4504</td>\n",
       "      <td>0.2430</td>\n",
       "      <td>0.3613</td>\n",
       "      <td>0.08758</td>\n",
       "    </tr>\n",
       "    <tr>\n",
       "      <th>3</th>\n",
       "      <td>84348301</td>\n",
       "      <td>1</td>\n",
       "      <td>11.42</td>\n",
       "      <td>20.38</td>\n",
       "      <td>77.58</td>\n",
       "      <td>386.1</td>\n",
       "      <td>0.14250</td>\n",
       "      <td>0.28390</td>\n",
       "      <td>0.24140</td>\n",
       "      <td>0.10520</td>\n",
       "      <td>...</td>\n",
       "      <td>14.910</td>\n",
       "      <td>26.50</td>\n",
       "      <td>98.87</td>\n",
       "      <td>567.7</td>\n",
       "      <td>0.20980</td>\n",
       "      <td>0.86630</td>\n",
       "      <td>0.6869</td>\n",
       "      <td>0.2575</td>\n",
       "      <td>0.6638</td>\n",
       "      <td>0.17300</td>\n",
       "    </tr>\n",
       "    <tr>\n",
       "      <th>4</th>\n",
       "      <td>84358402</td>\n",
       "      <td>1</td>\n",
       "      <td>20.29</td>\n",
       "      <td>14.34</td>\n",
       "      <td>135.10</td>\n",
       "      <td>1297.0</td>\n",
       "      <td>0.10030</td>\n",
       "      <td>0.13280</td>\n",
       "      <td>0.19800</td>\n",
       "      <td>0.10430</td>\n",
       "      <td>...</td>\n",
       "      <td>22.540</td>\n",
       "      <td>16.67</td>\n",
       "      <td>152.20</td>\n",
       "      <td>1575.0</td>\n",
       "      <td>0.13740</td>\n",
       "      <td>0.20500</td>\n",
       "      <td>0.4000</td>\n",
       "      <td>0.1625</td>\n",
       "      <td>0.2364</td>\n",
       "      <td>0.07678</td>\n",
       "    </tr>\n",
       "    <tr>\n",
       "      <th>...</th>\n",
       "      <td>...</td>\n",
       "      <td>...</td>\n",
       "      <td>...</td>\n",
       "      <td>...</td>\n",
       "      <td>...</td>\n",
       "      <td>...</td>\n",
       "      <td>...</td>\n",
       "      <td>...</td>\n",
       "      <td>...</td>\n",
       "      <td>...</td>\n",
       "      <td>...</td>\n",
       "      <td>...</td>\n",
       "      <td>...</td>\n",
       "      <td>...</td>\n",
       "      <td>...</td>\n",
       "      <td>...</td>\n",
       "      <td>...</td>\n",
       "      <td>...</td>\n",
       "      <td>...</td>\n",
       "      <td>...</td>\n",
       "      <td>...</td>\n",
       "    </tr>\n",
       "    <tr>\n",
       "      <th>564</th>\n",
       "      <td>926424</td>\n",
       "      <td>1</td>\n",
       "      <td>21.56</td>\n",
       "      <td>22.39</td>\n",
       "      <td>142.00</td>\n",
       "      <td>1479.0</td>\n",
       "      <td>0.11100</td>\n",
       "      <td>0.11590</td>\n",
       "      <td>0.24390</td>\n",
       "      <td>0.13890</td>\n",
       "      <td>...</td>\n",
       "      <td>25.450</td>\n",
       "      <td>26.40</td>\n",
       "      <td>166.10</td>\n",
       "      <td>2027.0</td>\n",
       "      <td>0.14100</td>\n",
       "      <td>0.21130</td>\n",
       "      <td>0.4107</td>\n",
       "      <td>0.2216</td>\n",
       "      <td>0.2060</td>\n",
       "      <td>0.07115</td>\n",
       "    </tr>\n",
       "    <tr>\n",
       "      <th>565</th>\n",
       "      <td>926682</td>\n",
       "      <td>1</td>\n",
       "      <td>20.13</td>\n",
       "      <td>28.25</td>\n",
       "      <td>131.20</td>\n",
       "      <td>1261.0</td>\n",
       "      <td>0.09780</td>\n",
       "      <td>0.10340</td>\n",
       "      <td>0.14400</td>\n",
       "      <td>0.09791</td>\n",
       "      <td>...</td>\n",
       "      <td>23.690</td>\n",
       "      <td>38.25</td>\n",
       "      <td>155.00</td>\n",
       "      <td>1731.0</td>\n",
       "      <td>0.11660</td>\n",
       "      <td>0.19220</td>\n",
       "      <td>0.3215</td>\n",
       "      <td>0.1628</td>\n",
       "      <td>0.2572</td>\n",
       "      <td>0.06637</td>\n",
       "    </tr>\n",
       "    <tr>\n",
       "      <th>566</th>\n",
       "      <td>926954</td>\n",
       "      <td>1</td>\n",
       "      <td>16.60</td>\n",
       "      <td>28.08</td>\n",
       "      <td>108.30</td>\n",
       "      <td>858.1</td>\n",
       "      <td>0.08455</td>\n",
       "      <td>0.10230</td>\n",
       "      <td>0.09251</td>\n",
       "      <td>0.05302</td>\n",
       "      <td>...</td>\n",
       "      <td>18.980</td>\n",
       "      <td>34.12</td>\n",
       "      <td>126.70</td>\n",
       "      <td>1124.0</td>\n",
       "      <td>0.11390</td>\n",
       "      <td>0.30940</td>\n",
       "      <td>0.3403</td>\n",
       "      <td>0.1418</td>\n",
       "      <td>0.2218</td>\n",
       "      <td>0.07820</td>\n",
       "    </tr>\n",
       "    <tr>\n",
       "      <th>567</th>\n",
       "      <td>927241</td>\n",
       "      <td>1</td>\n",
       "      <td>20.60</td>\n",
       "      <td>29.33</td>\n",
       "      <td>140.10</td>\n",
       "      <td>1265.0</td>\n",
       "      <td>0.11780</td>\n",
       "      <td>0.27700</td>\n",
       "      <td>0.35140</td>\n",
       "      <td>0.15200</td>\n",
       "      <td>...</td>\n",
       "      <td>25.740</td>\n",
       "      <td>39.42</td>\n",
       "      <td>184.60</td>\n",
       "      <td>1821.0</td>\n",
       "      <td>0.16500</td>\n",
       "      <td>0.86810</td>\n",
       "      <td>0.9387</td>\n",
       "      <td>0.2650</td>\n",
       "      <td>0.4087</td>\n",
       "      <td>0.12400</td>\n",
       "    </tr>\n",
       "    <tr>\n",
       "      <th>568</th>\n",
       "      <td>92751</td>\n",
       "      <td>0</td>\n",
       "      <td>7.76</td>\n",
       "      <td>24.54</td>\n",
       "      <td>47.92</td>\n",
       "      <td>181.0</td>\n",
       "      <td>0.05263</td>\n",
       "      <td>0.04362</td>\n",
       "      <td>0.00000</td>\n",
       "      <td>0.00000</td>\n",
       "      <td>...</td>\n",
       "      <td>9.456</td>\n",
       "      <td>30.37</td>\n",
       "      <td>59.16</td>\n",
       "      <td>268.6</td>\n",
       "      <td>0.08996</td>\n",
       "      <td>0.06444</td>\n",
       "      <td>0.0000</td>\n",
       "      <td>0.0000</td>\n",
       "      <td>0.2871</td>\n",
       "      <td>0.07039</td>\n",
       "    </tr>\n",
       "  </tbody>\n",
       "</table>\n",
       "<p>569 rows × 32 columns</p>\n",
       "</div>"
      ],
      "text/plain": [
       "           id  diagnosis  radius_mean  texture_mean  perimeter_mean  \\\n",
       "0      842302          1        17.99         10.38          122.80   \n",
       "1      842517          1        20.57         17.77          132.90   \n",
       "2    84300903          1        19.69         21.25          130.00   \n",
       "3    84348301          1        11.42         20.38           77.58   \n",
       "4    84358402          1        20.29         14.34          135.10   \n",
       "..        ...        ...          ...           ...             ...   \n",
       "564    926424          1        21.56         22.39          142.00   \n",
       "565    926682          1        20.13         28.25          131.20   \n",
       "566    926954          1        16.60         28.08          108.30   \n",
       "567    927241          1        20.60         29.33          140.10   \n",
       "568     92751          0         7.76         24.54           47.92   \n",
       "\n",
       "     area_mean  smoothness_mean  compactness_mean  concavity_mean  \\\n",
       "0       1001.0          0.11840           0.27760         0.30010   \n",
       "1       1326.0          0.08474           0.07864         0.08690   \n",
       "2       1203.0          0.10960           0.15990         0.19740   \n",
       "3        386.1          0.14250           0.28390         0.24140   \n",
       "4       1297.0          0.10030           0.13280         0.19800   \n",
       "..         ...              ...               ...             ...   \n",
       "564     1479.0          0.11100           0.11590         0.24390   \n",
       "565     1261.0          0.09780           0.10340         0.14400   \n",
       "566      858.1          0.08455           0.10230         0.09251   \n",
       "567     1265.0          0.11780           0.27700         0.35140   \n",
       "568      181.0          0.05263           0.04362         0.00000   \n",
       "\n",
       "     concave_points_mean  ...  radius_worst  texture_worst  perimeter_worst  \\\n",
       "0                0.14710  ...        25.380          17.33           184.60   \n",
       "1                0.07017  ...        24.990          23.41           158.80   \n",
       "2                0.12790  ...        23.570          25.53           152.50   \n",
       "3                0.10520  ...        14.910          26.50            98.87   \n",
       "4                0.10430  ...        22.540          16.67           152.20   \n",
       "..                   ...  ...           ...            ...              ...   \n",
       "564              0.13890  ...        25.450          26.40           166.10   \n",
       "565              0.09791  ...        23.690          38.25           155.00   \n",
       "566              0.05302  ...        18.980          34.12           126.70   \n",
       "567              0.15200  ...        25.740          39.42           184.60   \n",
       "568              0.00000  ...         9.456          30.37            59.16   \n",
       "\n",
       "     area_worst  smoothness_worst  compactness_worst  concavity_worst  \\\n",
       "0        2019.0           0.16220            0.66560           0.7119   \n",
       "1        1956.0           0.12380            0.18660           0.2416   \n",
       "2        1709.0           0.14440            0.42450           0.4504   \n",
       "3         567.7           0.20980            0.86630           0.6869   \n",
       "4        1575.0           0.13740            0.20500           0.4000   \n",
       "..          ...               ...                ...              ...   \n",
       "564      2027.0           0.14100            0.21130           0.4107   \n",
       "565      1731.0           0.11660            0.19220           0.3215   \n",
       "566      1124.0           0.11390            0.30940           0.3403   \n",
       "567      1821.0           0.16500            0.86810           0.9387   \n",
       "568       268.6           0.08996            0.06444           0.0000   \n",
       "\n",
       "     concave_points_worst  symmetry_worst  fractal_dimension_worst  \n",
       "0                  0.2654          0.4601                  0.11890  \n",
       "1                  0.1860          0.2750                  0.08902  \n",
       "2                  0.2430          0.3613                  0.08758  \n",
       "3                  0.2575          0.6638                  0.17300  \n",
       "4                  0.1625          0.2364                  0.07678  \n",
       "..                    ...             ...                      ...  \n",
       "564                0.2216          0.2060                  0.07115  \n",
       "565                0.1628          0.2572                  0.06637  \n",
       "566                0.1418          0.2218                  0.07820  \n",
       "567                0.2650          0.4087                  0.12400  \n",
       "568                0.0000          0.2871                  0.07039  \n",
       "\n",
       "[569 rows x 32 columns]"
      ]
     },
     "execution_count": 3,
     "metadata": {},
     "output_type": "execute_result"
    }
   ],
   "source": [
    "df"
   ]
  },
  {
   "cell_type": "markdown",
   "metadata": {},
   "source": [
    "### (b) Monte-Carlo Simulation"
   ]
  },
  {
   "cell_type": "code",
   "execution_count": 2,
   "metadata": {},
   "outputs": [],
   "source": [
    "# define the train-test split function\n",
    "from sklearn.model_selection import train_test_split\n",
    "from sklearn.preprocessing import StandardScaler\n",
    "\n",
    "def split_dataset(df, normalize=False):\n",
    "    X = df.drop(['id', 'diagnosis'], axis=1)\n",
    "    y = df['diagnosis']\n",
    "    X_train, X_test, y_train, y_test = train_test_split(X, y, test_size=0.2, stratify=y)\n",
    "    if normalize:\n",
    "        scaler = StandardScaler()\n",
    "        X_train_normalized = scaler.fit_transform(X_train)\n",
    "        X_test_normalized = scaler.transform(X_test)\n",
    "        return X_train_normalized, X_test_normalized, y_train, y_test\n",
    "    else:\n",
    "        return X_train, X_test, y_train, y_test"
   ]
  },
  {
   "cell_type": "markdown",
   "metadata": {},
   "source": [
    "#### (i) Supervised Learning"
   ]
  },
  {
   "cell_type": "code",
   "execution_count": 8,
   "metadata": {},
   "outputs": [],
   "source": [
    "from sklearn.svm import LinearSVC\n",
    "from sklearn.model_selection import GridSearchCV\n",
    "from sklearn import metrics\n",
    "from sklearn.calibration import CalibratedClassifierCV"
   ]
  },
  {
   "cell_type": "code",
   "execution_count": 262,
   "metadata": {},
   "outputs": [
    {
     "name": "stdout",
     "output_type": "stream",
     "text": [
      "Attempt: 1\n",
      "Best penalty parameter: {'C': 1}\n",
      "Best cross-validation score: 0.9758241758241759\n",
      "Attempt: 2\n",
      "Best penalty parameter: {'C': 1}\n",
      "Best cross-validation score: 0.9802197802197803\n",
      "Attempt: 3\n",
      "Best penalty parameter: {'C': 0.1}\n",
      "Best cross-validation score: 0.9780219780219781\n",
      "Attempt: 4\n",
      "Best penalty parameter: {'C': 0.1}\n",
      "Best cross-validation score: 0.9736263736263737\n",
      "Attempt: 5\n",
      "Best penalty parameter: {'C': 0.1}\n",
      "Best cross-validation score: 0.9758241758241759\n",
      "Attempt: 6\n",
      "Best penalty parameter: {'C': 0.1}\n",
      "Best cross-validation score: 0.9736263736263737\n",
      "Attempt: 7\n",
      "Best penalty parameter: {'C': 0.1}\n",
      "Best cross-validation score: 0.9736263736263735\n",
      "Attempt: 8\n",
      "Best penalty parameter: {'C': 0.1}\n",
      "Best cross-validation score: 0.9824175824175825\n",
      "Attempt: 9\n",
      "Best penalty parameter: {'C': 1}\n",
      "Best cross-validation score: 0.9692307692307691\n",
      "Attempt: 10\n",
      "Best penalty parameter: {'C': 1}\n",
      "Best cross-validation score: 0.9692307692307693\n",
      "Attempt: 11\n",
      "Best penalty parameter: {'C': 0.1}\n",
      "Best cross-validation score: 0.9736263736263737\n",
      "Attempt: 12\n",
      "Best penalty parameter: {'C': 100}\n",
      "Best cross-validation score: 0.9714285714285715\n",
      "Attempt: 13\n",
      "Best penalty parameter: {'C': 0.1}\n",
      "Best cross-validation score: 0.9780219780219781\n",
      "Attempt: 14\n",
      "Best penalty parameter: {'C': 0.1}\n",
      "Best cross-validation score: 0.9670329670329669\n",
      "Attempt: 15\n",
      "Best penalty parameter: {'C': 0.1}\n",
      "Best cross-validation score: 0.9714285714285715\n",
      "Attempt: 16\n",
      "Best penalty parameter: {'C': 1}\n",
      "Best cross-validation score: 0.9670329670329672\n",
      "Attempt: 17\n",
      "Best penalty parameter: {'C': 0.1}\n",
      "Best cross-validation score: 0.9670329670329669\n",
      "Attempt: 18\n",
      "Best penalty parameter: {'C': 0.1}\n",
      "Best cross-validation score: 0.9758241758241759\n",
      "Attempt: 19\n",
      "Best penalty parameter: {'C': 0.1}\n",
      "Best cross-validation score: 0.9670329670329672\n",
      "Attempt: 20\n",
      "Best penalty parameter: {'C': 0.1}\n",
      "Best cross-validation score: 0.9692307692307693\n",
      "Attempt: 21\n",
      "Best penalty parameter: {'C': 0.1}\n",
      "Best cross-validation score: 0.9758241758241759\n",
      "Attempt: 22\n",
      "Best penalty parameter: {'C': 0.1}\n",
      "Best cross-validation score: 0.9802197802197803\n",
      "Attempt: 23\n",
      "Best penalty parameter: {'C': 0.1}\n",
      "Best cross-validation score: 0.9758241758241759\n",
      "Attempt: 24\n",
      "Best penalty parameter: {'C': 0.1}\n",
      "Best cross-validation score: 0.9648351648351647\n",
      "Attempt: 25\n",
      "Best penalty parameter: {'C': 1}\n",
      "Best cross-validation score: 0.9780219780219781\n",
      "Attempt: 26\n",
      "Best penalty parameter: {'C': 0.1}\n",
      "Best cross-validation score: 0.9846153846153847\n",
      "Attempt: 27\n",
      "Best penalty parameter: {'C': 1}\n",
      "Best cross-validation score: 0.9670329670329669\n",
      "Attempt: 28\n",
      "Best penalty parameter: {'C': 0.1}\n",
      "Best cross-validation score: 0.9736263736263737\n",
      "Attempt: 29\n",
      "Best penalty parameter: {'C': 0.1}\n",
      "Best cross-validation score: 0.9692307692307691\n",
      "Attempt: 30\n",
      "Best penalty parameter: {'C': 1}\n",
      "Best cross-validation score: 0.9670329670329672\n"
     ]
    }
   ],
   "source": [
    "train_acc = []\n",
    "train_prec = []\n",
    "train_rec = []\n",
    "train_f1 = []\n",
    "train_auc = []\n",
    "\n",
    "test_acc = []\n",
    "test_prec = []\n",
    "test_rec = []\n",
    "test_f1 = []\n",
    "test_auc = []\n",
    "\n",
    "# L1-penalized SVM, Monte-Carlo Simulation M=30\n",
    "for i in range(30):\n",
    "    X_train, X_test, y_train, y_test = split_dataset(df, normalize=True)\n",
    "\n",
    "    model = LinearSVC(penalty='l1', dual=False, max_iter=100000)\n",
    "    param_grid = {'C': [0.001, 0.01, 0.1, 1, 10, 100]}\n",
    "    grid_search = GridSearchCV(model, param_grid=param_grid, cv=5)\n",
    "    grid_search.fit(X_train, y_train)\n",
    "\n",
    "    print('Attempt:', i+1)\n",
    "    print(f\"Best penalty parameter: {grid_search.best_params_}\")\n",
    "    print(f\"Best cross-validation score: {grid_search.best_score_}\")\n",
    "\n",
    "    best_model = LinearSVC(penalty='l1', dual=False, C=grid_search.best_params_['C'], max_iter=100000)\n",
    "    best_model.fit(X_train, y_train)\n",
    "    y_train_pred = best_model.predict(X_train)\n",
    "    y_test_pred = best_model.predict(X_test)\n",
    "    \n",
    "    # Apply Platt scaling to obtain class probabilities\n",
    "    best_model_probs = CalibratedClassifierCV(best_model, method='sigmoid')\n",
    "    best_model_probs.fit(X_train, y_train)\n",
    "    y_train_prob = best_model_probs.predict_proba(X_train)[:, 1]\n",
    "    y_test_prob = best_model_probs.predict_proba(X_test)[:, 1]\n",
    "\n",
    "    # Compute evaluation metrics for training set\n",
    "    train_acc.append(metrics.accuracy_score(y_train, y_train_pred))\n",
    "    train_prec.append(metrics.precision_score(y_train, y_train_pred))\n",
    "    train_rec.append(metrics.recall_score(y_train, y_train_pred))\n",
    "    train_f1.append(metrics.f1_score(y_train, y_train_pred))\n",
    "    train_auc.append(metrics.roc_auc_score(y_train, y_train_pred))\n",
    "\n",
    "    # Compute evaluation metrics for test set\n",
    "    test_acc.append(metrics.accuracy_score(y_test, y_test_pred))\n",
    "    test_prec.append(metrics.precision_score(y_test, y_test_pred))\n",
    "    test_rec.append(metrics.recall_score(y_test, y_test_pred))\n",
    "    test_f1.append(metrics.f1_score(y_test, y_test_pred))\n",
    "    test_auc.append(metrics.roc_auc_score(y_test, y_test_pred))"
   ]
  },
  {
   "cell_type": "code",
   "execution_count": 263,
   "metadata": {},
   "outputs": [
    {
     "name": "stdout",
     "output_type": "stream",
     "text": [
      "Training set average evaluation metrics:\n",
      "Accuracy: 0.98711\n",
      "Precision: 0.99202\n",
      "Recall: 0.97333\n",
      "F1-score: 0.98256\n",
      "AUC: 0.98433\n",
      "\n",
      "Test set average evaluation metrics:\n",
      "Accuracy: 0.97164\n",
      "Precision: 0.97608\n",
      "Recall: 0.94683\n",
      "F1-score: 0.96071\n",
      "AUC: 0.96647\n"
     ]
    }
   ],
   "source": [
    "# Print average evaluation metrics for both sets\n",
    "print(\"Training set average evaluation metrics:\")\n",
    "print(\"Accuracy: {:.5f}\".format(np.mean(train_acc)))\n",
    "print(\"Precision: {:.5f}\".format(np.mean(train_prec)))\n",
    "print(\"Recall: {:.5f}\".format(np.mean(train_rec)))\n",
    "print(\"F1-score: {:.5f}\".format(np.mean(train_f1)))\n",
    "print(\"AUC: {:.5f}\".format(np.mean(train_auc)))\n",
    "\n",
    "print(\"\\nTest set average evaluation metrics:\")\n",
    "print(\"Accuracy: {:.5f}\".format(np.mean(test_acc)))\n",
    "print(\"Precision: {:.5f}\".format(np.mean(test_prec)))\n",
    "print(\"Recall: {:.5f}\".format(np.mean(test_rec)))\n",
    "print(\"F1-score: {:.5f}\".format(np.mean(test_f1)))\n",
    "print(\"AUC: {:.5f}\".format(np.mean(test_auc)))"
   ]
  },
  {
   "cell_type": "code",
   "execution_count": 264,
   "metadata": {},
   "outputs": [
    {
     "data": {
      "image/png": "[encoded data removed]",
      "text/plain": [
       "<Figure size 432x288 with 2 Axes>"
      ]
     },
     "metadata": {
      "needs_background": "light"
     },
     "output_type": "display_data"
    },
    {
     "data": {
      "image/png": "[encoded data removed]",
      "text/plain": [
       "<Figure size 432x288 with 2 Axes>"
      ]
     },
     "metadata": {
      "needs_background": "light"
     },
     "output_type": "display_data"
    }
   ],
   "source": [
    "# Report the confusion matrix for training and testing in one of the runs\n",
    "fig, ax = plt.subplots()\n",
    "cm = metrics.confusion_matrix(y_train, y_train_pred)\n",
    "cm_display = metrics.ConfusionMatrixDisplay(cm, display_labels=['0', '1'])\n",
    "cm_display.plot(ax=ax)\n",
    "ax.set_title('Confusion matrix for training set')\n",
    "plt.show()\n",
    "\n",
    "fig, ax = plt.subplots()\n",
    "cm = metrics.confusion_matrix(y_test, y_test_pred)\n",
    "cm_display = metrics.ConfusionMatrixDisplay(cm, display_labels=['0', '1'])\n",
    "cm_display.plot(ax=ax)\n",
    "ax.set_title('Confusion matrix for testing set')\n",
    "plt.show()"
   ]
  },
  {
   "cell_type": "code",
   "execution_count": 265,
   "metadata": {},
   "outputs": [
    {
     "data": {
      "image/png": "[encoded data removed]",
      "text/plain": [
       "<Figure size 432x288 with 1 Axes>"
      ]
     },
     "metadata": {
      "needs_background": "light"
     },
     "output_type": "display_data"
    },
    {
     "data": {
      "image/png": "[encoded data removed]",
      "text/plain": [
       "<Figure size 432x288 with 1 Axes>"
      ]
     },
     "metadata": {
      "needs_background": "light"
     },
     "output_type": "display_data"
    }
   ],
   "source": [
    "# Plot the ROC curve for training and testing in one of the runs\n",
    "fpr, tpr, thresholds = metrics.roc_curve(y_train, y_train_prob)\n",
    "roc_auc = metrics.auc(fpr, tpr)\n",
    "plt.figure()\n",
    "plt.plot(fpr, tpr, color='darkorange', label='ROC curve (AUC = %0.4f)' % roc_auc)\n",
    "plt.plot([0, 1], [0, 1], color='grey', linestyle='--')\n",
    "plt.xlabel('False Positive Rate')\n",
    "plt.ylabel('True Positive Rate')\n",
    "plt.title('ROC Curve of Training Set')\n",
    "plt.legend(loc=\"lower right\")\n",
    "plt.show()\n",
    "\n",
    "fpr, tpr, thresholds = metrics.roc_curve(y_test, y_test_prob)\n",
    "roc_auc = metrics.auc(fpr, tpr)\n",
    "plt.figure()\n",
    "plt.plot(fpr, tpr, color='darkorange', label='ROC curve (AUC = %0.4f)' % roc_auc)\n",
    "plt.plot([0, 1], [0, 1], color='grey', linestyle='--')\n",
    "plt.xlabel('False Positive Rate')\n",
    "plt.ylabel('True Positive Rate')\n",
    "plt.title('ROC Curve of Testing Set')\n",
    "plt.legend(loc=\"lower right\")\n",
    "plt.show()"
   ]
  },
  {
   "cell_type": "markdown",
   "metadata": {},
   "source": [
    "#### (ii) Semi-Supervised Learning/ Self-training"
   ]
  },
  {
   "cell_type": "markdown",
   "metadata": {},
   "source": [
    "##### (A) & (B)"
   ]
  },
  {
   "cell_type": "code",
   "execution_count": 258,
   "metadata": {},
   "outputs": [
    {
     "name": "stdout",
     "output_type": "stream",
     "text": [
      "Attempt: 1\n",
      "Best penalty parameter: {'C': 0.1}\n",
      "Best cross-validation score: 0.9645410628019324\n",
      "Attempt: 2\n",
      "Best penalty parameter: {'C': 0.1}\n",
      "Best cross-validation score: 0.9736231884057972\n",
      "Attempt: 3\n",
      "Best penalty parameter: {'C': 0.1}\n",
      "Best cross-validation score: 0.982512077294686\n",
      "Attempt: 4\n",
      "Best penalty parameter: {'C': 1}\n",
      "Best cross-validation score: 0.9778743961352656\n",
      "Attempt: 5\n",
      "Best penalty parameter: {'C': 10}\n",
      "Best cross-validation score: 0.9735265700483092\n",
      "Attempt: 6\n",
      "Best penalty parameter: {'C': 0.1}\n",
      "Best cross-validation score: 0.9778743961352656\n",
      "Attempt: 7\n",
      "Best penalty parameter: {'C': 0.1}\n",
      "Best cross-validation score: 0.9603864734299516\n",
      "Attempt: 8\n",
      "Best penalty parameter: {'C': 0.1}\n",
      "Best cross-validation score: 0.9559420289855073\n",
      "Attempt: 9\n",
      "Best penalty parameter: {'C': 0.1}\n",
      "Best cross-validation score: 0.9559420289855073\n",
      "Attempt: 10\n",
      "Best penalty parameter: {'C': 0.1}\n",
      "Best cross-validation score: 0.9649275362318841\n",
      "Attempt: 11\n",
      "Best penalty parameter: {'C': 1}\n",
      "Best cross-validation score: 0.9560386473429953\n",
      "Attempt: 12\n",
      "Best penalty parameter: {'C': 0.1}\n",
      "Best cross-validation score: 0.9693719806763286\n",
      "Attempt: 13\n",
      "Best penalty parameter: {'C': 0.1}\n",
      "Best cross-validation score: 0.9736231884057972\n",
      "Attempt: 14\n",
      "Best penalty parameter: {'C': 0.1}\n",
      "Best cross-validation score: 0.9735265700483092\n",
      "Attempt: 15\n",
      "Best penalty parameter: {'C': 0.1}\n",
      "Best cross-validation score: 0.9778743961352656\n",
      "Attempt: 16\n",
      "Best penalty parameter: {'C': 0.1}\n",
      "Best cross-validation score: 0.9735265700483092\n",
      "Attempt: 17\n",
      "Best penalty parameter: {'C': 0.1}\n",
      "Best cross-validation score: 0.9778743961352656\n",
      "Attempt: 18\n",
      "Best penalty parameter: {'C': 0.1}\n",
      "Best cross-validation score: 0.9647342995169084\n",
      "Attempt: 19\n",
      "Best penalty parameter: {'C': 0.1}\n",
      "Best cross-validation score: 0.9602898550724639\n",
      "Attempt: 20\n",
      "Best penalty parameter: {'C': 0.1}\n",
      "Best cross-validation score: 0.9866666666666667\n",
      "Attempt: 21\n",
      "Best penalty parameter: {'C': 10}\n",
      "Best cross-validation score: 0.9603864734299516\n",
      "Attempt: 22\n",
      "Best penalty parameter: {'C': 0.1}\n",
      "Best cross-validation score: 0.9734299516908212\n",
      "Attempt: 23\n",
      "Best penalty parameter: {'C': 1}\n",
      "Best cross-validation score: 0.9691787439613527\n",
      "Attempt: 24\n",
      "Best penalty parameter: {'C': 0.1}\n",
      "Best cross-validation score: 0.9559420289855073\n",
      "Attempt: 25\n",
      "Best penalty parameter: {'C': 1}\n",
      "Best cross-validation score: 0.9778743961352656\n",
      "Attempt: 26\n",
      "Best penalty parameter: {'C': 0.1}\n",
      "Best cross-validation score: 0.9606763285024155\n",
      "Attempt: 27\n",
      "Best penalty parameter: {'C': 1}\n",
      "Best cross-validation score: 0.9646376811594204\n",
      "Attempt: 28\n",
      "Best penalty parameter: {'C': 100}\n",
      "Best cross-validation score: 0.9736231884057972\n",
      "Attempt: 29\n",
      "Best penalty parameter: {'C': 1}\n",
      "Best cross-validation score: 0.9779710144927536\n",
      "Attempt: 30\n",
      "Best penalty parameter: {'C': 0.1}\n",
      "Best cross-validation score: 0.9689855072463768\n"
     ]
    }
   ],
   "source": [
    "train_acc = []\n",
    "train_prec = []\n",
    "train_rec = []\n",
    "train_f1 = []\n",
    "train_auc = []\n",
    "\n",
    "test_acc = []\n",
    "test_prec = []\n",
    "test_rec = []\n",
    "test_f1 = []\n",
    "test_auc = []\n",
    "\n",
    "for i in range(30):\n",
    "    X_train, X_test, y_train, y_test = split_dataset(df, normalize=True)\n",
    "\n",
    "    # select 50% of the positive class along with 50% of the negative class in the training set\n",
    "    # as labeled data and the rest as unlabelled data\n",
    "    X_labeled, X_unlabeled, y_labeled, y_unlabeled = train_test_split(X_train, y_train, test_size=0.5, stratify=y_train)\n",
    "\n",
    "    # Train an L1-penalized SVM to classify the labeled data\n",
    "    model = LinearSVC(penalty='l1', dual=False, max_iter=100000)\n",
    "    param_grid = {'C': [0.001, 0.01, 0.1, 1, 10, 100]}\n",
    "    grid_search = GridSearchCV(model, param_grid=param_grid, cv=5)\n",
    "    grid_search.fit(X_labeled, y_labeled)\n",
    "\n",
    "    print('Attempt:', i+1)\n",
    "    print(f\"Best penalty parameter: {grid_search.best_params_}\")\n",
    "    print(f\"Best cross-validation score: {grid_search.best_score_}\")\n",
    "\n",
    "    best_model = LinearSVC(penalty='l1', dual=False, C=grid_search.best_params_['C'], max_iter=100000)\n",
    "    best_model.fit(X_labeled, y_labeled)\n",
    "    \n",
    "    # find the farthest unlabeled data point and add to model\n",
    "    while len(X_unlabeled) > 0:\n",
    "        # get the signed distance of each unlabeled point to the decision boundary\n",
    "        distances = best_model.decision_function(X_unlabeled)\n",
    "\n",
    "        # get index of unlabeled point with highest absolute distance\n",
    "        farthest_index = np.argmax(np.abs(distances)) \n",
    "        farthest_point = X_unlabeled[farthest_index]\n",
    "\n",
    "        X_labeled = np.vstack([X_labeled, farthest_point.reshape(1, -1)])\n",
    "        y_labeled = np.append(y_labeled, best_model.predict(farthest_point.reshape(1, -1)))\n",
    "\n",
    "        # remove the farthest unlabeled point from the unlabeled data\n",
    "        X_unlabeled = np.delete(X_unlabeled, farthest_index, axis=0)\n",
    "        \n",
    "        # fit the model with new data\n",
    "        best_model.fit(X_labeled, y_labeled)\n",
    "    \n",
    "    # get final predictions\n",
    "    y_train_pred = best_model.predict(X_train)\n",
    "    y_test_pred = best_model.predict(X_test)\n",
    "    \n",
    "    # Apply Platt scaling to obtain class probabilities\n",
    "    best_model_probs = CalibratedClassifierCV(best_model, method='sigmoid')\n",
    "    best_model_probs.fit(X_train, y_train)\n",
    "    y_train_prob = best_model_probs.predict_proba(X_train)[:, 1]\n",
    "    y_test_prob = best_model_probs.predict_proba(X_test)[:, 1]\n",
    "\n",
    "    # Compute evaluation metrics for training set\n",
    "    train_acc.append(metrics.accuracy_score(y_train, y_train_pred))\n",
    "    train_prec.append(metrics.precision_score(y_train, y_train_pred))\n",
    "    train_rec.append(metrics.recall_score(y_train, y_train_pred))\n",
    "    train_f1.append(metrics.f1_score(y_train, y_train_pred))\n",
    "    train_auc.append(metrics.roc_auc_score(y_train, y_train_pred))\n",
    "\n",
    "    # Compute evaluation metrics for test set\n",
    "    test_acc.append(metrics.accuracy_score(y_test, y_test_pred))\n",
    "    test_prec.append(metrics.precision_score(y_test, y_test_pred))\n",
    "    test_rec.append(metrics.recall_score(y_test, y_test_pred))\n",
    "    test_f1.append(metrics.f1_score(y_test, y_test_pred))\n",
    "    test_auc.append(metrics.roc_auc_score(y_test, y_test_pred))"
   ]
  },
  {
   "cell_type": "code",
   "execution_count": 259,
   "metadata": {},
   "outputs": [
    {
     "name": "stdout",
     "output_type": "stream",
     "text": [
      "Training set average evaluation metrics:\n",
      "Accuracy: 0.97451\n",
      "Precision: 0.98240\n",
      "Recall: 0.94902\n",
      "F1-score: 0.96523\n",
      "AUC: 0.96936\n",
      "\n",
      "Test set average evaluation metrics:\n",
      "Accuracy: 0.96608\n",
      "Precision: 0.96987\n",
      "Recall: 0.93810\n",
      "F1-score: 0.95313\n",
      "AUC: 0.96025\n"
     ]
    }
   ],
   "source": [
    "# Print average evaluation metrics for both sets\n",
    "print(\"Training set average evaluation metrics:\")\n",
    "print(\"Accuracy: {:.5f}\".format(np.mean(train_acc)))\n",
    "print(\"Precision: {:.5f}\".format(np.mean(train_prec)))\n",
    "print(\"Recall: {:.5f}\".format(np.mean(train_rec)))\n",
    "print(\"F1-score: {:.5f}\".format(np.mean(train_f1)))\n",
    "print(\"AUC: {:.5f}\".format(np.mean(train_auc)))\n",
    "\n",
    "print(\"\\nTest set average evaluation metrics:\")\n",
    "print(\"Accuracy: {:.5f}\".format(np.mean(test_acc)))\n",
    "print(\"Precision: {:.5f}\".format(np.mean(test_prec)))\n",
    "print(\"Recall: {:.5f}\".format(np.mean(test_rec)))\n",
    "print(\"F1-score: {:.5f}\".format(np.mean(test_f1)))\n",
    "print(\"AUC: {:.5f}\".format(np.mean(test_auc)))"
   ]
  },
  {
   "cell_type": "markdown",
   "metadata": {},
   "source": [
    "In this case, semi-supervised learning performs nearly as well as supervised learning, although it tends to propagate the errors of the initial labeling and the model may become overconfident on incorrect predictions. Semi-supervised learning can be beneficial when there is a limited amount of labeled data and a large amount of unlabeled data."
   ]
  },
  {
   "cell_type": "code",
   "execution_count": 260,
   "metadata": {},
   "outputs": [
    {
     "data": {
      "image/png": "[encoded data removed]",
      "text/plain": [
       "<Figure size 432x288 with 2 Axes>"
      ]
     },
     "metadata": {
      "needs_background": "light"
     },
     "output_type": "display_data"
    },
    {
     "data": {
      "image/png": "[encoded data removed]",
      "text/plain": [
       "<Figure size 432x288 with 2 Axes>"
      ]
     },
     "metadata": {
      "needs_background": "light"
     },
     "output_type": "display_data"
    }
   ],
   "source": [
    "# Report the confusion matrix for training and testing in one of the runs\n",
    "fig, ax = plt.subplots()\n",
    "cm = metrics.confusion_matrix(y_train, y_train_pred)\n",
    "cm_display = metrics.ConfusionMatrixDisplay(cm, display_labels=['0', '1'])\n",
    "cm_display.plot(ax=ax)\n",
    "ax.set_title('Confusion matrix for training set')\n",
    "plt.show()\n",
    "\n",
    "fig, ax = plt.subplots()\n",
    "cm = metrics.confusion_matrix(y_test, y_test_pred)\n",
    "cm_display = metrics.ConfusionMatrixDisplay(cm, display_labels=['0', '1'])\n",
    "cm_display.plot(ax=ax)\n",
    "ax.set_title('Confusion matrix for testing set')\n",
    "plt.show()"
   ]
  },
  {
   "cell_type": "code",
   "execution_count": 261,
   "metadata": {},
   "outputs": [
    {
     "data": {
      "image/png": "[encoded data removed]",
      "text/plain": [
       "<Figure size 432x288 with 1 Axes>"
      ]
     },
     "metadata": {
      "needs_background": "light"
     },
     "output_type": "display_data"
    },
    {
     "data": {
      "image/png": "[encoded data removed]",
      "text/plain": [
       "<Figure size 432x288 with 1 Axes>"
      ]
     },
     "metadata": {
      "needs_background": "light"
     },
     "output_type": "display_data"
    }
   ],
   "source": [
    "# Plot the ROC curve for training and testing in one of the runs\n",
    "fpr, tpr, thresholds = metrics.roc_curve(y_train, y_train_prob)\n",
    "roc_auc = metrics.auc(fpr, tpr)\n",
    "plt.figure()\n",
    "plt.plot(fpr, tpr, color='darkorange', label='ROC curve (AUC = %0.4f)' % roc_auc)\n",
    "plt.plot([0, 1], [0, 1], color='grey', linestyle='--')\n",
    "plt.xlabel('False Positive Rate')\n",
    "plt.ylabel('True Positive Rate')\n",
    "plt.title('ROC Curve of Training Set')\n",
    "plt.legend(loc=\"lower right\")\n",
    "plt.show()\n",
    "\n",
    "fpr, tpr, thresholds = metrics.roc_curve(y_test, y_test_prob)\n",
    "roc_auc = metrics.auc(fpr, tpr)\n",
    "plt.figure()\n",
    "plt.plot(fpr, tpr, color='darkorange', label='ROC curve (AUC = %0.4f)' % roc_auc)\n",
    "plt.plot([0, 1], [0, 1], color='grey', linestyle='--')\n",
    "plt.xlabel('False Positive Rate')\n",
    "plt.ylabel('True Positive Rate')\n",
    "plt.title('ROC Curve of Testing Set')\n",
    "plt.legend(loc=\"lower right\")\n",
    "plt.show()"
   ]
  },
  {
   "cell_type": "markdown",
   "metadata": {},
   "source": [
    "#### (iii) Unsupervised Learning"
   ]
  },
  {
   "cell_type": "markdown",
   "metadata": {},
   "source": [
    "##### (A): Run the k-means algorithm multiple times and initialize randomly. How do you make sure that the algorithm was not trapped in a local minimum?"
   ]
  },
  {
   "cell_type": "markdown",
   "metadata": {},
   "source": [
    "To avoid the algorithm trapping in local minima, we can use multiple initializations and choose initial centroids randomly."
   ]
  },
  {
   "cell_type": "code",
   "execution_count": 6,
   "metadata": {},
   "outputs": [],
   "source": [
    "from sklearn.cluster import KMeans\n",
    "\n",
    "# run k-means 30 times\n",
    "silhouette_scores = []\n",
    "for i in range(30):\n",
    "    X_train, X_test, y_train, y_test = split_dataset(df, normalize=False)\n",
    "    \n",
    "    # Initialize the k-means model randomly, with multiple iterations\n",
    "    kmeans = KMeans(n_clusters=2, n_init = 15, init='random')\n",
    "    kmeans.fit(X_train)\n",
    "    score = metrics.silhouette_score(X_train, kmeans.labels_)\n",
    "    silhouette_scores.append(score)"
   ]
  },
  {
   "cell_type": "markdown",
   "metadata": {},
   "source": [
    "We can use silhouette analysis to evaluate the quality of the clustering results. Silhouette analysis measures how similar a data point is to its own cluster compared to other clusters. The silhouette score ranges from -1 to 1, with a higher score indicating a better clustering. We can compute the silhouette score for each run and select the run with the highest average silhouette score."
   ]
  },
  {
   "cell_type": "code",
   "execution_count": 7,
   "metadata": {},
   "outputs": [
    {
     "name": "stdout",
     "output_type": "stream",
     "text": [
      "Average Silhouette score for best run: 0.7097474604831886\n"
     ]
    },
    {
     "data": {
      "image/png": "[encoded data removed]",
      "text/plain": [
       "<Figure size 432x288 with 1 Axes>"
      ]
     },
     "metadata": {
      "needs_background": "light"
     },
     "output_type": "display_data"
    }
   ],
   "source": [
    "# Find the run with the highest average Silhouette score\n",
    "best_run = np.argmax(silhouette_scores)\n",
    "print(\"Average Silhouette score for best run:\", silhouette_scores[best_run])\n",
    "\n",
    "# Plot the Silhouette score for all runs\n",
    "plt.plot(range(30), silhouette_scores)\n",
    "plt.xlabel(\"Run\")\n",
    "plt.ylabel(\"Silhouette score\")\n",
    "plt.title(\"Silhouette score for k-means clustering with k=2\")\n",
    "plt.show()"
   ]
  },
  {
   "cell_type": "markdown",
   "metadata": {},
   "source": [
    "We can also use visual inspection of the clusters, if the clusters are clearly separated and distinct, it may suggest that the algorithm has found a good minimum."
   ]
  },
  {
   "cell_type": "code",
   "execution_count": 8,
   "metadata": {},
   "outputs": [
    {
     "data": {
      "image/png": "[encoded data removed]",
      "text/plain": [
       "<Figure size 432x288 with 1 Axes>"
      ]
     },
     "metadata": {
      "needs_background": "light"
     },
     "output_type": "display_data"
    }
   ],
   "source": [
    "from sklearn.decomposition import PCA\n",
    "\n",
    "# reduce feature dimension to 2\n",
    "scaler = StandardScaler()\n",
    "X_train_scaled = scaler.fit_transform(X_train)\n",
    "pca = PCA(n_components=2)\n",
    "X_pca = pca.fit_transform(X_train_scaled)\n",
    "\n",
    "# get the labels\n",
    "labels = kmeans.labels_\n",
    "\n",
    "# Plot the clusters on two pca features\n",
    "plt.scatter(X_pca[:, 0], X_pca[:, 1], c=labels, cmap='viridis')\n",
    "plt.xlabel(\"Feature 1\")\n",
    "plt.ylabel(\"Feature 2\")\n",
    "plt.title(\"Clusters visualized using k-means\")\n",
    "plt.show()"
   ]
  },
  {
   "cell_type": "markdown",
   "metadata": {},
   "source": [
    "Overall, from the Silhouette analysis (scores all over 0.5) and visualization (clearly separated clusters) we can conclude that K-means algorithm performs quite well on training data."
   ]
  },
  {
   "cell_type": "markdown",
   "metadata": {},
   "source": [
    "##### (B) & (C): Using k-means as a classifier, find the closest 30 data points and perform majority polling, predict train and test set"
   ]
  },
  {
   "cell_type": "code",
   "execution_count": 29,
   "metadata": {},
   "outputs": [
    {
     "name": "stdout",
     "output_type": "stream",
     "text": [
      "Attempt: 1\n",
      "Train accuracy: 0.8505494505494505 Test accuracy: 0.8508771929824561\n",
      "Attempt: 2\n",
      "Train accuracy: 0.8527472527472527 Test accuracy: 0.8508771929824561\n",
      "Attempt: 3\n",
      "Train accuracy: 0.8505494505494505 Test accuracy: 0.8596491228070176\n",
      "Attempt: 4\n",
      "Train accuracy: 0.8527472527472527 Test accuracy: 0.8508771929824561\n",
      "Attempt: 5\n",
      "Train accuracy: 0.8505494505494505 Test accuracy: 0.8508771929824561\n",
      "Attempt: 6\n",
      "Train accuracy: 0.8483516483516483 Test accuracy: 0.8771929824561403\n",
      "Attempt: 7\n",
      "Train accuracy: 0.8373626373626374 Test accuracy: 0.8508771929824561\n",
      "Attempt: 8\n",
      "Train accuracy: 0.8373626373626374 Test accuracy: 0.868421052631579\n",
      "Attempt: 9\n",
      "Train accuracy: 0.8483516483516483 Test accuracy: 0.8596491228070176\n",
      "Attempt: 10\n",
      "Train accuracy: 0.8527472527472527 Test accuracy: 0.8596491228070176\n",
      "Attempt: 11\n",
      "Train accuracy: 0.8505494505494505 Test accuracy: 0.868421052631579\n",
      "Attempt: 12\n",
      "Train accuracy: 0.8571428571428571 Test accuracy: 0.8421052631578947\n",
      "Attempt: 13\n",
      "Train accuracy: 0.8615384615384616 Test accuracy: 0.8245614035087719\n",
      "Attempt: 14\n",
      "Train accuracy: 0.8615384615384616 Test accuracy: 0.8245614035087719\n",
      "Attempt: 15\n",
      "Train accuracy: 0.8483516483516483 Test accuracy: 0.8771929824561403\n",
      "Attempt: 16\n",
      "Train accuracy: 0.8549450549450549 Test accuracy: 0.8421052631578947\n",
      "Attempt: 17\n",
      "Train accuracy: 0.8505494505494505 Test accuracy: 0.8333333333333334\n",
      "Attempt: 18\n",
      "Train accuracy: 0.8483516483516483 Test accuracy: 0.8771929824561403\n",
      "Attempt: 19\n",
      "Train accuracy: 0.8615384615384616 Test accuracy: 0.8245614035087719\n",
      "Attempt: 20\n",
      "Train accuracy: 0.8483516483516483 Test accuracy: 0.868421052631579\n",
      "Attempt: 21\n",
      "Train accuracy: 0.8483516483516483 Test accuracy: 0.868421052631579\n",
      "Attempt: 22\n",
      "Train accuracy: 0.8549450549450549 Test accuracy: 0.8508771929824561\n",
      "Attempt: 23\n",
      "Train accuracy: 0.8461538461538461 Test accuracy: 0.8333333333333334\n",
      "Attempt: 24\n",
      "Train accuracy: 0.8483516483516483 Test accuracy: 0.8771929824561403\n",
      "Attempt: 25\n",
      "Train accuracy: 0.8615384615384616 Test accuracy: 0.8245614035087719\n",
      "Attempt: 26\n",
      "Train accuracy: 0.8527472527472527 Test accuracy: 0.8508771929824561\n",
      "Attempt: 27\n",
      "Train accuracy: 0.8307692307692308 Test accuracy: 0.8508771929824561\n",
      "Attempt: 28\n",
      "Train accuracy: 0.8395604395604396 Test accuracy: 0.8859649122807017\n",
      "Attempt: 29\n",
      "Train accuracy: 0.8417582417582418 Test accuracy: 0.8947368421052632\n",
      "Attempt: 30\n",
      "Train accuracy: 0.8593406593406593 Test accuracy: 0.8333333333333334\n"
     ]
    }
   ],
   "source": [
    "train_acc = []\n",
    "train_prec = []\n",
    "train_rec = []\n",
    "train_f1 = []\n",
    "train_auc = []\n",
    "\n",
    "test_acc = []\n",
    "test_prec = []\n",
    "test_rec = []\n",
    "test_f1 = []\n",
    "test_auc = []\n",
    "\n",
    "for i in range(30):\n",
    "    print('Attempt:', i+1)\n",
    "    \n",
    "    X_train, X_test, y_train, y_test = split_dataset(df, normalize=False)\n",
    "\n",
    "    # Initialize the k-means model randomly, set number of iterations to avoid local minima\n",
    "    kmeans = KMeans(n_clusters=2, n_init=15, init='random')\n",
    "    kmeans.fit(X_train)\n",
    "\n",
    "    # Get the cluster centers\n",
    "    centers = kmeans.cluster_centers_\n",
    "\n",
    "    # Compute distances to cluster center and keep original indices\n",
    "    distances_0 = np.column_stack((X_train.index, np.linalg.norm(X_train - centers[0], axis=1)))\n",
    "    distances_1 = np.column_stack((X_train.index, np.linalg.norm(X_train - centers[1], axis=1)))\n",
    "\n",
    "    # Sort distances by ascending order\n",
    "    sorted_distances_0 = distances_0[distances_0[:, 1].argsort()]\n",
    "    sorted_distances_1 = distances_1[distances_1[:, 1].argsort()]\n",
    "\n",
    "    # Get indices of the closest 30 data points to the center\n",
    "    closest_indices_0 = sorted_distances_0[:30, 0].astype(int)\n",
    "    closest_indices_1 = sorted_distances_1[:30, 0].astype(int)\n",
    "\n",
    "    # Get the true labels of those 30 points from y_train\n",
    "    labels_0 = y_train[closest_indices_0]\n",
    "    labels_1 = y_train[closest_indices_1]\n",
    "\n",
    "    # Take a majority poll within each cluster\n",
    "    pred_label_0 = np.bincount(labels_0).argmax()\n",
    "    pred_label_1 = np.bincount(labels_1).argmax()\n",
    "\n",
    "    # Assign predicted label to all data points in first cluster\n",
    "    y_train_pred = np.zeros(len(X_train))\n",
    "    y_train_pred[kmeans.labels_ == 0] = pred_label_0\n",
    "    y_train_pred[kmeans.labels_ == 1] = pred_label_1\n",
    "\n",
    "    # Compute distances between test data and cluster centers\n",
    "    distances_test = np.column_stack((np.arange(len(X_test)),\n",
    "                                      np.linalg.norm(X_test - centers[0], axis=1),\n",
    "                                      np.linalg.norm(X_test - centers[1], axis=1)))\n",
    "\n",
    "    # Assign test data to cluster with closest center\n",
    "    test_cluster_assignments = np.argmin(distances_test[:, 1:], axis=1)\n",
    "\n",
    "    # Use predicted labels to classify test data\n",
    "    y_test_pred = np.zeros(len(X_test))\n",
    "    for i in range(len(X_test)):\n",
    "        if test_cluster_assignments[i] == 0:\n",
    "            y_test_pred[i] = pred_label_0\n",
    "        else:\n",
    "            y_test_pred[i] = pred_label_1\n",
    "\n",
    "    # Compute evaluation metrics for training set\n",
    "    train_acc.append(metrics.accuracy_score(y_train, y_train_pred))\n",
    "    train_prec.append(metrics.precision_score(y_train, y_train_pred))\n",
    "    train_rec.append(metrics.recall_score(y_train, y_train_pred))\n",
    "    train_f1.append(metrics.f1_score(y_train, y_train_pred))\n",
    "    train_auc.append(metrics.roc_auc_score(y_train, y_train_pred))\n",
    "\n",
    "    # Compute evaluation metrics for test set\n",
    "    test_acc.append(metrics.accuracy_score(y_test, y_test_pred))\n",
    "    test_prec.append(metrics.precision_score(y_test, y_test_pred))\n",
    "    test_rec.append(metrics.recall_score(y_test, y_test_pred))\n",
    "    test_f1.append(metrics.f1_score(y_test, y_test_pred))\n",
    "    test_auc.append(metrics.roc_auc_score(y_test, y_test_pred))\n",
    "    \n",
    "    print(\"Train accuracy:\", metrics.accuracy_score(y_train, y_train_pred), \n",
    "          \"Test accuracy:\", metrics.accuracy_score(y_test, y_test_pred))"
   ]
  },
  {
   "cell_type": "code",
   "execution_count": 30,
   "metadata": {},
   "outputs": [
    {
     "name": "stdout",
     "output_type": "stream",
     "text": [
      "Training set average evaluation metrics:\n",
      "Accuracy: 0.85026\n",
      "Precision: 0.99166\n",
      "Recall: 0.60431\n",
      "F1-score: 0.75078\n",
      "AUC: 0.80064\n",
      "\n",
      "Test set average evaluation metrics:\n",
      "Accuracy: 0.85439\n",
      "Precision: 0.99499\n",
      "Recall: 0.60794\n",
      "F1-score: 0.75343\n",
      "AUC: 0.80304\n"
     ]
    }
   ],
   "source": [
    "# Print average evaluation metrics for both sets\n",
    "print(\"Training set average evaluation metrics:\")\n",
    "print(\"Accuracy: {:.5f}\".format(np.mean(train_acc)))\n",
    "print(\"Precision: {:.5f}\".format(np.mean(train_prec)))\n",
    "print(\"Recall: {:.5f}\".format(np.mean(train_rec)))\n",
    "print(\"F1-score: {:.5f}\".format(np.mean(train_f1)))\n",
    "print(\"AUC: {:.5f}\".format(np.mean(train_auc)))\n",
    "\n",
    "print(\"\\nTest set average evaluation metrics:\")\n",
    "print(\"Accuracy: {:.5f}\".format(np.mean(test_acc)))\n",
    "print(\"Precision: {:.5f}\".format(np.mean(test_prec)))\n",
    "print(\"Recall: {:.5f}\".format(np.mean(test_rec)))\n",
    "print(\"F1-score: {:.5f}\".format(np.mean(test_f1)))\n",
    "print(\"AUC: {:.5f}\".format(np.mean(test_auc)))"
   ]
  },
  {
   "cell_type": "code",
   "execution_count": 31,
   "metadata": {},
   "outputs": [
    {
     "data": {
      "image/png": "[encoded data removed]",
      "text/plain": [
       "<Figure size 432x288 with 2 Axes>"
      ]
     },
     "metadata": {
      "needs_background": "light"
     },
     "output_type": "display_data"
    },
    {
     "data": {
      "image/png": "[encoded data removed]",
      "text/plain": [
       "<Figure size 432x288 with 2 Axes>"
      ]
     },
     "metadata": {
      "needs_background": "light"
     },
     "output_type": "display_data"
    }
   ],
   "source": [
    "# Report the confusion matrix for training and testing in one of the runs\n",
    "fig, ax = plt.subplots()\n",
    "cm = metrics.confusion_matrix(y_train, y_train_pred)\n",
    "cm_display = metrics.ConfusionMatrixDisplay(cm, display_labels=['0', '1'])\n",
    "cm_display.plot(ax=ax)\n",
    "ax.set_title('Confusion matrix for training set')\n",
    "plt.show()\n",
    "\n",
    "fig, ax = plt.subplots()\n",
    "cm = metrics.confusion_matrix(y_test, y_test_pred)\n",
    "cm_display = metrics.ConfusionMatrixDisplay(cm, display_labels=['0', '1'])\n",
    "cm_display.plot(ax=ax)\n",
    "ax.set_title('Confusion matrix for testing set')\n",
    "plt.show()"
   ]
  },
  {
   "cell_type": "code",
   "execution_count": 58,
   "metadata": {},
   "outputs": [
    {
     "data": {
      "image/png": "[encoded data removed]",
      "text/plain": [
       "<Figure size 432x288 with 1 Axes>"
      ]
     },
     "metadata": {
      "needs_background": "light"
     },
     "output_type": "display_data"
    },
    {
     "data": {
      "image/png": "[encoded data removed]",
      "text/plain": [
       "<Figure size 432x288 with 1 Axes>"
      ]
     },
     "metadata": {
      "needs_background": "light"
     },
     "output_type": "display_data"
    }
   ],
   "source": [
    "# Plot the ROC curve for training set in one of the runs\n",
    "# use the distances from cluster center and pass them through a softmax to calculate probabilities\n",
    "\n",
    "def softmax(x):\n",
    "    x = x - np.max(x)\n",
    "    exp_x = np.exp(x)\n",
    "    sum_exp_x = np.sum(exp_x, axis=0, keepdims=True)\n",
    "    probs = exp_x / sum_exp_x\n",
    "    probs[np.isnan(probs)] = 1e-10 # deal with nan (divide by 0)\n",
    "    return probs\n",
    "\n",
    "# Compute the distances of each sample to each cluster center\n",
    "distances_train = kmeans.transform(X_train)\n",
    "distances_test = kmeans.transform(X_test)\n",
    "\n",
    "# Apply softmax to each row of the distance matrix\n",
    "y_train_prob = np.apply_along_axis(lambda x: softmax(x), axis=1, arr=distances_train)\n",
    "y_test_prob = np.apply_along_axis(lambda x: softmax(x), axis=1, arr=distances_test)\n",
    "\n",
    "fpr, tpr, thresholds = metrics.roc_curve(y_train, y_train_prob[:, 0])\n",
    "roc_auc = metrics.auc(fpr, tpr)\n",
    "plt.figure()\n",
    "plt.plot(fpr, tpr, color='darkorange', label='ROC curve (AUC = %0.4f)' % roc_auc)\n",
    "plt.plot([0, 1], [0, 1], color='grey', linestyle='--')\n",
    "plt.xlabel('False Positive Rate')\n",
    "plt.ylabel('True Positive Rate')\n",
    "plt.title('ROC Curve of Testing Set')\n",
    "plt.legend(loc=\"lower right\")\n",
    "plt.show()\n",
    "\n",
    "fpr, tpr, thresholds = metrics.roc_curve(y_test, y_test_prob[:, 0])\n",
    "roc_auc = metrics.auc(fpr, tpr)\n",
    "plt.figure()\n",
    "plt.plot(fpr, tpr, color='darkorange', label='ROC curve (AUC = %0.4f)' % roc_auc)\n",
    "plt.plot([0, 1], [0, 1], color='grey', linestyle='--')\n",
    "plt.xlabel('False Positive Rate')\n",
    "plt.ylabel('True Positive Rate')\n",
    "plt.title('ROC Curve of Testing Set')\n",
    "plt.legend(loc=\"lower right\")\n",
    "plt.show()"
   ]
  },
  {
   "cell_type": "markdown",
   "metadata": {},
   "source": [
    "#### (iv) Spectral Clustering"
   ]
  },
  {
   "cell_type": "markdown",
   "metadata": {},
   "source": [
    "First, we find a proper gamma that gives similar class balance."
   ]
  },
  {
   "cell_type": "code",
   "execution_count": 35,
   "metadata": {},
   "outputs": [
    {
     "name": "stdout",
     "output_type": "stream",
     "text": [
      "Number of data points in clusters: (285,170)\n",
      "For gamma = 10:\n",
      "Attempt 1 - Number of data points in clusters: (408,47)\n",
      "For gamma = 12:\n",
      "Attempt 1 - Number of data points in clusters: (63,392)\n",
      "For gamma = 14:\n",
      "Attempt 1 - Number of data points in clusters: (354,101)\n",
      "For gamma = 16:\n",
      "Attempt 1 - Number of data points in clusters: (346,109)\n",
      "For gamma = 18:\n",
      "Attempt 1 - Number of data points in clusters: (139,316)\n",
      "For gamma = 20:\n",
      "Attempt 1 - Number of data points in clusters: (141,314)\n",
      "For gamma = 22:\n",
      "Attempt 1 - Number of data points in clusters: (151,304)\n",
      "For gamma = 24:\n",
      "Attempt 1 - Number of data points in clusters: (256,199)\n",
      "For gamma = 26:\n",
      "Attempt 1 - Number of data points in clusters: (242,213)\n",
      "For gamma = 28:\n",
      "Attempt 1 - Number of data points in clusters: (225,230)\n"
     ]
    }
   ],
   "source": [
    "from sklearn.cluster import SpectralClustering\n",
    "import warnings\n",
    "warnings.filterwarnings(\"ignore\")\n",
    "\n",
    "X_train, X_test, y_train, y_test = split_dataset(df, normalize=True)\n",
    "print(\"Number of data points in clusters: ({0},{1})\".format(len(y_train[y_train == 0]),len(y_train[y_train == 1])))\n",
    "\n",
    "gamma_range = np.arange(10,30,2)\n",
    "\n",
    "for gamma in gamma_range:\n",
    "    print(\"For gamma = {}:\".format(gamma))\n",
    "    for i in range(1):\n",
    "        try:\n",
    "            X_train, X_test, y_train, y_test = split_dataset(df, normalize=True)\n",
    "            # create Spectral Clustering object with RBF kernel and gamma value\n",
    "            spectral = SpectralClustering(n_clusters=2, affinity='rbf', gamma=gamma, assign_labels='discretize')\n",
    "            y_train_pred = spectral.fit_predict(X_train)\n",
    "            print(\"Attempt {0} - Number of data points in clusters: ({1},{2})\".format(i+1, len(y_train_pred[y_train_pred == 0]),\n",
    "                                                                                    len(y_train_pred[y_train_pred == 1])))\n",
    "        except:\n",
    "            continue"
   ]
  },
  {
   "cell_type": "markdown",
   "metadata": {},
   "source": [
    "Thus, we can conclude that when gamma is around 18-24, we can get a most similar class balance to the original dataset."
   ]
  },
  {
   "cell_type": "code",
   "execution_count": 104,
   "metadata": {},
   "outputs": [
    {
     "name": "stdout",
     "output_type": "stream",
     "text": [
      "Attempt: 1\n",
      "Train accuracy: 0.654945054945055 Test accuracy: 0.7192982456140351\n",
      "Attempt: 2\n",
      "Train accuracy: 0.6263736263736264 Test accuracy: 0.631578947368421\n",
      "Attempt: 3\n",
      "Train accuracy: 0.6681318681318681 Test accuracy: 0.6403508771929824\n",
      "Attempt: 4\n",
      "Train accuracy: 0.6417582417582418 Test accuracy: 0.7368421052631579\n",
      "Attempt: 5\n",
      "Train accuracy: 0.6263736263736264 Test accuracy: 0.631578947368421\n",
      "Attempt: 6\n",
      "Train accuracy: 0.6703296703296703 Test accuracy: 0.7280701754385965\n",
      "Attempt: 7\n",
      "Train accuracy: 0.6263736263736264 Test accuracy: 0.631578947368421\n",
      "Attempt: 8\n",
      "Train accuracy: 0.6527472527472528 Test accuracy: 0.6666666666666666\n",
      "Attempt: 9\n",
      "Train accuracy: 0.6263736263736264 Test accuracy: 0.631578947368421\n",
      "Attempt: 10\n",
      "Train accuracy: 0.6637362637362637 Test accuracy: 0.6929824561403509\n",
      "Attempt: 11\n",
      "Train accuracy: 0.6505494505494506 Test accuracy: 0.6578947368421053\n",
      "Attempt: 12\n",
      "Train accuracy: 0.6263736263736264 Test accuracy: 0.631578947368421\n",
      "Attempt: 13\n",
      "Train accuracy: 0.6263736263736264 Test accuracy: 0.631578947368421\n",
      "Attempt: 14\n",
      "Train accuracy: 0.6263736263736264 Test accuracy: 0.631578947368421\n",
      "Attempt: 15\n",
      "Train accuracy: 0.6263736263736264 Test accuracy: 0.631578947368421\n",
      "Attempt: 16\n",
      "Train accuracy: 0.6065934065934065 Test accuracy: 0.6491228070175439\n",
      "Attempt: 17\n",
      "Train accuracy: 0.6791208791208792 Test accuracy: 0.7543859649122807\n",
      "Attempt: 18\n",
      "Train accuracy: 0.6263736263736264 Test accuracy: 0.631578947368421\n",
      "Attempt: 19\n",
      "Train accuracy: 0.6857142857142857 Test accuracy: 0.7105263157894737\n",
      "Attempt: 20\n",
      "Train accuracy: 0.6263736263736264 Test accuracy: 0.631578947368421\n",
      "Attempt: 21\n",
      "Train accuracy: 0.6263736263736264 Test accuracy: 0.631578947368421\n",
      "Attempt: 22\n",
      "Train accuracy: 0.6153846153846154 Test accuracy: 0.6491228070175439\n",
      "Attempt: 23\n",
      "Train accuracy: 0.654945054945055 Test accuracy: 0.7105263157894737\n",
      "Attempt: 24\n",
      "Train accuracy: 0.6329670329670329 Test accuracy: 0.6754385964912281\n",
      "Attempt: 25\n",
      "Train accuracy: 0.621978021978022 Test accuracy: 0.7105263157894737\n",
      "Attempt: 26\n",
      "Train accuracy: 0.6263736263736264 Test accuracy: 0.631578947368421\n",
      "Attempt: 27\n",
      "Train accuracy: 0.6615384615384615 Test accuracy: 0.6666666666666666\n",
      "Attempt: 28\n",
      "Train accuracy: 0.6263736263736264 Test accuracy: 0.631578947368421\n",
      "Attempt: 29\n",
      "Train accuracy: 0.6329670329670329 Test accuracy: 0.6666666666666666\n",
      "Attempt: 30\n",
      "Train accuracy: 0.6263736263736264 Test accuracy: 0.631578947368421\n"
     ]
    }
   ],
   "source": [
    "from sklearn.neighbors import KNeighborsClassifier\n",
    "\n",
    "train_acc = []\n",
    "train_prec = []\n",
    "train_rec = []\n",
    "train_f1 = []\n",
    "train_auc = []\n",
    "\n",
    "test_acc = []\n",
    "test_prec = []\n",
    "test_rec = []\n",
    "test_f1 = []\n",
    "test_auc = []\n",
    "\n",
    "for i in range(30):\n",
    "    print('Attempt:', i+1)\n",
    "\n",
    "    try:\n",
    "        X_train, X_test, y_train, y_test = split_dataset(df, normalize=True)\n",
    "\n",
    "        spectral = SpectralClustering(n_clusters=2, affinity='rbf', gamma=20, assign_labels='discretize')\n",
    "        cluster_label = spectral.fit_predict(X_train)\n",
    "\n",
    "        # get the centers of two clusters\n",
    "        cluster_centers = []\n",
    "        for clus in [0,1]:\n",
    "            cluster_centers.append(np.mean(X_train[cluster_label==clus], axis = 0).tolist())\n",
    "\n",
    "        # Compute distances to cluster center and keep original indices\n",
    "        distances_0 = [np.linalg.norm(arr - cluster_centers[0]) for arr in X_train]\n",
    "        distances_1 = [np.linalg.norm(arr - cluster_centers[1]) for arr in X_train]\n",
    "\n",
    "        # Sort distances by ascending order\n",
    "        sorted_distances_0 = np.argsort(distances_0)\n",
    "        sorted_distances_1 = np.argsort(distances_1)\n",
    "\n",
    "        # Get indices of the closest 30 data points to the center\n",
    "        closest_indices_0 = sorted_distances_0[:30].astype(int)\n",
    "        closest_indices_1 = sorted_distances_1[:30].astype(int)\n",
    "\n",
    "        # Get the true labels of those 30 points from y_train\n",
    "        y_train = y_train.reset_index(drop=True)\n",
    "        labels_0 = y_train[closest_indices_0]\n",
    "        labels_1 = y_train[closest_indices_1]\n",
    "\n",
    "        # Take a majority poll within each cluster\n",
    "        pred_label_0 = np.bincount(labels_0).argmax()\n",
    "        pred_label_1 = np.bincount(labels_1).argmax()\n",
    "\n",
    "        # Assign predicted label to all data points\n",
    "        y_train_pred = np.zeros(len(X_train))\n",
    "        y_train_pred[cluster_label == 0] = pred_label_0\n",
    "        y_train_pred[cluster_label == 1] = pred_label_1\n",
    "\n",
    "        # build a KNN classifier\n",
    "        knn = KNeighborsClassifier(n_neighbors=1)\n",
    "        knn.fit(X_train, y_train_pred)\n",
    "        y_test_pred = knn.predict(X_test)\n",
    "        \n",
    "        # Compute evaluation metrics for training set\n",
    "        train_acc.append(metrics.accuracy_score(y_train, y_train_pred))\n",
    "        train_prec.append(metrics.precision_score(y_train, y_train_pred))\n",
    "        train_rec.append(metrics.recall_score(y_train, y_train_pred))\n",
    "        train_f1.append(metrics.f1_score(y_train, y_train_pred))\n",
    "        train_auc.append(metrics.roc_auc_score(y_train, y_train_pred))\n",
    "\n",
    "        # Compute evaluation metrics for test set\n",
    "        test_acc.append(metrics.accuracy_score(y_test, y_test_pred))\n",
    "        test_prec.append(metrics.precision_score(y_test, y_test_pred))\n",
    "        test_rec.append(metrics.recall_score(y_test, y_test_pred))\n",
    "        test_f1.append(metrics.f1_score(y_test, y_test_pred))\n",
    "        test_auc.append(metrics.roc_auc_score(y_test, y_test_pred))\n",
    "\n",
    "        print(\"Train accuracy:\", metrics.accuracy_score(y_train, y_train_pred), \n",
    "              \"Test accuracy:\", metrics.accuracy_score(y_test, y_test_pred))\n",
    "    \n",
    "    except:\n",
    "        continue"
   ]
  },
  {
   "cell_type": "code",
   "execution_count": 105,
   "metadata": {},
   "outputs": [
    {
     "name": "stdout",
     "output_type": "stream",
     "text": [
      "Training set average evaluation metrics:\n",
      "Accuracy: 0.63875\n",
      "Precision: 0.28488\n",
      "Recall: 0.26020\n",
      "F1-score: 0.27140\n",
      "AUC: 0.56238\n",
      "\n",
      "Test set average evaluation metrics:\n",
      "Accuracy: 0.66257\n",
      "Precision: 0.31946\n",
      "Recall: 0.27381\n",
      "F1-score: 0.29216\n",
      "AUC: 0.58158\n"
     ]
    }
   ],
   "source": [
    "# Print average evaluation metrics for both sets\n",
    "print(\"Training set average evaluation metrics:\")\n",
    "print(\"Accuracy: {:.5f}\".format(np.mean(train_acc)))\n",
    "print(\"Precision: {:.5f}\".format(np.mean(train_prec)))\n",
    "print(\"Recall: {:.5f}\".format(np.mean(train_rec)))\n",
    "print(\"F1-score: {:.5f}\".format(np.mean(train_f1)))\n",
    "print(\"AUC: {:.5f}\".format(np.mean(train_auc)))\n",
    "\n",
    "print(\"\\nTest set average evaluation metrics:\")\n",
    "print(\"Accuracy: {:.5f}\".format(np.mean(test_acc)))\n",
    "print(\"Precision: {:.5f}\".format(np.mean(test_prec)))\n",
    "print(\"Recall: {:.5f}\".format(np.mean(test_rec)))\n",
    "print(\"F1-score: {:.5f}\".format(np.mean(test_f1)))\n",
    "print(\"AUC: {:.5f}\".format(np.mean(test_auc)))"
   ]
  },
  {
   "cell_type": "code",
   "execution_count": 9,
   "metadata": {},
   "outputs": [
    {
     "data": {
      "image/png": "[encoded data removed]",
      "text/plain": [
       "<Figure size 432x288 with 2 Axes>"
      ]
     },
     "metadata": {
      "needs_background": "light"
     },
     "output_type": "display_data"
    },
    {
     "data": {
      "image/png": "[encoded data removed]",
      "text/plain": [
       "<Figure size 432x288 with 2 Axes>"
      ]
     },
     "metadata": {
      "needs_background": "light"
     },
     "output_type": "display_data"
    }
   ],
   "source": [
    "# Report the confusion matrix for training and testing in one of the runs\n",
    "fig, ax = plt.subplots()\n",
    "cm = metrics.confusion_matrix(y_train, y_train_pred)\n",
    "cm_display = metrics.ConfusionMatrixDisplay(cm, display_labels=['0', '1'])\n",
    "cm_display.plot(ax=ax)\n",
    "ax.set_title('Confusion matrix for training set')\n",
    "plt.show()\n",
    "\n",
    "fig, ax = plt.subplots()\n",
    "cm = metrics.confusion_matrix(y_test, y_test_pred)\n",
    "cm_display = metrics.ConfusionMatrixDisplay(cm, display_labels=['0', '1'])\n",
    "cm_display.plot(ax=ax)\n",
    "ax.set_title('Confusion matrix for testing set')\n",
    "plt.show()"
   ]
  },
  {
   "cell_type": "code",
   "execution_count": 12,
   "metadata": {},
   "outputs": [
    {
     "data": {
      "image/png": "[encoded data removed]",
      "text/plain": [
       "<Figure size 432x288 with 1 Axes>"
      ]
     },
     "metadata": {
      "needs_background": "light"
     },
     "output_type": "display_data"
    },
    {
     "data": {
      "image/png": "[encoded data removed]",
      "text/plain": [
       "<Figure size 432x288 with 1 Axes>"
      ]
     },
     "metadata": {
      "needs_background": "light"
     },
     "output_type": "display_data"
    }
   ],
   "source": [
    "# Plot ROC curve\n",
    "fpr, tpr, thresholds = metrics.roc_curve(y_train, y_train_pred)\n",
    "roc_auc = metrics.auc(fpr, tpr)\n",
    "plt.plot(fpr, tpr, label='ROC curve (area = %0.2f)' % roc_auc)\n",
    "plt.plot([0, 1], [0, 1], 'k--')\n",
    "plt.xlim([0.0, 1.0])\n",
    "plt.ylim([0.0, 1.05])\n",
    "plt.xlabel('False Positive Rate')\n",
    "plt.ylabel('True Positive Rate')\n",
    "plt.title('ROC Curve for Train Set')\n",
    "plt.legend(loc=\"lower right\")\n",
    "plt.show()\n",
    "\n",
    "fpr, tpr, thresholds = metrics.roc_curve(y_test, y_test_pred)\n",
    "roc_auc = metrics.auc(fpr, tpr)\n",
    "plt.plot(fpr, tpr, label='ROC curve (area = %0.2f)' % roc_auc)\n",
    "plt.plot([0, 1], [0, 1], 'k--')\n",
    "plt.xlim([0.0, 1.0])\n",
    "plt.ylim([0.0, 1.05])\n",
    "plt.xlabel('False Positive Rate')\n",
    "plt.ylabel('True Positive Rate')\n",
    "plt.title('ROC Curve for Test Set')\n",
    "plt.legend(loc=\"lower right\")\n",
    "plt.show()"
   ]
  },
  {
   "cell_type": "markdown",
   "metadata": {},
   "source": [
    "#### (iv) Compare"
   ]
  },
  {
   "cell_type": "markdown",
   "metadata": {},
   "source": [
    "Supervised learning with the full data set can give us the best performance, as it has access to all the labeled data and can learn from it.\n",
    "\n",
    "In this case, semi-supervised learning performs nearly as well as supervised learning, although it tends to propagate the errors of the initial labeling and the model may become overconfident on incorrect predictions. \n",
    "\n",
    "Unsupervised learning is not expected to perform as well as supervised or semi-supervised learning in this scenario, as it does not have access to any labeled data and must rely solely on the structure of the data to identify clusters and make predictions.\n",
    "\n",
    "In this senario, spectral clustering with RBF kernel performs worse than k-means. This could be due to the sensitivity of spectral clustering to the choice of parameters such as gamma and the similarity matrix."
   ]
  },
  {
   "cell_type": "markdown",
   "metadata": {},
   "source": [
    "## 2. Active Learning Using Support Vector Machines"
   ]
  },
  {
   "cell_type": "markdown",
   "metadata": {},
   "source": [
    "### (a) Download the banknote authentication Data Set"
   ]
  },
  {
   "cell_type": "code",
   "execution_count": 3,
   "metadata": {},
   "outputs": [],
   "source": [
    "# download data\n",
    "url = \"https://archive.ics.uci.edu/ml/machine-learning-databases/00267/data_banknote_authentication.txt\"\n",
    "df = pd.read_csv(url, header=None)\n",
    "df.columns = [\"variance\", \"skewness\", \"curtosis\", \"entropy\", \"class\"]"
   ]
  },
  {
   "cell_type": "code",
   "execution_count": 4,
   "metadata": {},
   "outputs": [
    {
     "data": {
      "text/html": [
       "<div>\n",
       "<style scoped>\n",
       "    .dataframe tbody tr th:only-of-type {\n",
       "        vertical-align: middle;\n",
       "    }\n",
       "\n",
       "    .dataframe tbody tr th {\n",
       "        vertical-align: top;\n",
       "    }\n",
       "\n",
       "    .dataframe thead th {\n",
       "        text-align: right;\n",
       "    }\n",
       "</style>\n",
       "<table border=\"1\" class=\"dataframe\">\n",
       "  <thead>\n",
       "    <tr style=\"text-align: right;\">\n",
       "      <th></th>\n",
       "      <th>variance</th>\n",
       "      <th>skewness</th>\n",
       "      <th>curtosis</th>\n",
       "      <th>entropy</th>\n",
       "      <th>class</th>\n",
       "    </tr>\n",
       "  </thead>\n",
       "  <tbody>\n",
       "    <tr>\n",
       "      <th>0</th>\n",
       "      <td>3.62160</td>\n",
       "      <td>8.66610</td>\n",
       "      <td>-2.8073</td>\n",
       "      <td>-0.44699</td>\n",
       "      <td>0</td>\n",
       "    </tr>\n",
       "    <tr>\n",
       "      <th>1</th>\n",
       "      <td>4.54590</td>\n",
       "      <td>8.16740</td>\n",
       "      <td>-2.4586</td>\n",
       "      <td>-1.46210</td>\n",
       "      <td>0</td>\n",
       "    </tr>\n",
       "    <tr>\n",
       "      <th>2</th>\n",
       "      <td>3.86600</td>\n",
       "      <td>-2.63830</td>\n",
       "      <td>1.9242</td>\n",
       "      <td>0.10645</td>\n",
       "      <td>0</td>\n",
       "    </tr>\n",
       "    <tr>\n",
       "      <th>3</th>\n",
       "      <td>3.45660</td>\n",
       "      <td>9.52280</td>\n",
       "      <td>-4.0112</td>\n",
       "      <td>-3.59440</td>\n",
       "      <td>0</td>\n",
       "    </tr>\n",
       "    <tr>\n",
       "      <th>4</th>\n",
       "      <td>0.32924</td>\n",
       "      <td>-4.45520</td>\n",
       "      <td>4.5718</td>\n",
       "      <td>-0.98880</td>\n",
       "      <td>0</td>\n",
       "    </tr>\n",
       "    <tr>\n",
       "      <th>...</th>\n",
       "      <td>...</td>\n",
       "      <td>...</td>\n",
       "      <td>...</td>\n",
       "      <td>...</td>\n",
       "      <td>...</td>\n",
       "    </tr>\n",
       "    <tr>\n",
       "      <th>1367</th>\n",
       "      <td>0.40614</td>\n",
       "      <td>1.34920</td>\n",
       "      <td>-1.4501</td>\n",
       "      <td>-0.55949</td>\n",
       "      <td>1</td>\n",
       "    </tr>\n",
       "    <tr>\n",
       "      <th>1368</th>\n",
       "      <td>-1.38870</td>\n",
       "      <td>-4.87730</td>\n",
       "      <td>6.4774</td>\n",
       "      <td>0.34179</td>\n",
       "      <td>1</td>\n",
       "    </tr>\n",
       "    <tr>\n",
       "      <th>1369</th>\n",
       "      <td>-3.75030</td>\n",
       "      <td>-13.45860</td>\n",
       "      <td>17.5932</td>\n",
       "      <td>-2.77710</td>\n",
       "      <td>1</td>\n",
       "    </tr>\n",
       "    <tr>\n",
       "      <th>1370</th>\n",
       "      <td>-3.56370</td>\n",
       "      <td>-8.38270</td>\n",
       "      <td>12.3930</td>\n",
       "      <td>-1.28230</td>\n",
       "      <td>1</td>\n",
       "    </tr>\n",
       "    <tr>\n",
       "      <th>1371</th>\n",
       "      <td>-2.54190</td>\n",
       "      <td>-0.65804</td>\n",
       "      <td>2.6842</td>\n",
       "      <td>1.19520</td>\n",
       "      <td>1</td>\n",
       "    </tr>\n",
       "  </tbody>\n",
       "</table>\n",
       "<p>1372 rows × 5 columns</p>\n",
       "</div>"
      ],
      "text/plain": [
       "      variance  skewness  curtosis  entropy  class\n",
       "0      3.62160   8.66610   -2.8073 -0.44699      0\n",
       "1      4.54590   8.16740   -2.4586 -1.46210      0\n",
       "2      3.86600  -2.63830    1.9242  0.10645      0\n",
       "3      3.45660   9.52280   -4.0112 -3.59440      0\n",
       "4      0.32924  -4.45520    4.5718 -0.98880      0\n",
       "...        ...       ...       ...      ...    ...\n",
       "1367   0.40614   1.34920   -1.4501 -0.55949      1\n",
       "1368  -1.38870  -4.87730    6.4774  0.34179      1\n",
       "1369  -3.75030 -13.45860   17.5932 -2.77710      1\n",
       "1370  -3.56370  -8.38270   12.3930 -1.28230      1\n",
       "1371  -2.54190  -0.65804    2.6842  1.19520      1\n",
       "\n",
       "[1372 rows x 5 columns]"
      ]
     },
     "execution_count": 4,
     "metadata": {},
     "output_type": "execute_result"
    }
   ],
   "source": [
    "df"
   ]
  },
  {
   "cell_type": "code",
   "execution_count": 5,
   "metadata": {},
   "outputs": [],
   "source": [
    "# Split the data into features and target variable\n",
    "X = df.iloc[:, :-1]\n",
    "y = df.iloc[:, -1]\n",
    "\n",
    "# Split the data into training and test sets\n",
    "X_train, X_test, y_train, y_test = train_test_split(X, y, test_size=472)"
   ]
  },
  {
   "cell_type": "markdown",
   "metadata": {},
   "source": [
    "### (b) Repeat each of the following two procedures 50 times"
   ]
  },
  {
   "cell_type": "markdown",
   "metadata": {},
   "source": [
    "#### (i) Passive"
   ]
  },
  {
   "cell_type": "code",
   "execution_count": 26,
   "metadata": {},
   "outputs": [
    {
     "name": "stdout",
     "output_type": "stream",
     "text": [
      "Attempt 1\n",
      "Attempt 2\n",
      "Attempt 3\n",
      "Attempt 4\n",
      "Attempt 5\n",
      "Attempt 6\n",
      "Attempt 7\n",
      "Attempt 8\n",
      "Attempt 9\n",
      "Attempt 10\n",
      "Attempt 11\n",
      "Attempt 12\n",
      "Attempt 13\n",
      "Attempt 14\n",
      "Attempt 15\n",
      "Attempt 16\n",
      "Attempt 17\n",
      "Attempt 18\n",
      "Attempt 19\n",
      "Attempt 20\n",
      "Attempt 21\n",
      "Attempt 22\n",
      "Attempt 23\n",
      "Attempt 24\n",
      "Attempt 25\n",
      "Attempt 26\n",
      "Attempt 27\n",
      "Attempt 28\n",
      "Attempt 29\n",
      "Attempt 30\n",
      "Attempt 31\n",
      "Attempt 32\n",
      "Attempt 33\n",
      "Attempt 34\n",
      "Attempt 35\n",
      "Attempt 36\n",
      "Attempt 37\n",
      "Attempt 38\n",
      "Attempt 39\n",
      "Attempt 40\n",
      "Attempt 41\n",
      "Attempt 42\n",
      "Attempt 43\n",
      "Attempt 44\n",
      "Attempt 45\n",
      "Attempt 46\n",
      "Attempt 47\n",
      "Attempt 48\n",
      "Attempt 49\n",
      "Attempt 50\n"
     ]
    }
   ],
   "source": [
    "from sklearn.model_selection import GridSearchCV\n",
    "from sklearn.svm import SVC\n",
    "\n",
    "test_errors_passive = []\n",
    "\n",
    "for j in range(50):\n",
    "    X_train_pool = pd.DataFrame()\n",
    "    y_train_pool = pd.DataFrame()\n",
    "    X_train_remaining = X_train\n",
    "    y_train_remaining = y_train\n",
    "\n",
    "    test_errors = np.zeros(90)\n",
    "    \n",
    "    for i in range(90):\n",
    "        # a pool of 10 randomly selected data points from training set\n",
    "        X_train_pool = pd.concat([X_train_pool, X_train_remaining.iloc[:10,:]])\n",
    "        X_train_remaining = X_train_remaining.iloc[10:,:]\n",
    "        y_train_pool = pd.concat([y_train_pool, y_train_remaining.iloc[:10]])\n",
    "        y_train_remaining = y_train_remaining.iloc[10:]\n",
    "\n",
    "        # Define the SVM model and parameter grid for cross-validation\n",
    "        svm = LinearSVC(penalty='l1', dual=False, max_iter=50000)\n",
    "        param_grid = {'C': [0.001, 0.01, 0.1, 1, 10, 100, 1000, 10000]}\n",
    "\n",
    "        # Perform 5-fold cross-validation to select the penalty parameter\n",
    "        svm_cv = GridSearchCV(svm, param_grid, cv=5, scoring='accuracy')\n",
    "        svm_cv.fit(X_train_pool, y_train_pool.to_numpy().ravel())\n",
    "\n",
    "        # Train an SVM on the entire training set with the selected penalty parameter\n",
    "        svm_final = LinearSVC(penalty='l1', dual=False, C=svm_cv.best_params_['C'], max_iter=10000)\n",
    "        svm_final.fit(X_train_pool, y_train_pool.to_numpy().ravel())\n",
    "\n",
    "        # Save the test errors of 90 SVMs\n",
    "        test_error = 1 - svm_final.score(X_test, y_test)\n",
    "        test_errors[i] = test_error\n",
    "\n",
    "    # Save the test errors of 50 Monte Carlo simulations\n",
    "    test_errors_passive.append(test_errors)\n",
    "    print(\"Attempt {}\".format(j+1))"
   ]
  },
  {
   "cell_type": "markdown",
   "metadata": {},
   "source": [
    "#### (ii) Active"
   ]
  },
  {
   "cell_type": "code",
   "execution_count": 52,
   "metadata": {},
   "outputs": [
    {
     "name": "stdout",
     "output_type": "stream",
     "text": [
      "Attempt 1\n",
      "Attempt 2\n",
      "Attempt 3\n",
      "Attempt 4\n",
      "Attempt 5\n",
      "Attempt 6\n",
      "Attempt 7\n",
      "Attempt 8\n",
      "Attempt 9\n",
      "Attempt 10\n",
      "Attempt 11\n",
      "Attempt 12\n",
      "Attempt 13\n",
      "Attempt 14\n",
      "Attempt 15\n",
      "Attempt 16\n",
      "Attempt 17\n",
      "Attempt 18\n",
      "Attempt 19\n",
      "Attempt 20\n",
      "Attempt 21\n",
      "Attempt 22\n",
      "Attempt 23\n",
      "Attempt 24\n",
      "Attempt 25\n",
      "Attempt 26\n",
      "Attempt 27\n",
      "Attempt 28\n",
      "Attempt 29\n",
      "Attempt 30\n",
      "Attempt 31\n",
      "Attempt 32\n",
      "Attempt 33\n",
      "Attempt 34\n",
      "Attempt 35\n",
      "Attempt 36\n",
      "Attempt 37\n",
      "Attempt 38\n",
      "Attempt 39\n",
      "Attempt 40\n",
      "Attempt 41\n",
      "Attempt 42\n",
      "Attempt 43\n",
      "Attempt 44\n",
      "Attempt 45\n",
      "Attempt 46\n",
      "Attempt 47\n",
      "Attempt 48\n",
      "Attempt 49\n",
      "Attempt 50\n"
     ]
    }
   ],
   "source": [
    "import warnings\n",
    "warnings.filterwarnings(\"ignore\")\n",
    "\n",
    "test_errors_active = []\n",
    "\n",
    "for j in range(50):\n",
    "    X_train_pool = pd.DataFrame()\n",
    "    y_train_pool = pd.DataFrame()\n",
    "    X_train_remaining = X_train\n",
    "    y_train_remaining = y_train\n",
    "\n",
    "    test_errors = np.zeros(90)\n",
    "    \n",
    "    # select the first ten points randomly and train SVM\n",
    "    X_train_pool = pd.concat([X_train_pool, X_train_remaining.iloc[:10,:]])\n",
    "    X_train_remaining = X_train_remaining.iloc[10:,:]\n",
    "    y_train_pool = pd.concat([y_train_pool, y_train_remaining.iloc[:10]])\n",
    "    y_train_remaining = y_train_remaining.iloc[10:]\n",
    "    \n",
    "    svm = LinearSVC(penalty='l1', dual=False, max_iter=50000)\n",
    "    param_grid = {'C': [0.001, 0.01, 0.1, 1, 10, 100, 1000, 10000]}\n",
    "    svm_cv = GridSearchCV(svm, param_grid, cv=5, scoring='accuracy')\n",
    "    svm_cv.fit(X_train_pool, y_train_pool.to_numpy().ravel())\n",
    "    svm_final = LinearSVC(penalty='l1', dual=False, C=svm_cv.best_params_['C'], max_iter=50000)\n",
    "    svm_final.fit(X_train_pool, y_train_pool.to_numpy().ravel())\n",
    "    \n",
    "    test_error = 1 - svm_final.score(X_test, y_test)\n",
    "    test_errors[0] = test_error\n",
    "    \n",
    "    for i in range(1,90):\n",
    "        # If all selected data points are from one class, select another set of 10 data points randomly\n",
    "        if np.unique(y_train_pool).size == 1:\n",
    "            X_train_pool = pd.concat([X_train_pool, X_train_remaining.iloc[:10,:]])\n",
    "            X_train_remaining = X_train_remaining.iloc[10:,:]\n",
    "            y_train_pool = pd.concat([y_train_pool, y_train_remaining.iloc[:10]])\n",
    "            y_train_remaining = y_train_remaining.iloc[10:]\n",
    "        \n",
    "        else:\n",
    "            # Choose the 10 closest data points in the training set to the hyperplane of the SVM and add them to the pool\n",
    "            distances = svm_final.decision_function(X_train_remaining)\n",
    "            distances_sorted = np.argsort(np.abs(distances))\n",
    "            closest_indices = distances_sorted[:10]\n",
    "            \n",
    "            X_train_remaining = X_train_remaining.reset_index(drop=True)\n",
    "            y_train_remaining = y_train_remaining.reset_index(drop=True)\n",
    "            X_train_pool = pd.concat([X_train_pool, X_train_remaining.iloc[closest_indices]])\n",
    "            X_train_remaining = X_train_remaining.drop(closest_indices, axis=0)\n",
    "            y_train_pool = pd.concat([y_train_pool, y_train_remaining.iloc[closest_indices]])\n",
    "            y_train_remaining = y_train_remaining.drop(closest_indices, axis=0)\n",
    "\n",
    "        # Define the SVM model and parameter grid for cross-validation\n",
    "        svm = LinearSVC(penalty='l1', dual=False, max_iter=50000)\n",
    "        param_grid = {'C': [0.001, 0.01, 0.1, 1, 10, 100, 1000, 10000]}\n",
    "\n",
    "        # Perform 5-fold cross-validation to select the penalty parameter\n",
    "        svm_cv = GridSearchCV(svm, param_grid, cv=5, scoring='accuracy')\n",
    "        svm_cv.fit(X_train_pool, y_train_pool.to_numpy().ravel())\n",
    "\n",
    "        # Train an SVM on the entire training set with the selected penalty parameter\n",
    "        svm_final = LinearSVC(penalty='l1', dual=False, C=svm_cv.best_params_['C'], max_iter=50000)\n",
    "        svm_final.fit(X_train_pool, y_train_pool.to_numpy().ravel())\n",
    "\n",
    "        # Save the test errors of 90 SVMs\n",
    "        test_error = 1 - svm_final.score(X_test, y_test)\n",
    "        test_errors[i] = test_error\n",
    "        \n",
    "        # print(\"Attempt {}\".format(i+1))\n",
    "        # print(\"Test error:\", test_error)\n",
    "\n",
    "    # Save the test errors of 50 Monte Carlo simulations\n",
    "    test_errors_active.append(test_errors)\n",
    "    print(\"Attempt {}\".format(j+1))"
   ]
  },
  {
   "cell_type": "markdown",
   "metadata": {},
   "source": [
    "### (c) Average the 50 test errors"
   ]
  },
  {
   "cell_type": "code",
   "execution_count": 59,
   "metadata": {},
   "outputs": [],
   "source": [
    "passive_averages = [sum(sublst)/len(sublst) for sublst in zip(*test_errors_passive)]"
   ]
  },
  {
   "cell_type": "code",
   "execution_count": 61,
   "metadata": {},
   "outputs": [],
   "source": [
    "active_averages = [sum(sublst)/len(sublst) for sublst in zip(*test_errors_active)]"
   ]
  },
  {
   "cell_type": "code",
   "execution_count": 66,
   "metadata": {},
   "outputs": [
    {
     "data": {
      "image/png": "[encoded data removed]",
      "text/plain": [
       "<Figure size 720x432 with 1 Axes>"
      ]
     },
     "metadata": {
      "needs_background": "light"
     },
     "output_type": "display_data"
    }
   ],
   "source": [
    "training_instances = list(range(10, 910, 10))\n",
    "plt.figure(figsize=(10, 6)) \n",
    "plt.plot(training_instances, active_averages, label='Active Learner')\n",
    "plt.plot(training_instances, passive_averages, label='Passive Learner')\n",
    "plt.xlabel('Number of Training Instances')\n",
    "plt.ylabel('Average Test Error')\n",
    "plt.title('Learning Curves for Active and Passive Learners')\n",
    "plt.legend()\n",
    "plt.show()"
   ]
  },
  {
   "cell_type": "markdown",
   "metadata": {},
   "source": [
    "Here, active learning is more stable and decreases faster than passive learning because active learning chooses the most informative instances to add to the training set, whereas passive learning randomly selects instances. Active learning can also achieve higher accuracy with a smaller training set and can reduce the labeling cost associated with labeling uninformative instances.\n",
    "\n",
    "However, active learning test error may start to increase in the end if the algorithm has exhausted the most informative samples and is forced to sample from less informative ones. In other words, the pool of remaining unlabeled samples may have become less diverse and informative as the algorithm progresses, leading to a decrease in performance."
   ]
  },
  {
   "cell_type": "code",
   "execution_count": null,
   "metadata": {},
   "outputs": [],
   "source": []
  }
 ],
 "metadata": {
  "kernelspec": {
   "display_name": "Python 3.9.12",
   "language": "python",
   "name": "python3"
  },
  "language_info": {
   "codemirror_mode": {
    "name": "ipython",
    "version": 3
   },
   "file_extension": ".py",
   "mimetype": "text/x-python",
   "name": "python",
   "nbconvert_exporter": "python",
   "pygments_lexer": "ipython3",
   "version": "3.9.12"
  },
  "vscode": {
   "interpreter": {
    "hash": "3c20c2d94d2527936fe0f3a300eb11db30fed84423423838e2f93b74eb7aaebc"
   }
  }
 },
 "nbformat": 4,
 "nbformat_minor": 4
}
